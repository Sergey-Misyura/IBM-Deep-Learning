{
 "cells": [
  {
   "cell_type": "markdown",
   "metadata": {},
   "source": [
    "<img src=\"https://cf-courses-data.s3.us.cloud-object-storage.appdomain.cloud/IBMDeveloperSkillsNetwork-DL0120EN-SkillsNetwork/images/IDSN-logo.png\" width=\"300\" alt=\"cognitiveclass.ai logo\">\n",
    "\n",
    "<h1 align=\"center\"><font size=\"5\">RECURRENT NETWORKS and LSTM IN DEEP LEARNING</font></h1>\n"
   ]
  },
  {
   "cell_type": "markdown",
   "metadata": {},
   "source": [
    "<h2>Applying Recurrent Neural Networks/LSTM for Language Modeling</h2>\n",
    "Hello and welcome to this part. In this notebook, we will go over the topic of Language Modelling, and create a Recurrent Neural Network model based on the Long Short-Term Memory unit to train and benchmark on the Penn Treebank dataset. By the end of this notebook, you should be able to understand how TensorFlow builds and executes a RNN model for Language Modelling.\n"
   ]
  },
  {
   "cell_type": "markdown",
   "metadata": {},
   "source": [
    "<h2>The Objective</h2>\n",
    "By now, you should have an understanding of how Recurrent Networks work -- a specialized model to process sequential data by keeping track of the \"state\" or context. In this notebook, we go over a TensorFlow code snippet for creating a model focused on <b>Language Modelling</b> -- a very relevant task that is the cornerstone of many different linguistic problems such as <b>Speech Recognition, Machine Translation and Image Captioning</b>. For this, we will be using the Penn Treebank dataset, which is an often-used dataset for benchmarking Language Modelling models.\n"
   ]
  },
  {
   "cell_type": "markdown",
   "metadata": {},
   "source": [
    "<h3>Objectives<h3>    \n",
    "<h5> 1. What exactly is Language Modelling? </h5>\n",
    "<h5> 2. Work Embedding. </h5>\n",
    "<h5> 3. Applying Recurrent Neural Networks to Text Processing. </h5>\n",
    "<h5> 4. Building the LSTM model for Language Modeling. </h5>     \n"
   ]
  },
  {
   "cell_type": "markdown",
   "metadata": {},
   "source": [
    "<h2>Table of Contents</h2>\n",
    "<ol>\n",
    "    <li><a href=\"#language_modelling\">What exactly is Language Modelling?</a></li>\n",
    "    <li><a href=\"#treebank_dataset\">The Penn Treebank dataset</a></li>\n",
    "    <li><a href=\"#word_embedding\">Word Embedding</a></li>\n",
    "    <li><a href=\"#building_lstm_model\">Building the LSTM model for Language Modeling</a></li>\n",
    "    <li><a href=\"#ltsm\">LTSM</a></li>\n",
    "</ol>\n",
    "<p></p>\n",
    "</div>\n",
    "<br>\n"
   ]
  },
  {
   "cell_type": "markdown",
   "metadata": {},
   "source": [
    "* * *\n"
   ]
  },
  {
   "cell_type": "markdown",
   "metadata": {},
   "source": [
    "<a id=\"language_modelling\"></a>\n",
    "\n",
    "<h2>What exactly is Language Modelling?</h2>\n",
    "Language Modelling, to put it simply, <b>is the task of assigning probabilities to sequences of words</b>. This means that, given a context of one or a sequence of words in the language the model was trained on, the model should provide the next most probable words or sequence of words that follows from the given sequence of words the sentence. Language Modelling is one of the most important tasks in Natural Language Processing.\n",
    "\n",
    "<img src=\"https://ibm.box.com/shared/static/1d1i5gub6wljby2vani2vzxp0xsph702.png\" width=\"1080\">\n",
    "<center><i>Example of a sentence being predicted</i></center>\n",
    "<br><br>\n",
    "In this example, one can see the predictions for the next word of a sentence, given the context \"This is an\". As you can see, this boils down to a sequential data analysis task -- you are given a word or a sequence of words (the input data), and, given the context (the state), you need to find out what is the next word (the prediction). This kind of analysis is very important for language-related tasks such as <b>Speech Recognition, Machine Translation, Image Captioning, Text Correction</b> and many other very relevant problems. \n",
    "\n",
    "<img src=\"https://ibm.box.com/shared/static/az39idf9ipfdpc5ugifpgxnydelhyf3i.png\" width=\"1080\">\n",
    "<center><i>The above example is a schema of an RNN in execution</i></center>\n",
    "<br><br>\n",
    "As the above image shows, Recurrent Network models fit this problem like a glove. Alongside LSTM and its capacity to maintain the model's state for over one thousand time steps, we have all the tools we need to undertake this problem. The goal for this notebook is to create a model that can reach <b>low levels of perplexity</b> on our desired dataset.\n",
    "\n",
    "For Language Modelling problems, <b>perplexity</b> is the way to gauge efficiency. Perplexity is simply a measure of how well a probabilistic model is able to predict its sample. A higher-level way to explain this would be saying that <b>low perplexity means a higher degree of trust in the predictions the model makes</b>. Therefore, the lower perplexity is, the better.\n"
   ]
  },
  {
   "cell_type": "markdown",
   "metadata": {},
   "source": [
    "<a id=\"treebank_dataset\"></a>\n",
    "\n",
    "<h2>The Penn Treebank dataset</h2>\n",
    "Historically, datasets big enough for Natural Language Processing are hard to come by. This is in part due to the necessity of the sentences to be broken down and tagged with a certain degree of correctness -- or else the models trained on it won't be able to be correct at all. This means that we need a <b>large amount of data, annotated by or at least corrected by humans</b>. This is, of course, not an easy task at all.\n",
    "\n",
    "The Penn Treebank, or PTB for short, is a dataset maintained by the University of Pennsylvania. It is <i>huge</i> -- there are over <b>four million and eight hundred thousand</b> annotated words in it, all corrected by humans. It is composed of many different sources, from abstracts of Department of Energy papers to texts from the Library of America. Since it is verifiably correct and of such a huge size, the Penn Treebank is commonly used as a benchmark dataset for Language Modelling.\n",
    "\n",
    "The dataset is divided in different kinds of annotations, such as Piece-of-Speech, Syntactic and Semantic skeletons. For this example, we will simply use a sample of clean, non-annotated words (with the exception of one tag --<code>&lt;unk></code>\n",
    ", which is used for rare words such as uncommon proper nouns) for our model. This means that we just want to predict what the next words would be, not what they mean in context or their classes on a given sentence.\n",
    "\n",
    "<center>Example of text from the dataset we are going to use, <b>ptb.train</b></center>\n",
    "<br><br>\n",
    "\n",
    "<div class=\"alert alert-block alert-info\" style=\"margin-top: 20px\">\n",
    "    <center>the percentage of lung cancer deaths among the workers at the west <code>&lt;unk&gt;</code> mass. paper factory appears to be the highest for any asbestos workers studied in western industrialized countries he said \n",
    " the plant which is owned by <code>&lt;unk&gt;</code> & <code>&lt;unk&gt;</code> co. was under contract with <code>&lt;unk&gt;</code> to make the cigarette filters \n",
    " the finding probably will support those who argue that the U.S. should regulate the class of asbestos including <code>&lt;unk&gt;</code> more <code>&lt;unk&gt;</code> than the common kind of asbestos <code>&lt;unk&gt;</code> found in most schools and other buildings dr. <code>&lt;unk&gt;</code> said</center>\n",
    "</div>\n"
   ]
  },
  {
   "cell_type": "markdown",
   "metadata": {},
   "source": [
    "<a id=\"word_embedding\"></a>\n",
    "\n",
    "<h2>Word Embeddings</h2><br/>\n",
    "\n",
    "For better processing, in this example, we will make use of <a href=\"https://www.tensorflow.org/tutorials/word2vec/?utm_medium=Exinfluencer&utm_source=Exinfluencer&utm_content=000026UJ&utm_term=10006555&utm_id=NA-SkillsNetwork-Channel-SkillsNetworkCoursesIBMDeveloperSkillsNetworkDL0120ENSkillsNetwork954-2022-01-01\"><b>word embeddings</b></a>, which is <b>a way of representing sentence structures or words as n-dimensional vectors (where n is a reasonably high number, such as 200 or 500) of real numbers</b>. Basically, we will assign each word a randomly-initialized vector, and input those into the network to be processed. After a number of iterations, these vectors are expected to assume values that help the network to correctly predict what it needs to -- in our case, the probable next word in the sentence. This is shown to be a very effective task in Natural Language Processing, and is a commonplace practice.\n",
    "<br><br>\n",
    "<font size=\"4\"><strong>\n",
    "$$Vec(\"Example\") = [0.02, 0.00, 0.00, 0.92, 0.30, \\ldots]$$\n",
    "</strong></font>\n",
    "<br>\n",
    "Word Embedding tends to group up similarly used words <i>reasonably</i> close together in the vectorial space. For example, if we use T-SNE (a dimensional reduction visualization algorithm) to flatten the dimensions of our vectors into a 2-dimensional space and plot these words in a 2-dimensional space, we might see something like this:\n",
    "\n",
    "<img src=\"https://ibm.box.com/shared/static/bqhc5dg879gcoabzhxra1w8rkg3od1cu.png\" width=\"800\">\n",
    "<center><i>T-SNE Mockup with clusters marked for easier visualization</i></center>\n",
    "<br><br>\n",
    "As you can see, words that are frequently used together, in place of each other, or in the same places as them tend to be grouped together -- being closer together the higher they are correlated. For example, \"None\" is pretty semantically close to \"Zero\", while a phrase that uses \"Italy\", you could probably also fit \"Germany\" in it, with little damage to the sentence structure. The vectorial \"closeness\" for similar words like this is a great indicator of a well-built model.\n",
    "\n",
    "<hr>\n",
    " \n"
   ]
  },
  {
   "cell_type": "markdown",
   "metadata": {},
   "source": [
    "We need to import the necessary modules for our code. We need <b><code>numpy</code></b> and <b><code>tensorflow</code></b>, obviously. Additionally, we can import directly the <b><code>tensorflow.models.rnn</code></b> model, which includes the function for building RNNs, and <b><code>tensorflow.models.rnn.ptb.reader</code></b> which is the helper module for getting the input data from the dataset we just downloaded.\n",
    "\n",
    "If you want to learn more take a look at <https://github.com/tensorflow/models/blob/master/tutorials/rnn/ptb/reader.py>\n"
   ]
  },
  {
   "cell_type": "code",
   "execution_count": 2,
   "metadata": {
    "collapsed": true,
    "jupyter": {
     "outputs_hidden": true
    },
    "tags": []
   },
   "outputs": [
    {
     "name": "stderr",
     "output_type": "stream",
     "text": [
      "WARNING: There was an error checking the latest version of pip.\n"
     ]
    },
    {
     "name": "stdout",
     "output_type": "stream",
     "text": [
      "Requirement already satisfied: tensorflow in c:\\python39\\lib\\site-packages (2.8.0)\n",
      "Requirement already satisfied: gast>=0.2.1 in c:\\python39\\lib\\site-packages (from tensorflow) (0.5.3)\n",
      "Requirement already satisfied: astunparse>=1.6.0 in c:\\python39\\lib\\site-packages (from tensorflow) (1.6.3)\n",
      "Requirement already satisfied: tensorflow-io-gcs-filesystem>=0.23.1 in c:\\python39\\lib\\site-packages (from tensorflow) (0.24.0)\n",
      "Requirement already satisfied: libclang>=9.0.1 in c:\\python39\\lib\\site-packages (from tensorflow) (13.0.0)\n",
      "Requirement already satisfied: flatbuffers>=1.12 in c:\\python39\\lib\\site-packages (from tensorflow) (2.0)\n",
      "Requirement already satisfied: keras-preprocessing>=1.1.1 in c:\\python39\\lib\\site-packages (from tensorflow) (1.1.2)\n",
      "Requirement already satisfied: tensorboard<2.9,>=2.8 in c:\\python39\\lib\\site-packages (from tensorflow) (2.8.0)\n",
      "Requirement already satisfied: typing-extensions>=3.6.6 in c:\\python39\\lib\\site-packages (from tensorflow) (4.1.1)\n",
      "Requirement already satisfied: h5py>=2.9.0 in c:\\python39\\lib\\site-packages (from tensorflow) (3.6.0)\n",
      "Requirement already satisfied: termcolor>=1.1.0 in c:\\python39\\lib\\site-packages (from tensorflow) (1.1.0)\n",
      "Requirement already satisfied: six>=1.12.0 in c:\\python39\\lib\\site-packages (from tensorflow) (1.16.0)\n",
      "Requirement already satisfied: absl-py>=0.4.0 in c:\\python39\\lib\\site-packages (from tensorflow) (1.0.0)\n",
      "Requirement already satisfied: tf-estimator-nightly==2.8.0.dev2021122109 in c:\\python39\\lib\\site-packages (from tensorflow) (2.8.0.dev2021122109)\n",
      "Requirement already satisfied: keras<2.9,>=2.8.0rc0 in c:\\python39\\lib\\site-packages (from tensorflow) (2.8.0)\n",
      "Requirement already satisfied: setuptools in c:\\python39\\lib\\site-packages (from tensorflow) (57.4.0)\n",
      "Requirement already satisfied: protobuf>=3.9.2 in c:\\python39\\lib\\site-packages (from tensorflow) (3.11.2)\n",
      "Requirement already satisfied: numpy>=1.20 in c:\\python39\\lib\\site-packages (from tensorflow) (1.21.4)\n",
      "Requirement already satisfied: opt-einsum>=2.3.2 in c:\\python39\\lib\\site-packages (from tensorflow) (3.3.0)\n",
      "Requirement already satisfied: google-pasta>=0.1.1 in c:\\python39\\lib\\site-packages (from tensorflow) (0.2.0)\n",
      "Requirement already satisfied: wrapt>=1.11.0 in c:\\python39\\lib\\site-packages (from tensorflow) (1.13.3)\n",
      "Requirement already satisfied: grpcio<2.0,>=1.24.3 in c:\\python39\\lib\\site-packages (from tensorflow) (1.44.0)\n",
      "Requirement already satisfied: wheel<1.0,>=0.23.0 in c:\\python39\\lib\\site-packages (from astunparse>=1.6.0->tensorflow) (0.37.1)\n",
      "Requirement already satisfied: markdown>=2.6.8 in c:\\python39\\lib\\site-packages (from tensorboard<2.9,>=2.8->tensorflow) (3.3.6)\n",
      "Requirement already satisfied: google-auth-oauthlib<0.5,>=0.4.1 in c:\\python39\\lib\\site-packages (from tensorboard<2.9,>=2.8->tensorflow) (0.4.6)\n",
      "Requirement already satisfied: werkzeug>=0.11.15 in c:\\python39\\lib\\site-packages (from tensorboard<2.9,>=2.8->tensorflow) (2.0.3)\n",
      "Requirement already satisfied: tensorboard-data-server<0.7.0,>=0.6.0 in c:\\python39\\lib\\site-packages (from tensorboard<2.9,>=2.8->tensorflow) (0.6.1)\n",
      "Requirement already satisfied: requests<3,>=2.21.0 in c:\\python39\\lib\\site-packages (from tensorboard<2.9,>=2.8->tensorflow) (2.26.0)\n",
      "Requirement already satisfied: tensorboard-plugin-wit>=1.6.0 in c:\\python39\\lib\\site-packages (from tensorboard<2.9,>=2.8->tensorflow) (1.8.1)\n",
      "Requirement already satisfied: google-auth<3,>=1.6.3 in c:\\python39\\lib\\site-packages (from tensorboard<2.9,>=2.8->tensorflow) (2.6.0)\n",
      "Requirement already satisfied: pyasn1-modules>=0.2.1 in c:\\python39\\lib\\site-packages (from google-auth<3,>=1.6.3->tensorboard<2.9,>=2.8->tensorflow) (0.2.8)\n",
      "Requirement already satisfied: rsa<5,>=3.1.4 in c:\\python39\\lib\\site-packages (from google-auth<3,>=1.6.3->tensorboard<2.9,>=2.8->tensorflow) (4.8)\n",
      "Requirement already satisfied: cachetools<6.0,>=2.0.0 in c:\\python39\\lib\\site-packages (from google-auth<3,>=1.6.3->tensorboard<2.9,>=2.8->tensorflow) (5.0.0)\n",
      "Requirement already satisfied: requests-oauthlib>=0.7.0 in c:\\python39\\lib\\site-packages (from google-auth-oauthlib<0.5,>=0.4.1->tensorboard<2.9,>=2.8->tensorflow) (1.3.1)\n",
      "Requirement already satisfied: importlib-metadata>=4.4 in c:\\python39\\lib\\site-packages (from markdown>=2.6.8->tensorboard<2.9,>=2.8->tensorflow) (4.11.1)\n",
      "Requirement already satisfied: idna<4,>=2.5 in c:\\python39\\lib\\site-packages (from requests<3,>=2.21.0->tensorboard<2.9,>=2.8->tensorflow) (3.2)\n",
      "Requirement already satisfied: charset-normalizer~=2.0.0 in c:\\python39\\lib\\site-packages (from requests<3,>=2.21.0->tensorboard<2.9,>=2.8->tensorflow) (2.0.6)\n",
      "Requirement already satisfied: urllib3<1.27,>=1.21.1 in c:\\python39\\lib\\site-packages (from requests<3,>=2.21.0->tensorboard<2.9,>=2.8->tensorflow) (1.26.7)\n",
      "Requirement already satisfied: certifi>=2017.4.17 in c:\\python39\\lib\\site-packages (from requests<3,>=2.21.0->tensorboard<2.9,>=2.8->tensorflow) (2022.6.15)\n",
      "Requirement already satisfied: zipp>=0.5 in c:\\python39\\lib\\site-packages (from importlib-metadata>=4.4->markdown>=2.6.8->tensorboard<2.9,>=2.8->tensorflow) (3.7.0)\n",
      "Requirement already satisfied: pyasn1<0.5.0,>=0.4.6 in c:\\python39\\lib\\site-packages (from pyasn1-modules>=0.2.1->google-auth<3,>=1.6.3->tensorboard<2.9,>=2.8->tensorflow) (0.4.8)\n",
      "Requirement already satisfied: oauthlib>=3.0.0 in c:\\python39\\lib\\site-packages (from requests-oauthlib>=0.7.0->google-auth-oauthlib<0.5,>=0.4.1->tensorboard<2.9,>=2.8->tensorflow) (3.2.0)\n",
      "Requirement already satisfied: numpy in c:\\python39\\lib\\site-packages (1.21.4)\n"
     ]
    },
    {
     "name": "stderr",
     "output_type": "stream",
     "text": [
      "WARNING: There was an error checking the latest version of pip.\n"
     ]
    }
   ],
   "source": [
    "!pip install tensorflow\n",
    "!pip install numpy\n"
   ]
  },
  {
   "cell_type": "code",
   "execution_count": 3,
   "metadata": {},
   "outputs": [
    {
     "name": "stdout",
     "output_type": "stream",
     "text": [
      "2.8.0\n"
     ]
    },
    {
     "ename": "ValueError",
     "evalue": "please upgrade to TensorFlow 2.2.0-rc0, or restart your Kernel (Kernel->Restart & Clear Output)",
     "output_type": "error",
     "traceback": [
      "\u001b[1;31m---------------------------------------------------------------------------\u001b[0m",
      "\u001b[1;31mValueError\u001b[0m                                Traceback (most recent call last)",
      "\u001b[1;32mC:\\Users\\D899~1\\AppData\\Local\\Temp/ipykernel_26040/3163542389.py\u001b[0m in \u001b[0;36m<module>\u001b[1;34m\u001b[0m\n\u001b[0;32m      4\u001b[0m \u001b[1;32mif\u001b[0m \u001b[1;32mnot\u001b[0m \u001b[0mtf\u001b[0m\u001b[1;33m.\u001b[0m\u001b[0m__version__\u001b[0m \u001b[1;33m==\u001b[0m \u001b[1;34m'2.2.0-rc0'\u001b[0m\u001b[1;33m:\u001b[0m\u001b[1;33m\u001b[0m\u001b[1;33m\u001b[0m\u001b[0m\n\u001b[0;32m      5\u001b[0m     \u001b[0mprint\u001b[0m\u001b[1;33m(\u001b[0m\u001b[0mtf\u001b[0m\u001b[1;33m.\u001b[0m\u001b[0m__version__\u001b[0m\u001b[1;33m)\u001b[0m\u001b[1;33m\u001b[0m\u001b[1;33m\u001b[0m\u001b[0m\n\u001b[1;32m----> 6\u001b[1;33m     \u001b[1;32mraise\u001b[0m \u001b[0mValueError\u001b[0m\u001b[1;33m(\u001b[0m\u001b[1;34m'please upgrade to TensorFlow 2.2.0-rc0, or restart your Kernel (Kernel->Restart & Clear Output)'\u001b[0m\u001b[1;33m)\u001b[0m\u001b[1;33m\u001b[0m\u001b[1;33m\u001b[0m\u001b[0m\n\u001b[0m",
      "\u001b[1;31mValueError\u001b[0m: please upgrade to TensorFlow 2.2.0-rc0, or restart your Kernel (Kernel->Restart & Clear Output)"
     ]
    }
   ],
   "source": [
    "import time\n",
    "import numpy as np\n",
    "import tensorflow as tf\n",
    "if not tf.__version__ == '2.2.0-rc0':\n",
    "    print(tf.__version__)\n",
    "    raise ValueError('please upgrade to TensorFlow 2.2.0-rc0, or restart your Kernel (Kernel->Restart & Clear Output)')"
   ]
  },
  {
   "cell_type": "markdown",
   "metadata": {},
   "source": [
    "IMPORTANT! => Please restart the kernel by clicking on \"Kernel\"->\"Restart and Clear Outout\" and wait until all output disapears. Then your changes are beeing picked up\n"
   ]
  },
  {
   "cell_type": "code",
   "execution_count": 11,
   "metadata": {},
   "outputs": [
    {
     "name": "stdout",
     "output_type": "stream",
     "text": [
      "\n",
      "Saved under ptb.zip\n"
     ]
    }
   ],
   "source": [
    "!mkdir data\n",
    "!wget -q -O data/ptb.zip https://cf-courses-data.s3.us.cloud-object-storage.appdomain.cloud/IBM-ML241EN-SkillsNetwork/labs/datasets/ptb.zip\n",
    "!unzip -o data/ptb.zip -d data\n",
    "!cp data/ptb/reader.py. "
   ]
  },
  {
   "cell_type": "code",
   "execution_count": 18,
   "metadata": {},
   "outputs": [],
   "source": [
    "import reader"
   ]
  },
  {
   "cell_type": "markdown",
   "metadata": {},
   "source": [
    "<a id=\"building_lstm_model\"></a>\n",
    "\n",
    "<h2>Building the LSTM model for Language Modeling</h2>\n",
    "Now that we know exactly what we are doing, we can start building our model using TensorFlow. The very first thing we need to do is download and extract the <code>simple-examples</code> dataset, which can be done by executing the code cell below.\n"
   ]
  },
  {
   "cell_type": "code",
   "execution_count": 2,
   "metadata": {},
   "outputs": [
    {
     "name": "stdout",
     "output_type": "stream",
     "text": [
      "--2022-12-30 15:55:38--  http://www.fit.vutbr.cz/~imikolov/rnnlm/simple-examples.tgz\n",
      "Resolving www.fit.vutbr.cz (www.fit.vutbr.cz)... 147.229.9.23, 2001:67c:1220:809::93e5:917\n",
      "Connecting to www.fit.vutbr.cz (www.fit.vutbr.cz)|147.229.9.23|:80... connected.\n",
      "HTTP request sent, awaiting response... 200 OK\n",
      "Length: 34869662 (33M) [application/x-gtar]\n",
      "Saving to: ‘simple-examples.tgz’\n",
      "\n",
      "simple-examples.tgz 100%[===================>]  33.25M  9.42MB/s    in 3.5s    \n",
      "\n",
      "2022-12-30 15:55:43 (9.42 MB/s) - ‘simple-examples.tgz’ saved [34869662/34869662]\n",
      "\n"
     ]
    }
   ],
   "source": [
    "!wget http://www.fit.vutbr.cz/~imikolov/rnnlm/simple-examples.tgz \n",
    "!tar xzf simple-examples.tgz -C data/"
   ]
  },
  {
   "cell_type": "markdown",
   "metadata": {},
   "source": [
    "Additionally, for the sake of making it easy to play around with the model's hyperparameters, we can declare them beforehand. Feel free to change these -- you will see a difference in performance each time you change those!  \n"
   ]
  },
  {
   "cell_type": "code",
   "execution_count": 19,
   "metadata": {},
   "outputs": [],
   "source": [
    "#Initial weight scale\n",
    "init_scale = 0.1\n",
    "#Initial learning rate\n",
    "learning_rate = 1.0\n",
    "#Maximum permissible norm for the gradient (For gradient clipping -- another measure against Exploding Gradients)\n",
    "max_grad_norm = 5\n",
    "#The number of layers in our model\n",
    "num_layers = 2\n",
    "#The total number of recurrence steps, also known as the number of layers when our RNN is \"unfolded\"\n",
    "num_steps = 20\n",
    "#The number of processing units (neurons) in the hidden layers\n",
    "hidden_size_l1 = 256\n",
    "hidden_size_l2 = 128\n",
    "#The maximum number of epochs trained with the initial learning rate\n",
    "max_epoch_decay_lr = 4\n",
    "#The total number of epochs in training\n",
    "max_epoch = 15\n",
    "#The probability for keeping data in the Dropout Layer (This is an optimization, but is outside our scope for this notebook!)\n",
    "#At 1, we ignore the Dropout Layer wrapping.\n",
    "keep_prob = 1\n",
    "#The decay for the learning rate\n",
    "decay = 0.5\n",
    "#The size for each batch of data\n",
    "batch_size = 30\n",
    "#The size of our vocabulary\n",
    "vocab_size = 10000\n",
    "embeding_vector_size= 200\n",
    "#Training flag to separate training from testing\n",
    "is_training = 1\n",
    "#Data directory for our dataset\n",
    "data_dir = \"data/simple-examples/data/\""
   ]
  },
  {
   "cell_type": "markdown",
   "metadata": {},
   "source": [
    "Some clarifications for LSTM architecture based on the arguments:\n",
    "\n",
    "Network structure:\n",
    "\n",
    "<ul>\n",
    "    <li>In this network, the number of LSTM cells are 2. To give the model more expressive power, we can add multiple layers of LSTMs to process the data. The output of the first layer will become the input of the second and so on.\n",
    "    </li>\n",
    "    <li>The recurrence steps is 20, that is, when our RNN is \"Unfolded\", the recurrence step is 20.</li>   \n",
    "    <li>the structure is like:\n",
    "        <ul>\n",
    "            <li>200 input units -> [200x200] Weight -> 200 Hidden units (first layer) -> [200x200] Weight matrix  -> 200 Hidden units (second layer) ->  [200] weight Matrix -> 200 unit output</li>\n",
    "        </ul>\n",
    "    </li>\n",
    "</ul>\n",
    "<br>\n",
    "\n",
    "Input layer: \n",
    "\n",
    "<ul>\n",
    "    <li>The network has 200 input units.</li>\n",
    "    <li>Suppose each word is represented by an embedding vector of dimensionality e=200. The input layer of each cell will have 200 linear units. These e=200 linear units are connected to each of the h=200 LSTM units in the hidden layer (assuming there is only one hidden layer, though our case has 2 layers).\n",
    "    </li>\n",
    "    <li>The input shape is [batch_size, num_steps], that is [30x20]. It will turn into [30x20x200] after embedding, and then 20x[30x200]\n",
    "    </li>\n",
    "</ul>\n",
    "<br>\n",
    "\n",
    "Hidden layer:\n",
    "\n",
    "<ul>\n",
    "    <li>Each LSTM has 200 hidden units which is equivalent to the dimensionality of the embedding words and output.</li>\n",
    "</ul>\n",
    "<br>\n"
   ]
  },
  {
   "cell_type": "markdown",
   "metadata": {},
   "source": [
    "There is a lot to be done and a ton of information to process at the same time, so go over this code slowly. It may seem complex at first, but if you try to apply what you just learned about language modelling to the code you see, you should be able to understand it.\n",
    "\n",
    "This code is adapted from the <a href=\"https://github.com/tensorflow/models\">PTBModel</a> example bundled with the TensorFlow source code.\n",
    "\n",
    "<h3>Training data</h3>\n",
    "The story starts from data:\n",
    "<ul>\n",
    "    <li>Train data is a list of words, of size 929589, represented by numbers, e.g. [9971, 9972, 9974, 9975,...]</li>\n",
    "    <li>We read data as mini-batch of size b=30. Assume the size of each sentence is 20 words (num_steps = 20). Then it will take $$floor(\\frac{N}{b \\times h})+1=1548$$ iterations for the learner to go through all sentences once. Where N is the size of the list of words, b is batch size, and h is size of each sentence. So, the number of iterators is 1548\n",
    "    </li>\n",
    "    <li>Each batch data is read from train dataset of size 600, and shape of [30x20]</li>\n",
    "</ul>\n"
   ]
  },
  {
   "cell_type": "code",
   "execution_count": 20,
   "metadata": {},
   "outputs": [],
   "source": [
    "# Reads the data and separates it into training data, validation data and testing data\n",
    "raw_data = reader.ptb_raw_data(data_dir)\n",
    "train_data, valid_data, test_data, vocab, word_to_id = raw_data"
   ]
  },
  {
   "cell_type": "code",
   "execution_count": 21,
   "metadata": {},
   "outputs": [
    {
     "data": {
      "text/plain": [
       "929589"
      ]
     },
     "execution_count": 21,
     "metadata": {},
     "output_type": "execute_result"
    }
   ],
   "source": [
    "len(train_data)"
   ]
  },
  {
   "cell_type": "code",
   "execution_count": 22,
   "metadata": {},
   "outputs": [
    {
     "name": "stdout",
     "output_type": "stream",
     "text": [
      "['aer', 'banknote', 'berlitz', 'calloway', 'centrust', 'cluett', 'fromstein', 'gitano', 'guterman', 'hydro-quebec', 'ipo', 'kia', 'memotec', 'mlx', 'nahb', 'punts', 'rake', 'regatta', 'rubens', 'sim', 'snack-food', 'ssangyong', 'swapo', 'wachter', '<eos>', 'pierre', '<unk>', 'N', 'years', 'old', 'will', 'join', 'the', 'board', 'as', 'a', 'nonexecutive', 'director', 'nov.', 'N', '<eos>', 'mr.', '<unk>', 'is', 'chairman', 'of', '<unk>', 'n.v.', 'the', 'dutch', 'publishing', 'group', '<eos>', 'rudolph', '<unk>', 'N', 'years', 'old', 'and', 'former', 'chairman', 'of', 'consolidated', 'gold', 'fields', 'plc', 'was', 'named', 'a', 'nonexecutive', 'director', 'of', 'this', 'british', 'industrial', 'conglomerate', '<eos>', 'a', 'form', 'of', 'asbestos', 'once', 'used', 'to', 'make', 'kent', 'cigarette', 'filters', 'has', 'caused', 'a', 'high', 'percentage', 'of', 'cancer', 'deaths', 'among', 'a', 'group', 'of']\n"
     ]
    }
   ],
   "source": [
    "def id_to_word(id_list):\n",
    "    line = []\n",
    "    for w in id_list:\n",
    "        for word, wid in word_to_id.items():\n",
    "            if wid == w:\n",
    "                line.append(word)\n",
    "    return line            \n",
    "                \n",
    "\n",
    "print(id_to_word(train_data[0:100]))"
   ]
  },
  {
   "cell_type": "markdown",
   "metadata": {},
   "source": [
    "Lets just read one mini-batch now and feed our network:\n"
   ]
  },
  {
   "cell_type": "code",
   "execution_count": 23,
   "metadata": {},
   "outputs": [],
   "source": [
    "itera = reader.ptb_iterator(train_data, batch_size, num_steps)\n",
    "first_touple = itera.__next__()\n",
    "_input_data = first_touple[0]\n",
    "_targets = first_touple[1]"
   ]
  },
  {
   "cell_type": "code",
   "execution_count": 24,
   "metadata": {},
   "outputs": [
    {
     "data": {
      "text/plain": [
       "(30, 20)"
      ]
     },
     "execution_count": 24,
     "metadata": {},
     "output_type": "execute_result"
    }
   ],
   "source": [
    "_input_data.shape"
   ]
  },
  {
   "cell_type": "code",
   "execution_count": 25,
   "metadata": {},
   "outputs": [
    {
     "data": {
      "text/plain": [
       "(30, 20)"
      ]
     },
     "execution_count": 25,
     "metadata": {},
     "output_type": "execute_result"
    }
   ],
   "source": [
    "_targets.shape"
   ]
  },
  {
   "cell_type": "markdown",
   "metadata": {},
   "source": [
    "Lets look at 3 sentences of our input x:\n"
   ]
  },
  {
   "cell_type": "code",
   "execution_count": 26,
   "metadata": {},
   "outputs": [
    {
     "data": {
      "text/plain": [
       "array([[9970, 9971, 9972, 9974, 9975, 9976, 9980, 9981, 9982, 9983, 9984,\n",
       "        9986, 9987, 9988, 9989, 9991, 9992, 9993, 9994, 9995],\n",
       "       [2654,    6,  334, 2886,    4,    1,  233,  711,  834,   11,  130,\n",
       "         123,    7,  514,    2,   63,   10,  514,    8,  605],\n",
       "       [   0, 1071,    4,    0,  185,   24,  368,   20,   31, 3109,  954,\n",
       "          12,    3,   21,    2, 2915,    2,   12,    3,   21]])"
      ]
     },
     "execution_count": 26,
     "metadata": {},
     "output_type": "execute_result"
    }
   ],
   "source": [
    "_input_data[0:3]"
   ]
  },
  {
   "cell_type": "code",
   "execution_count": 27,
   "metadata": {},
   "outputs": [
    {
     "name": "stdout",
     "output_type": "stream",
     "text": [
      "['aer', 'banknote', 'berlitz', 'calloway', 'centrust', 'cluett', 'fromstein', 'gitano', 'guterman', 'hydro-quebec', 'ipo', 'kia', 'memotec', 'mlx', 'nahb', 'punts', 'rake', 'regatta', 'rubens', 'sim']\n"
     ]
    }
   ],
   "source": [
    "print(id_to_word(_input_data[0,:]))"
   ]
  },
  {
   "cell_type": "markdown",
   "metadata": {},
   "source": [
    "<h3>Embeddings</h3>\n",
    "We have to convert the words in our dataset to vectors of numbers. The traditional approach is to use one-hot encoding method that is usually used for converting categorical values to numerical values. However, One-hot encoded vectors are high-dimensional, sparse and in a big dataset, computationally inefficient. So, we use word2vec approach. It is, in fact, a layer in our LSTM network, where the word IDs will be represented as a dense representation before feeding to the LSTM. \n",
    "\n",
    "The embedded vectors also get updated during the training process of the deep neural network.\n",
    "We create the embeddings for our input data. <b>embedding_vocab</b> is matrix of [10000x200] for all 10000 unique words.\n"
   ]
  },
  {
   "cell_type": "markdown",
   "metadata": {},
   "source": [
    "<b>embedding_lookup()</b> finds the embedded values for our batch of 30x20 words. It  goes to each row of <code>input_data</code>, and for each word in the row/sentence, finds the correspond vector in <code>embedding_dic<code>. <br>\n",
    "It creates a [30x20x200] tensor, so, the first element of <b>inputs</b> (the first sentence), is a matrix of 20x200, which each row of it, is vector representing a word in the sentence.\n"
   ]
  },
  {
   "cell_type": "code",
   "execution_count": 28,
   "metadata": {},
   "outputs": [],
   "source": [
    "embedding_layer = tf.keras.layers.Embedding(vocab_size, embeding_vector_size,batch_input_shape=(batch_size, num_steps),trainable=True,name=\"embedding_vocab\")  "
   ]
  },
  {
   "cell_type": "code",
   "execution_count": 29,
   "metadata": {
    "jupyter": {
     "outputs_hidden": true
    },
    "tags": []
   },
   "outputs": [
    {
     "data": {
      "text/plain": [
       "<tf.Tensor: shape=(30, 20, 200), dtype=float32, numpy=\n",
       "array([[[ 0.0322427 ,  0.02745371,  0.01511032, ..., -0.04186584,\n",
       "         -0.00684773, -0.02137914],\n",
       "        [-0.02780914, -0.04289189,  0.0435806 , ..., -0.03272519,\n",
       "         -0.00368349, -0.01001289],\n",
       "        [-0.03701322, -0.0273258 ,  0.01843916, ..., -0.03501308,\n",
       "         -0.04039819, -0.03218903],\n",
       "        ...,\n",
       "        [-0.01157052, -0.02853437,  0.02154297, ...,  0.02015511,\n",
       "          0.00303461,  0.0461376 ],\n",
       "        [ 0.04665745,  0.01855921, -0.03208146, ...,  0.0331055 ,\n",
       "          0.04378388,  0.02218511],\n",
       "        [ 0.01738365,  0.02055986, -0.02895486, ...,  0.00345646,\n",
       "          0.01991889, -0.02091906]],\n",
       "\n",
       "       [[ 0.02204761,  0.01235235, -0.02912633, ..., -0.03084488,\n",
       "         -0.00892459,  0.00060656],\n",
       "        [ 0.01015089, -0.03427733, -0.00509977, ...,  0.00359219,\n",
       "         -0.01047947, -0.03078071],\n",
       "        [-0.03857405, -0.03562962,  0.00213712, ...,  0.0243459 ,\n",
       "          0.02979826,  0.00933459],\n",
       "        ...,\n",
       "        [ 0.02814453, -0.03718281, -0.04168051, ..., -0.00866742,\n",
       "          0.04170069,  0.00872091],\n",
       "        [-0.04088143, -0.01393946, -0.04344792, ..., -0.02931614,\n",
       "         -0.01760398,  0.04131149],\n",
       "        [ 0.00294808, -0.04075735, -0.04000587, ..., -0.01257824,\n",
       "         -0.03125389,  0.01644694]],\n",
       "\n",
       "       [[-0.04957459,  0.03332336,  0.01966193, ...,  0.00511935,\n",
       "         -0.01720271, -0.02598307],\n",
       "        [ 0.01394312, -0.01649786, -0.0135074 , ..., -0.02191408,\n",
       "          0.04301367, -0.00139147],\n",
       "        [-0.02056216, -0.04468368, -0.02959538, ...,  0.00586789,\n",
       "         -0.03020393,  0.02319897],\n",
       "        ...,\n",
       "        [ 0.03870923, -0.00452384,  0.04463447, ...,  0.01877389,\n",
       "          0.01378659, -0.01931592],\n",
       "        [-0.03930799,  0.00639109, -0.03499753, ..., -0.01483897,\n",
       "         -0.04084266,  0.03206805],\n",
       "        [-0.00812074, -0.00939255,  0.03002151, ..., -0.02885987,\n",
       "          0.0456673 , -0.00668031]],\n",
       "\n",
       "       ...,\n",
       "\n",
       "       [[-0.0051713 ,  0.02413963, -0.00361041, ..., -0.04626815,\n",
       "         -0.02517157, -0.03116634],\n",
       "        [ 0.0062871 , -0.03168311, -0.01836611, ...,  0.0183274 ,\n",
       "          0.00813119,  0.04367142],\n",
       "        [-0.02310306,  0.01085194,  0.03155712, ..., -0.03705543,\n",
       "         -0.03013048,  0.04067877],\n",
       "        ...,\n",
       "        [-0.0387392 , -0.0077858 , -0.03378271, ...,  0.02931222,\n",
       "          0.0086552 , -0.04568267],\n",
       "        [ 0.04667541, -0.03298704,  0.03313407, ...,  0.0166187 ,\n",
       "         -0.04815993, -0.02177351],\n",
       "        [-0.04277913, -0.01276237, -0.02286171, ..., -0.01576094,\n",
       "          0.02773995, -0.01448203]],\n",
       "\n",
       "       [[-0.03392635,  0.0205977 , -0.0409864 , ..., -0.04040662,\n",
       "          0.04059252, -0.00629572],\n",
       "        [-0.01983565, -0.01800051, -0.02956493, ..., -0.03122292,\n",
       "         -0.04861432,  0.02376174],\n",
       "        [-0.02056216, -0.04468368, -0.02959538, ...,  0.00586789,\n",
       "         -0.03020393,  0.02319897],\n",
       "        ...,\n",
       "        [ 0.0085944 , -0.03356489,  0.02970555, ..., -0.02510259,\n",
       "         -0.02738874,  0.01697947],\n",
       "        [ 0.01015089, -0.03427733, -0.00509977, ...,  0.00359219,\n",
       "         -0.01047947, -0.03078071],\n",
       "        [-0.04711666,  0.02883467,  0.00787147, ...,  0.01061462,\n",
       "          0.03592363,  0.01857959]],\n",
       "\n",
       "       [[ 0.02353351, -0.04448688, -0.04519594, ..., -0.0152043 ,\n",
       "          0.00332876,  0.02214869],\n",
       "        [-0.02551992,  0.02098526,  0.01196361, ...,  0.02801874,\n",
       "          0.0208062 , -0.01944417],\n",
       "        [-0.01092523, -0.01283207, -0.03960922, ...,  0.01398046,\n",
       "          0.0150323 ,  0.00918218],\n",
       "        ...,\n",
       "        [-0.01512549, -0.02452098, -0.03616827, ...,  0.03234679,\n",
       "         -0.04285109,  0.02130386],\n",
       "        [ 0.04645535, -0.01206195,  0.04051495, ...,  0.02647933,\n",
       "         -0.0437114 , -0.04778633],\n",
       "        [-0.03265347,  0.03902226,  0.03439268, ..., -0.02731839,\n",
       "         -0.01359842,  0.0079857 ]]], dtype=float32)>"
      ]
     },
     "execution_count": 29,
     "metadata": {},
     "output_type": "execute_result"
    }
   ],
   "source": [
    "# Define where to get the data for our embeddings from\n",
    "inputs = embedding_layer(_input_data)\n",
    "inputs"
   ]
  },
  {
   "cell_type": "markdown",
   "metadata": {},
   "source": [
    "<h3>Constructing Recurrent Neural Networks</h3>\n"
   ]
  },
  {
   "cell_type": "markdown",
   "metadata": {},
   "source": [
    "In this step, we create the stacked LSTM using <b>tf.keras.layers.StackedRNNCells</b>, which is a 2 layer LSTM network:\n"
   ]
  },
  {
   "cell_type": "code",
   "execution_count": 30,
   "metadata": {},
   "outputs": [],
   "source": [
    "lstm_cell_l1 = tf.keras.layers.LSTMCell(hidden_size_l1)\n",
    "lstm_cell_l2 = tf.keras.layers.LSTMCell(hidden_size_l2)"
   ]
  },
  {
   "cell_type": "code",
   "execution_count": 31,
   "metadata": {},
   "outputs": [],
   "source": [
    "stacked_lstm = tf.keras.layers.StackedRNNCells([lstm_cell_l1, lstm_cell_l2])"
   ]
  },
  {
   "cell_type": "markdown",
   "metadata": {},
   "source": [
    "<b>tf.keras.layers.RNN</b> creates a recurrent neural network using <b>stacked_lstm</b>. \n",
    "\n",
    "The input should be a Tensor of shape: [batch_size, max_time, embedding_vector_size], in our case it would be (30, 20, 200)\n"
   ]
  },
  {
   "cell_type": "code",
   "execution_count": 32,
   "metadata": {},
   "outputs": [],
   "source": [
    "layer  =  tf.keras.layers.RNN(stacked_lstm,[batch_size, num_steps],return_state=False,stateful=True,trainable=True)"
   ]
  },
  {
   "cell_type": "markdown",
   "metadata": {},
   "source": [
    "Also, we initialize the states of the nework:\n",
    "\n",
    "<h4>_initial_state</h4>\n",
    "\n",
    "For each LSTM, there are 2 state matrices, c_state and m_state.  c_state and m_state represent \"Memory State\" and \"Cell State\". Each hidden layer, has a vector of size 30, which keeps the states. so, for 200 hidden units in each LSTM, we have a matrix of size [30x200]\n"
   ]
  },
  {
   "cell_type": "code",
   "execution_count": 33,
   "metadata": {},
   "outputs": [],
   "source": [
    "init_state = tf.Variable(tf.zeros([batch_size,embeding_vector_size]),trainable=False)"
   ]
  },
  {
   "cell_type": "code",
   "execution_count": 34,
   "metadata": {},
   "outputs": [],
   "source": [
    "layer.inital_state = init_state"
   ]
  },
  {
   "cell_type": "code",
   "execution_count": 35,
   "metadata": {},
   "outputs": [
    {
     "data": {
      "text/plain": [
       "<tf.Variable 'Variable:0' shape=(30, 200) dtype=float32, numpy=\n",
       "array([[0., 0., 0., ..., 0., 0., 0.],\n",
       "       [0., 0., 0., ..., 0., 0., 0.],\n",
       "       [0., 0., 0., ..., 0., 0., 0.],\n",
       "       ...,\n",
       "       [0., 0., 0., ..., 0., 0., 0.],\n",
       "       [0., 0., 0., ..., 0., 0., 0.],\n",
       "       [0., 0., 0., ..., 0., 0., 0.]], dtype=float32)>"
      ]
     },
     "execution_count": 35,
     "metadata": {},
     "output_type": "execute_result"
    }
   ],
   "source": [
    "layer.inital_state"
   ]
  },
  {
   "cell_type": "markdown",
   "metadata": {},
   "source": [
    "so, lets look at the outputs. The output of the stackedLSTM comes from 128 hidden_layer, and in each time step(=20), one of them get activated. we use the linear activation to map the 128 hidden layer to a [30X20 matrix]\n"
   ]
  },
  {
   "cell_type": "code",
   "execution_count": 36,
   "metadata": {},
   "outputs": [],
   "source": [
    "outputs = layer(inputs)"
   ]
  },
  {
   "cell_type": "code",
   "execution_count": 37,
   "metadata": {},
   "outputs": [
    {
     "data": {
      "text/plain": [
       "<tf.Tensor: shape=(30, 20, 128), dtype=float32, numpy=\n",
       "array([[[-4.28417348e-04,  2.70829711e-04, -3.39685648e-04, ...,\n",
       "          7.21387274e-04,  3.19372251e-04, -5.93349745e-04],\n",
       "        [-5.86058188e-04,  8.84490490e-08, -2.40954207e-04, ...,\n",
       "          1.60139450e-03, -3.41223000e-04, -4.90122125e-04],\n",
       "        [-4.96153487e-04, -1.83708380e-05,  2.13934865e-04, ...,\n",
       "          2.36887229e-03, -2.21595648e-04, -1.30866154e-03],\n",
       "        ...,\n",
       "        [ 2.26884894e-03, -6.13795221e-03, -9.13287397e-04, ...,\n",
       "         -4.80689690e-04, -7.75146298e-03,  3.64335719e-04],\n",
       "        [ 1.95086095e-03, -5.91158029e-03, -4.19284333e-04, ...,\n",
       "         -2.80224625e-03, -7.91394245e-03,  6.84242928e-04],\n",
       "        [ 6.02157845e-04, -5.41630713e-03,  1.58073730e-04, ...,\n",
       "         -2.73335003e-03, -7.40772393e-03,  1.42269209e-03]],\n",
       "\n",
       "       [[ 8.36295716e-04,  8.83174827e-04, -5.05331729e-04, ...,\n",
       "         -5.27569791e-04,  1.78823632e-03, -7.46035366e-04],\n",
       "        [ 1.42839702e-03,  1.03009795e-03, -5.97155769e-04, ...,\n",
       "         -1.93123624e-03,  1.57860306e-03, -1.44625176e-03],\n",
       "        [ 2.26537886e-04,  6.36230616e-05,  8.98106737e-05, ...,\n",
       "         -2.48051598e-03,  1.75190030e-03, -1.86283397e-03],\n",
       "        ...,\n",
       "        [ 4.07882594e-03, -4.68519313e-04, -2.90230918e-03, ...,\n",
       "         -6.04452984e-03, -4.84709581e-03,  5.10183023e-03],\n",
       "        [ 3.02265887e-03,  2.86435563e-04, -3.02192266e-03, ...,\n",
       "         -4.99998499e-03, -3.75144416e-03,  3.08209634e-03],\n",
       "        [ 1.96335698e-03,  2.04873460e-04, -4.18197084e-03, ...,\n",
       "         -3.67329968e-03, -1.98979140e-03,  1.91436859e-03]],\n",
       "\n",
       "       [[-2.85738701e-04,  9.63451457e-05,  1.47657259e-03, ...,\n",
       "         -1.13112190e-04,  1.00026221e-03,  1.14198518e-03],\n",
       "        [-1.92595483e-03,  9.46413842e-04,  2.58329813e-03, ...,\n",
       "         -1.34751364e-03, -2.97622144e-04,  8.49382137e-04],\n",
       "        [-3.43462732e-03,  2.04389961e-03,  4.44715098e-03, ...,\n",
       "         -9.50550602e-04, -1.60262932e-03,  1.50552241e-03],\n",
       "        ...,\n",
       "        [ 7.62125012e-03, -1.08251115e-02, -7.99962785e-03, ...,\n",
       "          6.16100337e-03, -3.57370451e-03,  4.65764897e-03],\n",
       "        [ 5.61259128e-03, -1.04462747e-02, -7.83136580e-03, ...,\n",
       "          6.75482769e-03, -2.78947945e-03,  4.35393536e-03],\n",
       "        [ 5.39194141e-03, -9.50001180e-03, -7.65951071e-03, ...,\n",
       "          6.56087603e-03, -1.96730276e-03,  4.69855731e-03]],\n",
       "\n",
       "       ...,\n",
       "\n",
       "       [[-1.11380708e-03, -9.59415280e-04, -1.19437464e-03, ...,\n",
       "         -2.73752783e-04, -7.19300588e-04,  1.21773407e-03],\n",
       "        [-2.70573376e-03, -2.13234732e-03, -3.27116624e-03, ...,\n",
       "         -9.70049950e-05, -5.47281059e-04,  1.26547832e-03],\n",
       "        [-4.66211885e-03, -3.96349281e-03, -4.60428465e-03, ...,\n",
       "          1.81658170e-03,  2.65926734e-04,  1.77382864e-03],\n",
       "        ...,\n",
       "        [-2.00958829e-03,  6.92845904e-04,  1.72956323e-03, ...,\n",
       "          4.00228985e-03,  2.68108933e-03,  3.33081023e-03],\n",
       "        [ 1.01422484e-03, -1.05385354e-03, -1.38449459e-03, ...,\n",
       "          4.28479258e-03,  3.29126674e-03,  4.05463576e-03],\n",
       "        [ 2.22830544e-03, -1.18483964e-03, -4.03593807e-03, ...,\n",
       "          3.40237399e-03,  2.67835218e-03,  3.18419933e-03]],\n",
       "\n",
       "       [[ 1.78089555e-04,  1.68928600e-04, -1.82462769e-04, ...,\n",
       "          8.13960331e-04, -1.43928709e-03, -1.82711112e-04],\n",
       "        [ 2.98033556e-04,  1.14529708e-03, -3.82531056e-04, ...,\n",
       "          6.01915177e-04,  4.89466765e-04, -2.34730935e-04],\n",
       "        [-1.98329406e-04,  2.70786555e-03,  7.54519890e-04, ...,\n",
       "          1.15407736e-03,  9.34769050e-04,  8.44907830e-04],\n",
       "        ...,\n",
       "        [ 7.75791099e-03,  5.46707888e-04,  7.07218330e-03, ...,\n",
       "          3.82931740e-03, -3.56166187e-04,  3.71979922e-03],\n",
       "        [ 8.94522574e-03,  2.70315300e-04,  6.74365973e-03, ...,\n",
       "          2.78896652e-03, -1.71350362e-03,  2.89730798e-03],\n",
       "        [ 9.72425286e-03, -8.80110776e-04,  5.85874310e-03, ...,\n",
       "          2.30981829e-03, -2.00976268e-03,  3.99678806e-03]],\n",
       "\n",
       "       [[-5.81996690e-04,  2.71442495e-05, -6.46958884e-04, ...,\n",
       "         -1.39042770e-03, -1.38275954e-03, -1.94810360e-04],\n",
       "        [-3.15577869e-04,  8.42866255e-04, -1.13951496e-03, ...,\n",
       "         -1.33467885e-03,  2.75326383e-05, -1.12662604e-03],\n",
       "        [-1.09013333e-03,  2.18315516e-03, -4.76637651e-04, ...,\n",
       "         -5.24127157e-04,  1.07018750e-04, -2.06220336e-03],\n",
       "        ...,\n",
       "        [ 5.72622707e-03, -3.69386887e-03, -2.82173580e-03, ...,\n",
       "          3.45583470e-03,  3.01717198e-03,  4.82414989e-03],\n",
       "        [ 6.85413368e-03, -3.10058752e-03, -2.89754616e-03, ...,\n",
       "          3.77283338e-03,  3.24233505e-03,  5.64580970e-03],\n",
       "        [ 7.61799747e-03, -2.98970588e-03, -3.31827486e-03, ...,\n",
       "          4.28037439e-03,  4.27852804e-03,  5.17246081e-03]]],\n",
       "      dtype=float32)>"
      ]
     },
     "execution_count": 37,
     "metadata": {},
     "output_type": "execute_result"
    }
   ],
   "source": [
    "outputs"
   ]
  },
  {
   "cell_type": "markdown",
   "metadata": {},
   "source": [
    "<h2>Dense layer</h2>\n",
    "We now create densely-connected neural network layer that would reshape the outputs tensor from  [30 x 20 x 128] to [30 x 20 x 10000].\n"
   ]
  },
  {
   "cell_type": "code",
   "execution_count": 38,
   "metadata": {},
   "outputs": [],
   "source": [
    "dense = tf.keras.layers.Dense(vocab_size)"
   ]
  },
  {
   "cell_type": "code",
   "execution_count": 39,
   "metadata": {},
   "outputs": [],
   "source": [
    "logits_outputs  = dense(outputs)"
   ]
  },
  {
   "cell_type": "code",
   "execution_count": 40,
   "metadata": {},
   "outputs": [
    {
     "name": "stdout",
     "output_type": "stream",
     "text": [
      "shape of the output from dense layer:  (30, 20, 10000)\n"
     ]
    }
   ],
   "source": [
    "print(\"shape of the output from dense layer: \", logits_outputs.shape) #(batch_size, sequence_length, vocab_size)"
   ]
  },
  {
   "cell_type": "markdown",
   "metadata": {},
   "source": [
    "<h2>Activation layer</h2>\n",
    "\n",
    "A softmax activation layers is also then applied to derive the probability of the output being in any of the multiclass(10000 in this case) possibilities. \n"
   ]
  },
  {
   "cell_type": "code",
   "execution_count": 41,
   "metadata": {},
   "outputs": [],
   "source": [
    "activation = tf.keras.layers.Activation('softmax')"
   ]
  },
  {
   "cell_type": "code",
   "execution_count": 42,
   "metadata": {},
   "outputs": [],
   "source": [
    "output_words_prob = activation(logits_outputs)"
   ]
  },
  {
   "cell_type": "code",
   "execution_count": 43,
   "metadata": {},
   "outputs": [
    {
     "name": "stdout",
     "output_type": "stream",
     "text": [
      "shape of the output from the activation layer:  (30, 20, 10000)\n"
     ]
    }
   ],
   "source": [
    "print(\"shape of the output from the activation layer: \", output_words_prob.shape) #(batch_size, sequence_length, vocab_size)"
   ]
  },
  {
   "cell_type": "markdown",
   "metadata": {},
   "source": [
    "Lets look at the probability of observing words for t=0 to t=20:\n"
   ]
  },
  {
   "cell_type": "code",
   "execution_count": 44,
   "metadata": {},
   "outputs": [
    {
     "name": "stdout",
     "output_type": "stream",
     "text": [
      "The probability of observing words in t=0 to t=20 tf.Tensor(\n",
      "[[9.99997792e-05 9.99717377e-05 9.99802214e-05 ... 1.00010213e-04\n",
      "  1.00003876e-04 1.00000201e-04]\n",
      " [1.00001147e-04 9.99518088e-05 9.99759504e-05 ... 1.00031844e-04\n",
      "  1.00013560e-04 9.99749100e-05]\n",
      " [1.00001766e-04 9.99429758e-05 9.99758340e-05 ... 1.00057769e-04\n",
      "  1.00024430e-04 9.99494150e-05]\n",
      " ...\n",
      " [9.99382755e-05 9.99965341e-05 9.99811673e-05 ... 9.99979311e-05\n",
      "  1.00048652e-04 1.00092308e-04]\n",
      " [9.98912219e-05 1.00001038e-04 9.99820768e-05 ... 9.99913464e-05\n",
      "  1.00048121e-04 1.00079815e-04]\n",
      " [9.98590185e-05 1.00015888e-04 9.99755430e-05 ... 9.99797994e-05\n",
      "  1.00039273e-04 1.00070778e-04]], shape=(20, 10000), dtype=float32)\n"
     ]
    }
   ],
   "source": [
    "print(\"The probability of observing words in t=0 to t=20\", output_words_prob[0,0:num_steps])"
   ]
  },
  {
   "cell_type": "markdown",
   "metadata": {},
   "source": [
    "<h3>Prediction</h3>\n",
    "What is the word correspond to the probability output? Lets use the maximum probability:\n"
   ]
  },
  {
   "cell_type": "code",
   "execution_count": 45,
   "metadata": {},
   "outputs": [
    {
     "data": {
      "text/plain": [
       "array([5481, 5991, 7914, 4133, 4133, 3608, 3608, 4036, 5093, 5093, 5093,\n",
       "       2603, 3023, 3023, 9897, 9897, 9897, 9897, 5467, 2038], dtype=int64)"
      ]
     },
     "execution_count": 45,
     "metadata": {},
     "output_type": "execute_result"
    }
   ],
   "source": [
    "np.argmax(output_words_prob[0,0:num_steps], axis=1)"
   ]
  },
  {
   "cell_type": "markdown",
   "metadata": {},
   "source": [
    "So, what is the ground truth for the first word of first sentence? You can get it from target tensor, if you want to find the embedding vector: \n"
   ]
  },
  {
   "cell_type": "code",
   "execution_count": 46,
   "metadata": {},
   "outputs": [
    {
     "data": {
      "text/plain": [
       "array([9971, 9972, 9974, 9975, 9976, 9980, 9981, 9982, 9983, 9984, 9986,\n",
       "       9987, 9988, 9989, 9991, 9992, 9993, 9994, 9995, 9996])"
      ]
     },
     "execution_count": 46,
     "metadata": {},
     "output_type": "execute_result"
    }
   ],
   "source": [
    "_targets[0]"
   ]
  },
  {
   "cell_type": "markdown",
   "metadata": {},
   "source": [
    "<h4>Objective function</h4>\n",
    "\n",
    "How similar the predicted words are to the target words?\n",
    "\n",
    "Now we have to define our objective function, to calculate the similarity of predicted values to ground truth, and then, penalize the model with the error. Our objective is to minimize loss function, that is, to minimize the average negative log probability of the target words:\n",
    "\n",
    "$$\\text{loss} = -\\frac{1}{N}\\sum_{i=1}^{N} \\ln p_{\\text{target}\\_i}$$\n",
    "\n",
    "This function is already implemented and available in TensorFlow through _tf.keras.losses.sparse_categorical_crossentropy_. It calculates the categorical cross-entropy loss for <b>logits</b> and the <b>target</b> sequence.  \n",
    "\n",
    "The arguments of this function are:  \n",
    "\n",
    "<ul>\n",
    "    <li>logits: List of 2D Tensors of shape [batch_size x num_decoder_symbols].</li>  \n",
    "    <li>targets: List of 1D batch-sized int32 Tensors of the same length as logits.</li>   \n",
    "</ul>\n"
   ]
  },
  {
   "cell_type": "code",
   "execution_count": 47,
   "metadata": {},
   "outputs": [],
   "source": [
    "def crossentropy(y_true, y_pred):\n",
    "    return tf.keras.losses.sparse_categorical_crossentropy(y_true, y_pred)"
   ]
  },
  {
   "cell_type": "code",
   "execution_count": 48,
   "metadata": {},
   "outputs": [],
   "source": [
    "loss  = crossentropy(_targets, output_words_prob)"
   ]
  },
  {
   "cell_type": "markdown",
   "metadata": {},
   "source": [
    "Lets look at the first 10 values of loss:\n"
   ]
  },
  {
   "cell_type": "code",
   "execution_count": 49,
   "metadata": {},
   "outputs": [
    {
     "data": {
      "text/plain": [
       "<tf.Tensor: shape=(10,), dtype=float32, numpy=\n",
       "array([9.2103615, 9.210318 , 9.2100525, 9.209885 , 9.210356 , 9.2108555,\n",
       "       9.210625 , 9.210528 , 9.210229 , 9.209705 ], dtype=float32)>"
      ]
     },
     "execution_count": 49,
     "metadata": {},
     "output_type": "execute_result"
    }
   ],
   "source": [
    "loss[0,:10]"
   ]
  },
  {
   "cell_type": "markdown",
   "metadata": {},
   "source": [
    "Now, we define cost as average of the losses:\n"
   ]
  },
  {
   "cell_type": "code",
   "execution_count": 50,
   "metadata": {},
   "outputs": [
    {
     "data": {
      "text/plain": [
       "<tf.Tensor: shape=(), dtype=float32, numpy=184.20612>"
      ]
     },
     "execution_count": 50,
     "metadata": {},
     "output_type": "execute_result"
    }
   ],
   "source": [
    "cost = tf.reduce_sum(loss / batch_size)\n",
    "cost"
   ]
  },
  {
   "cell_type": "markdown",
   "metadata": {},
   "source": [
    "<h3>Training</h3>\n",
    "\n",
    "To do training for our network, we have to take the following steps:\n",
    "\n",
    "<ol>\n",
    "    <li>Define the optimizer.</li>\n",
    "    <li>Assemble layers to build model.</li>\n",
    "    <li>Calculate the gradients based on the loss function.</li>\n",
    "    <li>Apply the optimizer to the variables/gradients tuple.</li>\n",
    "</ol>\n"
   ]
  },
  {
   "cell_type": "markdown",
   "metadata": {},
   "source": [
    "<h4>1. Define Optimizer</h4>\n"
   ]
  },
  {
   "cell_type": "code",
   "execution_count": 51,
   "metadata": {},
   "outputs": [
    {
     "name": "stderr",
     "output_type": "stream",
     "text": [
      "C:\\Python39\\lib\\site-packages\\keras\\optimizer_v2\\gradient_descent.py:102: UserWarning: The `lr` argument is deprecated, use `learning_rate` instead.\n",
      "  super(SGD, self).__init__(name, **kwargs)\n"
     ]
    }
   ],
   "source": [
    "# Create a variable for the learning rate\n",
    "lr = tf.Variable(0.0, trainable=False)\n",
    "optimizer = tf.keras.optimizers.SGD(lr=lr, clipnorm=max_grad_norm)"
   ]
  },
  {
   "cell_type": "markdown",
   "metadata": {},
   "source": [
    "<h4>2. Assemble layers to build model.</h4>\n"
   ]
  },
  {
   "cell_type": "code",
   "execution_count": 52,
   "metadata": {},
   "outputs": [
    {
     "name": "stdout",
     "output_type": "stream",
     "text": [
      "Model: \"sequential\"\n",
      "_________________________________________________________________\n",
      " Layer (type)                Output Shape              Param #   \n",
      "=================================================================\n",
      " embedding_vocab (Embedding)  (30, 20, 200)            2000000   \n",
      "                                                                 \n",
      " rnn (RNN)                   (30, 20, 128)             671088    \n",
      "                                                                 \n",
      " dense (Dense)               (30, 20, 10000)           1290000   \n",
      "                                                                 \n",
      " activation (Activation)     (30, 20, 10000)           0         \n",
      "                                                                 \n",
      "=================================================================\n",
      "Total params: 3,961,088\n",
      "Trainable params: 3,955,088\n",
      "Non-trainable params: 6,000\n",
      "_________________________________________________________________\n"
     ]
    }
   ],
   "source": [
    "model = tf.keras.Sequential()\n",
    "model.add(embedding_layer)\n",
    "model.add(layer)\n",
    "model.add(dense)\n",
    "model.add(activation)\n",
    "model.compile(loss=crossentropy, optimizer=optimizer)\n",
    "model.summary()"
   ]
  },
  {
   "cell_type": "markdown",
   "metadata": {},
   "source": [
    "<h4>2. Trainable Variables</h4>\n"
   ]
  },
  {
   "cell_type": "markdown",
   "metadata": {},
   "source": [
    "Defining a variable, if you passed <i>trainable=True</i>, the variable constructor automatically adds new variables to the graph collection <b>GraphKeys.TRAINABLE_VARIABLES</b>. Now, using <i>tf.trainable_variables()</i> you can get all variables created with <b>trainable=True</b>.\n"
   ]
  },
  {
   "cell_type": "code",
   "execution_count": 53,
   "metadata": {},
   "outputs": [],
   "source": [
    "# Get all TensorFlow variables marked as \"trainable\" (i.e. all of them except _lr, which we just created)\n",
    "tvars = model.trainable_variables"
   ]
  },
  {
   "cell_type": "markdown",
   "metadata": {},
   "source": [
    "Note: we can find the name and scope of all variables:\n"
   ]
  },
  {
   "cell_type": "code",
   "execution_count": 54,
   "metadata": {},
   "outputs": [
    {
     "data": {
      "text/plain": [
       "['embedding_vocab/embeddings:0',\n",
       " 'rnn/stacked_rnn_cells/lstm_cell/kernel:0',\n",
       " 'rnn/stacked_rnn_cells/lstm_cell/recurrent_kernel:0',\n",
       " 'rnn/stacked_rnn_cells/lstm_cell/bias:0',\n",
       " 'rnn/stacked_rnn_cells/lstm_cell_1/kernel:0',\n",
       " 'rnn/stacked_rnn_cells/lstm_cell_1/recurrent_kernel:0',\n",
       " 'rnn/stacked_rnn_cells/lstm_cell_1/bias:0',\n",
       " 'dense/kernel:0',\n",
       " 'dense/bias:0']"
      ]
     },
     "execution_count": 54,
     "metadata": {},
     "output_type": "execute_result"
    }
   ],
   "source": [
    "[v.name for v in tvars] "
   ]
  },
  {
   "cell_type": "markdown",
   "metadata": {},
   "source": [
    "<h4>3. Calculate the gradients based on the loss function</h4>\n"
   ]
  },
  {
   "cell_type": "markdown",
   "metadata": {},
   "source": [
    "**Gradient**: The gradient of a function is the slope of its derivative (line), or in other words, the rate of change of a function. It's a vector (a direction to move) that points in the direction of greatest increase of the function, and calculated by the <b>derivative</b> operation.\n"
   ]
  },
  {
   "cell_type": "markdown",
   "metadata": {},
   "source": [
    "First lets recall the gradient function using an toy example:\n",
    "$$ z = \\left(2x^2 + 3xy\\right)$$\n"
   ]
  },
  {
   "cell_type": "code",
   "execution_count": 55,
   "metadata": {},
   "outputs": [],
   "source": [
    "x = tf.constant(1.0)\n",
    "y =  tf.constant(2.0)\n",
    "with tf.GradientTape(persistent=True) as g:\n",
    "    g.watch(x)\n",
    "    g.watch(y)\n",
    "    func_test = 2 * x * x + 3 * x * y"
   ]
  },
  {
   "cell_type": "markdown",
   "metadata": {},
   "source": [
    "The <b>tf.gradients()</b> function allows you to compute the symbolic gradient of one tensor with respect to one or more other tensors—including variables. <b>tf.gradients(func, xs)</b> constructs symbolic partial derivatives of sum of <b>func</b> w.r.t. <i>x</i> in <b>xs</b>. \n",
    "\n",
    "Now, lets look at the derivitive w.r.t. <b>var_x</b>:\n",
    "$$ \\frac{\\partial \\:}{\\partial \\:x}\\left(2x^2 + 3xy\\right) = 4x + 3y $$\n"
   ]
  },
  {
   "cell_type": "code",
   "execution_count": 56,
   "metadata": {},
   "outputs": [
    {
     "name": "stdout",
     "output_type": "stream",
     "text": [
      "tf.Tensor(10.0, shape=(), dtype=float32)\n"
     ]
    }
   ],
   "source": [
    "var_grad = g.gradient(func_test, x) # Will compute to 10.0\n",
    "print(var_grad)"
   ]
  },
  {
   "cell_type": "markdown",
   "metadata": {},
   "source": [
    "the derivative w.r.t. <b>var_y</b>:\n",
    "$$ \\frac{\\partial \\:}{\\partial \\:y}\\left(2x^2 + 3xy\\right) = 3x $$\n"
   ]
  },
  {
   "cell_type": "code",
   "execution_count": 57,
   "metadata": {},
   "outputs": [
    {
     "name": "stdout",
     "output_type": "stream",
     "text": [
      "tf.Tensor(3.0, shape=(), dtype=float32)\n"
     ]
    }
   ],
   "source": [
    "var_grad = g.gradient(func_test, y) # Will compute to 3.0\n",
    "print(var_grad)"
   ]
  },
  {
   "cell_type": "markdown",
   "metadata": {},
   "source": [
    "Now, we can look at gradients w.r.t all variables:\n"
   ]
  },
  {
   "cell_type": "code",
   "execution_count": 58,
   "metadata": {},
   "outputs": [],
   "source": [
    "with tf.GradientTape() as tape:\n",
    "    # Forward pass.\n",
    "    output_words_prob = model(_input_data)\n",
    "    # Loss value for this batch.\n",
    "    loss  = crossentropy(_targets, output_words_prob)\n",
    "    cost = tf.reduce_sum(loss,axis=0) / batch_size"
   ]
  },
  {
   "cell_type": "code",
   "execution_count": 59,
   "metadata": {},
   "outputs": [],
   "source": [
    "# Get gradients of loss wrt the trainable variables.\n",
    "grad_t_list = tape.gradient(cost, tvars)"
   ]
  },
  {
   "cell_type": "code",
   "execution_count": 60,
   "metadata": {},
   "outputs": [
    {
     "name": "stdout",
     "output_type": "stream",
     "text": [
      "[<tensorflow.python.framework.indexed_slices.IndexedSlices object at 0x00000228CFB3A7F0>, <tf.Tensor: shape=(200, 1024), dtype=float32, numpy=\n",
      "array([[-2.6544882e-07,  1.0427734e-06, -1.2614310e-06, ...,\n",
      "        -1.8625695e-07, -3.4070641e-07, -1.9543893e-07],\n",
      "       [ 2.1586297e-07, -6.0483285e-07,  8.3590066e-07, ...,\n",
      "        -2.2607597e-07,  2.9578302e-07,  2.9559317e-07],\n",
      "       [-1.5513952e-07,  1.1417989e-06,  2.2379811e-07, ...,\n",
      "         1.9603138e-07,  2.8152959e-07, -2.4592444e-07],\n",
      "       ...,\n",
      "       [ 1.1955551e-07, -7.8549760e-07,  1.4792931e-08, ...,\n",
      "         6.7706381e-08,  1.6517584e-08,  1.6036694e-07],\n",
      "       [-5.8074386e-07,  2.4368649e-07,  6.4846503e-08, ...,\n",
      "        -7.5327307e-08, -3.6058319e-07,  5.3259782e-08],\n",
      "       [ 3.3397157e-08, -4.8895163e-07, -5.6331388e-08, ...,\n",
      "        -2.8241206e-07,  2.3655576e-07,  2.2170896e-07]], dtype=float32)>, <tf.Tensor: shape=(256, 1024), dtype=float32, numpy=\n",
      "array([[-9.1844804e-08, -3.2093123e-08,  8.3884501e-08, ...,\n",
      "        -3.7484266e-08, -1.7236668e-07, -7.9127211e-08],\n",
      "       [ 1.1569399e-07,  4.0347267e-08,  1.2824354e-07, ...,\n",
      "        -4.2085741e-08, -1.0700098e-07, -1.4027586e-07],\n",
      "       [-1.5588023e-07,  9.3507005e-08, -4.3657266e-08, ...,\n",
      "        -1.4575622e-07, -9.7214993e-08, -1.7401884e-08],\n",
      "       ...,\n",
      "       [ 1.3954308e-07,  1.2480017e-07,  1.7987176e-08, ...,\n",
      "        -2.5344855e-07, -7.9848775e-08,  2.4841182e-07],\n",
      "       [ 4.4330861e-08, -5.0004900e-08,  4.2723666e-08, ...,\n",
      "        -2.8546143e-07,  2.2979768e-07, -1.3302673e-07],\n",
      "       [ 6.3478865e-08, -3.6180925e-08,  5.6680587e-08, ...,\n",
      "        -1.2000804e-08,  7.4757459e-08,  3.6575929e-07]], dtype=float32)>, <tf.Tensor: shape=(1024,), dtype=float32, numpy=\n",
      "array([-6.0649027e-06,  1.2332303e-05,  1.0158412e-05, ...,\n",
      "        2.4106454e-05, -1.5636026e-05, -2.2997014e-05], dtype=float32)>, <tf.Tensor: shape=(256, 512), dtype=float32, numpy=\n",
      "array([[ 4.1264602e-07,  7.2303962e-08, -3.0412501e-08, ...,\n",
      "        -3.1349634e-07,  1.7773874e-07,  5.7511329e-11],\n",
      "       [ 3.2592249e-07,  2.3814144e-07,  2.1646375e-07, ...,\n",
      "        -3.4239287e-07, -2.3457784e-07, -4.1051709e-07],\n",
      "       [-2.0556510e-07, -1.6430978e-07, -1.5033187e-08, ...,\n",
      "        -2.6188669e-08,  1.7525552e-07, -3.5278696e-08],\n",
      "       ...,\n",
      "       [-2.3691778e-07, -4.6090911e-08,  3.0720962e-08, ...,\n",
      "         7.2444884e-08, -3.1394492e-08,  9.1467506e-08],\n",
      "       [-4.6971095e-08, -5.7930329e-08, -4.7294884e-07, ...,\n",
      "         4.4353982e-08,  4.0145437e-08,  1.5097226e-07],\n",
      "       [-4.3279539e-07, -9.2902532e-08,  6.8484169e-08, ...,\n",
      "        -1.6746473e-07, -2.2490390e-07,  1.3314914e-07]], dtype=float32)>, <tf.Tensor: shape=(128, 512), dtype=float32, numpy=\n",
      "array([[ 6.71022747e-07,  3.97926414e-07,  1.35403866e-07, ...,\n",
      "         5.01039494e-08, -8.21116117e-08, -3.61457069e-07],\n",
      "       [ 5.33809192e-08,  9.41395513e-08, -2.13850946e-08, ...,\n",
      "        -6.86915698e-08, -1.26508979e-07, -9.99281156e-08],\n",
      "       [-3.32359150e-07,  1.08968088e-07,  6.34436432e-08, ...,\n",
      "        -1.77424283e-07,  2.57902641e-08, -9.48695273e-08],\n",
      "       ...,\n",
      "       [ 7.15750872e-08, -2.84054007e-08,  1.55932099e-07, ...,\n",
      "         2.00868499e-07, -3.41366260e-08, -2.79489925e-08],\n",
      "       [-2.19803184e-07,  4.16145340e-08,  1.04495825e-07, ...,\n",
      "         1.13274602e-07, -1.08238225e-07,  5.99825398e-08],\n",
      "       [ 3.16740056e-07,  3.62189866e-07,  2.76525725e-07, ...,\n",
      "        -6.51183072e-08, -1.82682101e-07, -6.84225711e-07]], dtype=float32)>, <tf.Tensor: shape=(512,), dtype=float32, numpy=\n",
      "array([ 1.59231240e-05,  5.49134420e-05,  6.83846592e-05,  3.19472429e-06,\n",
      "        7.55286862e-07,  1.69704890e-05, -2.77034960e-05, -4.80563813e-06,\n",
      "        8.02250361e-06,  4.41861721e-06,  1.27106914e-05, -1.15676185e-05,\n",
      "       -1.53915353e-05,  7.18444790e-06, -1.04644068e-05,  4.65155390e-05,\n",
      "       -6.96436246e-06, -2.85018050e-05, -4.55355985e-05, -4.86265799e-06,\n",
      "        5.68607538e-06, -1.96392411e-05, -7.45343459e-06,  9.72055022e-06,\n",
      "       -2.23948900e-05, -6.36750246e-06, -5.97839608e-05,  1.02082931e-05,\n",
      "       -5.42421258e-05,  2.57604279e-05,  2.70408191e-06, -7.42878910e-07,\n",
      "       -5.47568197e-05,  1.43907062e-04, -6.87442889e-06,  5.17495573e-06,\n",
      "        1.21960940e-04,  1.37243605e-05, -3.61834318e-05,  1.79653671e-05,\n",
      "       -2.96092421e-05, -4.73658874e-05, -3.82453909e-05, -1.77857983e-05,\n",
      "        4.65916673e-05,  3.07129121e-05,  1.19217675e-05,  1.04368610e-06,\n",
      "       -2.17451379e-05, -3.55785269e-05,  2.23138995e-05, -3.71645046e-06,\n",
      "        4.16509429e-05, -2.52650552e-05, -4.98080808e-05,  7.97483299e-05,\n",
      "       -3.93642476e-05,  3.65449996e-05, -4.11314159e-06, -3.64337939e-05,\n",
      "        2.47095159e-05, -1.53760120e-05, -1.52736047e-05,  2.46452873e-05,\n",
      "       -7.06418359e-06, -1.96904366e-05,  4.30181262e-06,  3.26652735e-05,\n",
      "       -3.72367185e-06,  4.31280932e-05, -2.73571713e-05,  7.41782133e-05,\n",
      "       -1.85472618e-05,  2.30251608e-05,  3.71477981e-05,  1.60986183e-05,\n",
      "       -2.39348992e-06, -5.70306511e-05,  1.86043308e-05,  1.67850358e-05,\n",
      "       -1.20940585e-05, -2.05885844e-05, -7.23867288e-06, -1.78664086e-05,\n",
      "       -2.20331967e-05,  3.11539006e-05, -1.03184302e-05, -3.74897863e-05,\n",
      "        2.92821151e-05,  2.44245275e-05, -3.09231473e-05, -2.39313267e-05,\n",
      "        7.97918437e-06, -3.86545289e-05, -8.44986062e-07, -2.10428334e-05,\n",
      "        5.12196784e-05,  8.80799689e-06, -9.17497709e-06,  1.83426000e-05,\n",
      "       -6.42859050e-06,  1.05726822e-05, -4.04916245e-05, -9.81083667e-06,\n",
      "       -3.23314889e-05, -8.87697242e-05,  4.81090183e-07,  8.84031033e-06,\n",
      "        1.02604590e-05, -3.94657945e-06,  1.05111758e-05, -4.54385627e-05,\n",
      "       -2.68784424e-05,  7.24703859e-05, -1.36575516e-04,  1.32573296e-05,\n",
      "        1.69719442e-05,  7.71094492e-05, -8.41357723e-06,  1.61542812e-05,\n",
      "       -1.83653210e-05,  2.01662024e-05,  3.97131116e-05, -2.47842163e-05,\n",
      "        7.97882603e-05,  6.55960957e-06, -2.41780272e-05, -7.79041511e-05,\n",
      "        6.93227412e-05,  5.89072224e-05,  7.17700605e-05, -1.81825089e-06,\n",
      "       -2.31492459e-06,  1.47191195e-05, -2.89711825e-05, -1.65956699e-05,\n",
      "       -2.68936292e-05,  4.09856584e-05,  4.24520549e-05, -2.25204076e-07,\n",
      "        7.19212585e-06,  9.82631718e-06, -7.28382111e-06,  7.37440569e-05,\n",
      "       -9.92618334e-06, -4.56835114e-05, -8.63293826e-05, -2.38332814e-06,\n",
      "        3.11398762e-05, -2.99980620e-05,  1.15472612e-05,  7.65160621e-06,\n",
      "       -8.95705307e-06, -2.43092109e-06, -8.37315019e-05,  6.61687318e-06,\n",
      "       -7.21403194e-05,  2.15783402e-05, -6.53753523e-06,  1.31832203e-05,\n",
      "       -6.65128828e-05,  2.12903280e-04, -2.34575837e-05, -2.78574062e-05,\n",
      "        2.00751529e-04,  2.71949721e-05, -2.39302371e-05,  6.19942439e-05,\n",
      "       -4.20793040e-05, -2.71126555e-05, -5.20302783e-05, -1.26982977e-05,\n",
      "        5.51307967e-05,  5.13289560e-05,  3.43225292e-06,  3.89763500e-06,\n",
      "       -1.68513179e-05, -6.77565258e-05, -2.16146291e-05, -3.76902753e-05,\n",
      "        4.49146683e-05, -1.00689267e-05, -6.02034015e-05,  1.34959526e-04,\n",
      "       -3.55139491e-08,  3.99204182e-05,  7.83695305e-06, -3.70357593e-05,\n",
      "        5.15252068e-05, -2.12641335e-05, -2.67519536e-05,  3.35371442e-05,\n",
      "       -2.18393907e-05, -1.02556123e-05,  1.82223848e-05,  6.64358522e-05,\n",
      "       -8.53096765e-07,  9.42107290e-05, -2.06190762e-05,  1.04656567e-04,\n",
      "       -3.32720119e-05,  8.10368147e-06,  5.01373652e-05,  3.85136882e-05,\n",
      "       -1.49070183e-05, -7.83694486e-05,  1.33335016e-05,  4.80556118e-05,\n",
      "       -3.23479471e-05,  2.15377804e-06,  3.22731648e-06, -1.11159216e-05,\n",
      "       -1.22026122e-05,  1.50010073e-05, -1.76785325e-05, -3.32904019e-05,\n",
      "        4.28960593e-05,  1.22244446e-05, -5.37054002e-05, -2.72651905e-05,\n",
      "        1.25804399e-06, -5.84635854e-05,  1.28527190e-05, -2.16101162e-05,\n",
      "        1.02040489e-04,  3.51524650e-05,  1.35684386e-05,  2.70982564e-05,\n",
      "       -8.02882823e-06,  1.92014122e-05, -6.03659500e-05,  8.45032719e-06,\n",
      "       -8.01262559e-06, -1.15283197e-04, -1.85869158e-05,  8.28043449e-06,\n",
      "        3.99004421e-06, -2.09015125e-05,  3.02092249e-05, -6.38733618e-05,\n",
      "       -7.11955072e-05,  9.99518379e-05, -1.99744114e-04, -1.39972326e-06,\n",
      "        1.57446993e-06,  1.04158564e-04, -8.58263775e-06,  1.44183959e-05,\n",
      "       -1.91283470e-05,  5.24763964e-05,  7.95475135e-05, -2.15772943e-05,\n",
      "        9.59174140e-05,  2.06894492e-05, -2.23579409e-05, -1.33246271e-04,\n",
      "        2.11215764e-02,  8.09257850e-03,  7.80158024e-03, -1.72913782e-02,\n",
      "        3.78457946e-03,  1.97417988e-03,  2.72382163e-02, -2.12318227e-02,\n",
      "       -3.57164606e-03,  3.99170704e-02,  4.58366051e-02,  3.83351115e-03,\n",
      "       -1.56739745e-02,  1.61793306e-02,  1.70540754e-02, -4.12718654e-02,\n",
      "       -3.47697474e-02,  9.70541686e-03, -6.06755689e-02, -7.89566082e-04,\n",
      "        3.01989913e-02,  1.88717879e-02,  1.85598712e-03, -5.46951927e-02,\n",
      "        1.42252538e-02,  1.69986654e-02,  2.54334435e-02,  1.17730750e-02,\n",
      "       -5.99973425e-02,  1.53073184e-02, -8.83310568e-04, -3.77922133e-02,\n",
      "       -4.57777604e-02,  6.65878728e-02, -3.40460660e-03,  1.02340514e-02,\n",
      "        5.63548803e-02,  2.85876058e-02,  1.54385734e-02, -1.11851729e-02,\n",
      "        4.36930135e-02,  1.24202613e-02,  1.17883151e-02,  3.89449950e-03,\n",
      "        4.46615815e-02, -5.31342104e-02,  3.29342857e-02,  5.69898868e-03,\n",
      "       -3.74087170e-02, -3.53820547e-02, -6.11213688e-03,  2.66580209e-02,\n",
      "        4.02717711e-03, -2.62685902e-02, -3.84696536e-02, -5.60287684e-02,\n",
      "        2.42071953e-02, -1.24664996e-02, -2.68483628e-02, -3.39444280e-02,\n",
      "       -4.26261500e-02, -2.09649466e-02,  1.98666714e-02,  4.13345220e-03,\n",
      "        3.24529707e-02,  3.53428442e-03,  2.29201838e-02, -1.82174593e-02,\n",
      "        3.45029868e-04, -3.61187160e-02, -3.34931314e-02,  4.42318805e-02,\n",
      "       -3.71024981e-02, -3.01543064e-03,  9.70762037e-03, -2.78820237e-03,\n",
      "       -5.58705535e-03,  6.14166930e-02, -2.88349111e-02,  2.31105182e-02,\n",
      "        1.36833722e-02,  2.51675863e-03, -1.69832930e-02,  5.28543908e-03,\n",
      "        1.90224238e-02, -1.83670148e-02, -1.11705791e-02, -2.66554430e-02,\n",
      "       -2.40848400e-02, -1.64885540e-02, -3.75064975e-03,  3.13781239e-02,\n",
      "       -4.48482065e-03, -6.15661293e-02, -1.57822166e-02,  1.54455658e-02,\n",
      "        2.30277572e-02, -1.04367174e-02, -1.51581950e-02,  3.14938016e-02,\n",
      "       -4.54044295e-03,  4.74248081e-03,  3.75948399e-02, -7.15390071e-02,\n",
      "        1.11547802e-02,  5.89513034e-02, -7.97939003e-02, -1.53780933e-02,\n",
      "        4.47772630e-03, -1.04904436e-02,  1.37439487e-03,  4.43216972e-02,\n",
      "        5.37282676e-02,  5.26911020e-02, -5.14422469e-02, -2.00103736e-03,\n",
      "       -2.89349575e-02,  2.93274615e-02, -4.02141586e-02,  7.71849928e-03,\n",
      "       -7.74317095e-03, -9.83165205e-03, -1.30991014e-02, -1.72069799e-02,\n",
      "       -4.23443131e-03,  2.44483557e-02, -7.98334368e-03, -3.10958792e-02,\n",
      "        4.23025049e-05,  5.66421659e-05,  6.78192737e-05,  3.61028833e-06,\n",
      "        1.39958115e-06,  1.74566721e-05, -3.44801301e-05, -8.18946592e-06,\n",
      "        1.07254727e-05,  1.49581228e-05,  1.41303026e-05, -1.64642152e-05,\n",
      "       -1.39482318e-05,  1.22792671e-05, -1.23337477e-05,  4.65201265e-05,\n",
      "       -1.11506761e-05, -2.83402751e-05, -5.87448085e-05, -1.79791914e-05,\n",
      "        7.91563798e-06, -2.51907295e-05, -1.29995096e-05,  5.86574060e-06,\n",
      "       -2.00828472e-05, -1.03098819e-05, -7.05084967e-05, -1.54596091e-06,\n",
      "       -6.15712852e-05,  3.51850977e-05, -2.35712832e-07,  9.85526276e-06,\n",
      "       -5.11410217e-05,  1.59029703e-04,  1.58604234e-06,  5.97916460e-06,\n",
      "        1.35867391e-04,  2.20181118e-05, -3.71597998e-05,  2.21084920e-05,\n",
      "       -3.03575798e-05, -3.64476837e-05, -3.80669662e-05, -1.93970645e-05,\n",
      "        5.27159827e-05,  2.75021666e-05,  2.05403176e-05,  1.72767614e-08,\n",
      "       -1.43247853e-05, -5.28336495e-05,  2.01269486e-05, -1.46797902e-06,\n",
      "        4.52955246e-05, -2.67514861e-05, -6.85884661e-05,  1.08820925e-04,\n",
      "       -3.93415175e-05,  3.58099896e-05, -5.32031254e-06, -3.40484621e-05,\n",
      "        3.02121334e-05, -1.85498466e-05, -2.88074079e-05,  2.97778242e-05,\n",
      "       -6.23122105e-06, -2.39385299e-05,  2.38274288e-06,  3.36586454e-05,\n",
      "       -6.92512549e-06,  5.99741361e-05, -2.68039475e-05,  7.90941413e-05,\n",
      "       -2.89804811e-05,  1.91257423e-05,  3.97592630e-05,  7.07348772e-06,\n",
      "       -2.81197572e-06, -7.01462850e-05,  2.10893631e-05,  2.23446041e-05,\n",
      "       -1.17687878e-05, -2.36326705e-05, -7.05041202e-07, -2.75972743e-05,\n",
      "       -1.26813229e-05,  2.90476892e-05, -1.42181107e-05, -4.22586163e-05,\n",
      "        3.72132563e-05,  1.48043910e-05, -3.28801725e-05, -3.82859653e-05,\n",
      "        8.07030210e-06, -5.05302014e-05,  7.40032738e-06, -2.91961060e-05,\n",
      "        6.57115670e-05,  1.41527198e-06, -1.10443152e-05,  2.62043905e-05,\n",
      "       -2.73486148e-06,  2.00054910e-05, -4.54486581e-05, -2.87801572e-06,\n",
      "       -2.71299814e-05, -1.05272353e-04, -1.43099805e-05, -1.72303589e-06,\n",
      "        1.05233830e-05, -3.86819511e-06,  1.80353472e-05, -4.63752913e-05,\n",
      "       -3.32745331e-05,  7.72592684e-05, -1.47226427e-04,  1.20099048e-05,\n",
      "        1.37799634e-05,  8.03678049e-05, -1.73600820e-05,  1.12370872e-05,\n",
      "       -2.83440531e-05,  2.88676329e-05,  3.61248312e-05, -3.67597604e-05,\n",
      "        8.87035349e-05,  5.15491411e-06, -2.25204094e-05, -8.73233657e-05],\n",
      "      dtype=float32)>, <tf.Tensor: shape=(128, 10000), dtype=float32, numpy=\n",
      "array([[-2.9085376e-03, -3.4341218e-03, -3.3227643e-03, ...,\n",
      "         6.5780332e-06,  6.5760551e-06,  6.5814343e-06],\n",
      "       [-4.1377498e-05, -1.5878064e-03, -2.0657380e-03, ...,\n",
      "         2.1317169e-06,  2.1327664e-06,  2.1323024e-06],\n",
      "       [ 2.2585447e-04,  1.6985065e-04, -1.0602389e-03, ...,\n",
      "        -2.5722471e-07, -2.5593630e-07, -2.5854047e-07],\n",
      "       ...,\n",
      "       [-2.7190305e-03, -1.0145394e-03, -1.7022679e-03, ...,\n",
      "         3.7665309e-06,  3.7636610e-06,  3.7641225e-06],\n",
      "       [-3.6203940e-04, -4.2704504e-04, -3.8384463e-04, ...,\n",
      "         1.4686793e-06,  1.4682261e-06,  1.4670884e-06],\n",
      "       [-2.4660276e-03, -3.9242161e-03, -4.1492456e-03, ...,\n",
      "         7.9486026e-06,  7.9450219e-06,  7.9498041e-06]], dtype=float32)>, <tf.Tensor: shape=(10000,), dtype=float32, numpy=\n",
      "array([-0.797998  , -1.0313318 , -1.0313317 , ...,  0.00200003,\n",
      "        0.00199933,  0.00199992], dtype=float32)>]\n"
     ]
    }
   ],
   "source": [
    "print(grad_t_list)"
   ]
  },
  {
   "cell_type": "markdown",
   "metadata": {},
   "source": [
    "now, we have a list of tensors, t-list. We can use it to find clipped tensors. <b>clip_by_global_norm</b> clips values of multiple tensors by the ratio of the sum of their norms.\n",
    "\n",
    "<b>clip_by_global_norm</b> get <i>t-list</i> as input and returns 2 things:\n",
    "\n",
    "<ul>\n",
    "    <li>a list of clipped tensors, so called <i>list_clipped</i></li> \n",
    "    <li>the global norm (global_norm) of all tensors in t_list</li> \n",
    "</ul>\n"
   ]
  },
  {
   "cell_type": "code",
   "execution_count": 61,
   "metadata": {},
   "outputs": [
    {
     "data": {
      "text/plain": [
       "[<tensorflow.python.framework.indexed_slices.IndexedSlices at 0x228cfb496a0>,\n",
       " <tf.Tensor: shape=(200, 1024), dtype=float32, numpy=\n",
       " array([[-2.6544882e-07,  1.0427734e-06, -1.2614310e-06, ...,\n",
       "         -1.8625695e-07, -3.4070641e-07, -1.9543893e-07],\n",
       "        [ 2.1586297e-07, -6.0483285e-07,  8.3590066e-07, ...,\n",
       "         -2.2607597e-07,  2.9578302e-07,  2.9559317e-07],\n",
       "        [-1.5513952e-07,  1.1417989e-06,  2.2379811e-07, ...,\n",
       "          1.9603138e-07,  2.8152959e-07, -2.4592444e-07],\n",
       "        ...,\n",
       "        [ 1.1955551e-07, -7.8549760e-07,  1.4792931e-08, ...,\n",
       "          6.7706381e-08,  1.6517584e-08,  1.6036694e-07],\n",
       "        [-5.8074386e-07,  2.4368649e-07,  6.4846503e-08, ...,\n",
       "         -7.5327307e-08, -3.6058319e-07,  5.3259782e-08],\n",
       "        [ 3.3397157e-08, -4.8895163e-07, -5.6331388e-08, ...,\n",
       "         -2.8241206e-07,  2.3655576e-07,  2.2170896e-07]], dtype=float32)>,\n",
       " <tf.Tensor: shape=(256, 1024), dtype=float32, numpy=\n",
       " array([[-9.1844804e-08, -3.2093123e-08,  8.3884501e-08, ...,\n",
       "         -3.7484266e-08, -1.7236668e-07, -7.9127211e-08],\n",
       "        [ 1.1569399e-07,  4.0347267e-08,  1.2824354e-07, ...,\n",
       "         -4.2085741e-08, -1.0700098e-07, -1.4027586e-07],\n",
       "        [-1.5588023e-07,  9.3507005e-08, -4.3657266e-08, ...,\n",
       "         -1.4575622e-07, -9.7214993e-08, -1.7401884e-08],\n",
       "        ...,\n",
       "        [ 1.3954308e-07,  1.2480017e-07,  1.7987176e-08, ...,\n",
       "         -2.5344855e-07, -7.9848775e-08,  2.4841182e-07],\n",
       "        [ 4.4330861e-08, -5.0004900e-08,  4.2723666e-08, ...,\n",
       "         -2.8546143e-07,  2.2979768e-07, -1.3302673e-07],\n",
       "        [ 6.3478865e-08, -3.6180925e-08,  5.6680587e-08, ...,\n",
       "         -1.2000804e-08,  7.4757459e-08,  3.6575929e-07]], dtype=float32)>,\n",
       " <tf.Tensor: shape=(1024,), dtype=float32, numpy=\n",
       " array([-6.0649027e-06,  1.2332303e-05,  1.0158412e-05, ...,\n",
       "         2.4106454e-05, -1.5636026e-05, -2.2997014e-05], dtype=float32)>,\n",
       " <tf.Tensor: shape=(256, 512), dtype=float32, numpy=\n",
       " array([[ 4.1264602e-07,  7.2303962e-08, -3.0412501e-08, ...,\n",
       "         -3.1349634e-07,  1.7773874e-07,  5.7511329e-11],\n",
       "        [ 3.2592249e-07,  2.3814144e-07,  2.1646375e-07, ...,\n",
       "         -3.4239287e-07, -2.3457784e-07, -4.1051709e-07],\n",
       "        [-2.0556510e-07, -1.6430978e-07, -1.5033187e-08, ...,\n",
       "         -2.6188669e-08,  1.7525552e-07, -3.5278696e-08],\n",
       "        ...,\n",
       "        [-2.3691778e-07, -4.6090911e-08,  3.0720962e-08, ...,\n",
       "          7.2444884e-08, -3.1394492e-08,  9.1467506e-08],\n",
       "        [-4.6971095e-08, -5.7930329e-08, -4.7294884e-07, ...,\n",
       "          4.4353982e-08,  4.0145437e-08,  1.5097226e-07],\n",
       "        [-4.3279539e-07, -9.2902532e-08,  6.8484169e-08, ...,\n",
       "         -1.6746473e-07, -2.2490390e-07,  1.3314914e-07]], dtype=float32)>,\n",
       " <tf.Tensor: shape=(128, 512), dtype=float32, numpy=\n",
       " array([[ 6.71022747e-07,  3.97926414e-07,  1.35403866e-07, ...,\n",
       "          5.01039494e-08, -8.21116117e-08, -3.61457069e-07],\n",
       "        [ 5.33809192e-08,  9.41395513e-08, -2.13850946e-08, ...,\n",
       "         -6.86915698e-08, -1.26508979e-07, -9.99281156e-08],\n",
       "        [-3.32359150e-07,  1.08968088e-07,  6.34436432e-08, ...,\n",
       "         -1.77424283e-07,  2.57902641e-08, -9.48695273e-08],\n",
       "        ...,\n",
       "        [ 7.15750872e-08, -2.84054007e-08,  1.55932099e-07, ...,\n",
       "          2.00868499e-07, -3.41366260e-08, -2.79489925e-08],\n",
       "        [-2.19803184e-07,  4.16145340e-08,  1.04495825e-07, ...,\n",
       "          1.13274602e-07, -1.08238225e-07,  5.99825398e-08],\n",
       "        [ 3.16740056e-07,  3.62189866e-07,  2.76525725e-07, ...,\n",
       "         -6.51183072e-08, -1.82682101e-07, -6.84225711e-07]], dtype=float32)>,\n",
       " <tf.Tensor: shape=(512,), dtype=float32, numpy=\n",
       " array([ 1.59231240e-05,  5.49134420e-05,  6.83846592e-05,  3.19472429e-06,\n",
       "         7.55286862e-07,  1.69704890e-05, -2.77034960e-05, -4.80563813e-06,\n",
       "         8.02250361e-06,  4.41861721e-06,  1.27106914e-05, -1.15676185e-05,\n",
       "        -1.53915353e-05,  7.18444790e-06, -1.04644068e-05,  4.65155390e-05,\n",
       "        -6.96436246e-06, -2.85018050e-05, -4.55355985e-05, -4.86265799e-06,\n",
       "         5.68607538e-06, -1.96392411e-05, -7.45343459e-06,  9.72055022e-06,\n",
       "        -2.23948900e-05, -6.36750246e-06, -5.97839608e-05,  1.02082931e-05,\n",
       "        -5.42421258e-05,  2.57604279e-05,  2.70408191e-06, -7.42878910e-07,\n",
       "        -5.47568197e-05,  1.43907062e-04, -6.87442889e-06,  5.17495573e-06,\n",
       "         1.21960940e-04,  1.37243605e-05, -3.61834318e-05,  1.79653671e-05,\n",
       "        -2.96092421e-05, -4.73658874e-05, -3.82453909e-05, -1.77857983e-05,\n",
       "         4.65916673e-05,  3.07129121e-05,  1.19217675e-05,  1.04368610e-06,\n",
       "        -2.17451379e-05, -3.55785269e-05,  2.23138995e-05, -3.71645046e-06,\n",
       "         4.16509429e-05, -2.52650552e-05, -4.98080808e-05,  7.97483299e-05,\n",
       "        -3.93642476e-05,  3.65449996e-05, -4.11314159e-06, -3.64337939e-05,\n",
       "         2.47095159e-05, -1.53760120e-05, -1.52736047e-05,  2.46452873e-05,\n",
       "        -7.06418359e-06, -1.96904366e-05,  4.30181262e-06,  3.26652735e-05,\n",
       "        -3.72367185e-06,  4.31280932e-05, -2.73571713e-05,  7.41782133e-05,\n",
       "        -1.85472618e-05,  2.30251608e-05,  3.71477981e-05,  1.60986183e-05,\n",
       "        -2.39348992e-06, -5.70306511e-05,  1.86043308e-05,  1.67850358e-05,\n",
       "        -1.20940585e-05, -2.05885844e-05, -7.23867288e-06, -1.78664086e-05,\n",
       "        -2.20331967e-05,  3.11539006e-05, -1.03184302e-05, -3.74897863e-05,\n",
       "         2.92821151e-05,  2.44245275e-05, -3.09231473e-05, -2.39313267e-05,\n",
       "         7.97918437e-06, -3.86545289e-05, -8.44986062e-07, -2.10428334e-05,\n",
       "         5.12196784e-05,  8.80799689e-06, -9.17497709e-06,  1.83426000e-05,\n",
       "        -6.42859050e-06,  1.05726822e-05, -4.04916245e-05, -9.81083667e-06,\n",
       "        -3.23314889e-05, -8.87697242e-05,  4.81090183e-07,  8.84031033e-06,\n",
       "         1.02604590e-05, -3.94657945e-06,  1.05111758e-05, -4.54385627e-05,\n",
       "        -2.68784424e-05,  7.24703859e-05, -1.36575516e-04,  1.32573296e-05,\n",
       "         1.69719442e-05,  7.71094492e-05, -8.41357723e-06,  1.61542812e-05,\n",
       "        -1.83653210e-05,  2.01662024e-05,  3.97131116e-05, -2.47842163e-05,\n",
       "         7.97882603e-05,  6.55960957e-06, -2.41780272e-05, -7.79041511e-05,\n",
       "         6.93227412e-05,  5.89072224e-05,  7.17700605e-05, -1.81825089e-06,\n",
       "        -2.31492459e-06,  1.47191195e-05, -2.89711825e-05, -1.65956699e-05,\n",
       "        -2.68936292e-05,  4.09856584e-05,  4.24520549e-05, -2.25204076e-07,\n",
       "         7.19212585e-06,  9.82631718e-06, -7.28382111e-06,  7.37440569e-05,\n",
       "        -9.92618334e-06, -4.56835114e-05, -8.63293826e-05, -2.38332814e-06,\n",
       "         3.11398762e-05, -2.99980620e-05,  1.15472612e-05,  7.65160621e-06,\n",
       "        -8.95705307e-06, -2.43092109e-06, -8.37315019e-05,  6.61687318e-06,\n",
       "        -7.21403194e-05,  2.15783402e-05, -6.53753523e-06,  1.31832203e-05,\n",
       "        -6.65128828e-05,  2.12903280e-04, -2.34575837e-05, -2.78574062e-05,\n",
       "         2.00751529e-04,  2.71949721e-05, -2.39302371e-05,  6.19942439e-05,\n",
       "        -4.20793040e-05, -2.71126555e-05, -5.20302783e-05, -1.26982977e-05,\n",
       "         5.51307967e-05,  5.13289560e-05,  3.43225292e-06,  3.89763500e-06,\n",
       "        -1.68513179e-05, -6.77565258e-05, -2.16146291e-05, -3.76902753e-05,\n",
       "         4.49146683e-05, -1.00689267e-05, -6.02034015e-05,  1.34959526e-04,\n",
       "        -3.55139491e-08,  3.99204182e-05,  7.83695305e-06, -3.70357593e-05,\n",
       "         5.15252068e-05, -2.12641335e-05, -2.67519536e-05,  3.35371442e-05,\n",
       "        -2.18393907e-05, -1.02556123e-05,  1.82223848e-05,  6.64358522e-05,\n",
       "        -8.53096765e-07,  9.42107290e-05, -2.06190762e-05,  1.04656567e-04,\n",
       "        -3.32720119e-05,  8.10368147e-06,  5.01373652e-05,  3.85136882e-05,\n",
       "        -1.49070183e-05, -7.83694486e-05,  1.33335016e-05,  4.80556118e-05,\n",
       "        -3.23479471e-05,  2.15377804e-06,  3.22731648e-06, -1.11159216e-05,\n",
       "        -1.22026122e-05,  1.50010073e-05, -1.76785325e-05, -3.32904019e-05,\n",
       "         4.28960593e-05,  1.22244446e-05, -5.37054002e-05, -2.72651905e-05,\n",
       "         1.25804399e-06, -5.84635854e-05,  1.28527190e-05, -2.16101162e-05,\n",
       "         1.02040489e-04,  3.51524650e-05,  1.35684386e-05,  2.70982564e-05,\n",
       "        -8.02882823e-06,  1.92014122e-05, -6.03659500e-05,  8.45032719e-06,\n",
       "        -8.01262559e-06, -1.15283197e-04, -1.85869158e-05,  8.28043449e-06,\n",
       "         3.99004421e-06, -2.09015125e-05,  3.02092249e-05, -6.38733618e-05,\n",
       "        -7.11955072e-05,  9.99518379e-05, -1.99744114e-04, -1.39972326e-06,\n",
       "         1.57446993e-06,  1.04158564e-04, -8.58263775e-06,  1.44183959e-05,\n",
       "        -1.91283470e-05,  5.24763964e-05,  7.95475135e-05, -2.15772943e-05,\n",
       "         9.59174140e-05,  2.06894492e-05, -2.23579409e-05, -1.33246271e-04,\n",
       "         2.11215764e-02,  8.09257850e-03,  7.80158024e-03, -1.72913782e-02,\n",
       "         3.78457946e-03,  1.97417988e-03,  2.72382163e-02, -2.12318227e-02,\n",
       "        -3.57164606e-03,  3.99170704e-02,  4.58366051e-02,  3.83351115e-03,\n",
       "        -1.56739745e-02,  1.61793306e-02,  1.70540754e-02, -4.12718654e-02,\n",
       "        -3.47697474e-02,  9.70541686e-03, -6.06755689e-02, -7.89566082e-04,\n",
       "         3.01989913e-02,  1.88717879e-02,  1.85598712e-03, -5.46951927e-02,\n",
       "         1.42252538e-02,  1.69986654e-02,  2.54334435e-02,  1.17730750e-02,\n",
       "        -5.99973425e-02,  1.53073184e-02, -8.83310568e-04, -3.77922133e-02,\n",
       "        -4.57777604e-02,  6.65878728e-02, -3.40460660e-03,  1.02340514e-02,\n",
       "         5.63548803e-02,  2.85876058e-02,  1.54385734e-02, -1.11851729e-02,\n",
       "         4.36930135e-02,  1.24202613e-02,  1.17883151e-02,  3.89449950e-03,\n",
       "         4.46615815e-02, -5.31342104e-02,  3.29342857e-02,  5.69898868e-03,\n",
       "        -3.74087170e-02, -3.53820547e-02, -6.11213688e-03,  2.66580209e-02,\n",
       "         4.02717711e-03, -2.62685902e-02, -3.84696536e-02, -5.60287684e-02,\n",
       "         2.42071953e-02, -1.24664996e-02, -2.68483628e-02, -3.39444280e-02,\n",
       "        -4.26261500e-02, -2.09649466e-02,  1.98666714e-02,  4.13345220e-03,\n",
       "         3.24529707e-02,  3.53428442e-03,  2.29201838e-02, -1.82174593e-02,\n",
       "         3.45029868e-04, -3.61187160e-02, -3.34931314e-02,  4.42318805e-02,\n",
       "        -3.71024981e-02, -3.01543064e-03,  9.70762037e-03, -2.78820237e-03,\n",
       "        -5.58705535e-03,  6.14166930e-02, -2.88349111e-02,  2.31105182e-02,\n",
       "         1.36833722e-02,  2.51675863e-03, -1.69832930e-02,  5.28543908e-03,\n",
       "         1.90224238e-02, -1.83670148e-02, -1.11705791e-02, -2.66554430e-02,\n",
       "        -2.40848400e-02, -1.64885540e-02, -3.75064975e-03,  3.13781239e-02,\n",
       "        -4.48482065e-03, -6.15661293e-02, -1.57822166e-02,  1.54455658e-02,\n",
       "         2.30277572e-02, -1.04367174e-02, -1.51581950e-02,  3.14938016e-02,\n",
       "        -4.54044295e-03,  4.74248081e-03,  3.75948399e-02, -7.15390071e-02,\n",
       "         1.11547802e-02,  5.89513034e-02, -7.97939003e-02, -1.53780933e-02,\n",
       "         4.47772630e-03, -1.04904436e-02,  1.37439487e-03,  4.43216972e-02,\n",
       "         5.37282676e-02,  5.26911020e-02, -5.14422469e-02, -2.00103736e-03,\n",
       "        -2.89349575e-02,  2.93274615e-02, -4.02141586e-02,  7.71849928e-03,\n",
       "        -7.74317095e-03, -9.83165205e-03, -1.30991014e-02, -1.72069799e-02,\n",
       "        -4.23443131e-03,  2.44483557e-02, -7.98334368e-03, -3.10958792e-02,\n",
       "         4.23025049e-05,  5.66421659e-05,  6.78192737e-05,  3.61028833e-06,\n",
       "         1.39958115e-06,  1.74566721e-05, -3.44801301e-05, -8.18946592e-06,\n",
       "         1.07254727e-05,  1.49581228e-05,  1.41303026e-05, -1.64642152e-05,\n",
       "        -1.39482318e-05,  1.22792671e-05, -1.23337477e-05,  4.65201265e-05,\n",
       "        -1.11506761e-05, -2.83402751e-05, -5.87448085e-05, -1.79791914e-05,\n",
       "         7.91563798e-06, -2.51907295e-05, -1.29995096e-05,  5.86574060e-06,\n",
       "        -2.00828472e-05, -1.03098819e-05, -7.05084967e-05, -1.54596091e-06,\n",
       "        -6.15712852e-05,  3.51850977e-05, -2.35712832e-07,  9.85526276e-06,\n",
       "        -5.11410217e-05,  1.59029703e-04,  1.58604234e-06,  5.97916460e-06,\n",
       "         1.35867391e-04,  2.20181118e-05, -3.71597998e-05,  2.21084920e-05,\n",
       "        -3.03575798e-05, -3.64476837e-05, -3.80669662e-05, -1.93970645e-05,\n",
       "         5.27159827e-05,  2.75021666e-05,  2.05403176e-05,  1.72767614e-08,\n",
       "        -1.43247853e-05, -5.28336495e-05,  2.01269486e-05, -1.46797902e-06,\n",
       "         4.52955246e-05, -2.67514861e-05, -6.85884661e-05,  1.08820925e-04,\n",
       "        -3.93415175e-05,  3.58099896e-05, -5.32031254e-06, -3.40484621e-05,\n",
       "         3.02121334e-05, -1.85498466e-05, -2.88074079e-05,  2.97778242e-05,\n",
       "        -6.23122105e-06, -2.39385299e-05,  2.38274288e-06,  3.36586454e-05,\n",
       "        -6.92512549e-06,  5.99741361e-05, -2.68039475e-05,  7.90941413e-05,\n",
       "        -2.89804811e-05,  1.91257423e-05,  3.97592630e-05,  7.07348772e-06,\n",
       "        -2.81197572e-06, -7.01462850e-05,  2.10893631e-05,  2.23446041e-05,\n",
       "        -1.17687878e-05, -2.36326705e-05, -7.05041202e-07, -2.75972743e-05,\n",
       "        -1.26813229e-05,  2.90476892e-05, -1.42181107e-05, -4.22586163e-05,\n",
       "         3.72132563e-05,  1.48043910e-05, -3.28801725e-05, -3.82859653e-05,\n",
       "         8.07030210e-06, -5.05302014e-05,  7.40032738e-06, -2.91961060e-05,\n",
       "         6.57115670e-05,  1.41527198e-06, -1.10443152e-05,  2.62043905e-05,\n",
       "        -2.73486148e-06,  2.00054910e-05, -4.54486581e-05, -2.87801572e-06,\n",
       "        -2.71299814e-05, -1.05272353e-04, -1.43099805e-05, -1.72303589e-06,\n",
       "         1.05233830e-05, -3.86819511e-06,  1.80353472e-05, -4.63752913e-05,\n",
       "        -3.32745331e-05,  7.72592684e-05, -1.47226427e-04,  1.20099048e-05,\n",
       "         1.37799634e-05,  8.03678049e-05, -1.73600820e-05,  1.12370872e-05,\n",
       "        -2.83440531e-05,  2.88676329e-05,  3.61248312e-05, -3.67597604e-05,\n",
       "         8.87035349e-05,  5.15491411e-06, -2.25204094e-05, -8.73233657e-05],\n",
       "       dtype=float32)>,\n",
       " <tf.Tensor: shape=(128, 10000), dtype=float32, numpy=\n",
       " array([[-2.9085376e-03, -3.4341218e-03, -3.3227643e-03, ...,\n",
       "          6.5780332e-06,  6.5760551e-06,  6.5814343e-06],\n",
       "        [-4.1377498e-05, -1.5878064e-03, -2.0657380e-03, ...,\n",
       "          2.1317169e-06,  2.1327664e-06,  2.1323024e-06],\n",
       "        [ 2.2585447e-04,  1.6985065e-04, -1.0602389e-03, ...,\n",
       "         -2.5722471e-07, -2.5593630e-07, -2.5854047e-07],\n",
       "        ...,\n",
       "        [-2.7190305e-03, -1.0145394e-03, -1.7022679e-03, ...,\n",
       "          3.7665309e-06,  3.7636610e-06,  3.7641225e-06],\n",
       "        [-3.6203940e-04, -4.2704504e-04, -3.8384463e-04, ...,\n",
       "          1.4686793e-06,  1.4682261e-06,  1.4670884e-06],\n",
       "        [-2.4660276e-03, -3.9242161e-03, -4.1492456e-03, ...,\n",
       "          7.9486026e-06,  7.9450219e-06,  7.9498041e-06]], dtype=float32)>,\n",
       " <tf.Tensor: shape=(10000,), dtype=float32, numpy=\n",
       " array([-0.797998  , -1.0313318 , -1.0313317 , ...,  0.00200003,\n",
       "         0.00199933,  0.00199992], dtype=float32)>]"
      ]
     },
     "execution_count": 61,
     "metadata": {},
     "output_type": "execute_result"
    }
   ],
   "source": [
    "# Define the gradient clipping threshold\n",
    "grads, _ = tf.clip_by_global_norm(grad_t_list, max_grad_norm)\n",
    "grads"
   ]
  },
  {
   "cell_type": "markdown",
   "metadata": {},
   "source": [
    "<h4> 4.Apply the optimizer to the variables/gradients tuple. </h4>\n"
   ]
  },
  {
   "cell_type": "code",
   "execution_count": 62,
   "metadata": {},
   "outputs": [],
   "source": [
    "# Create the training TensorFlow Operation through our optimizer\n",
    "train_op = optimizer.apply_gradients(zip(grads, tvars))"
   ]
  },
  {
   "cell_type": "markdown",
   "metadata": {},
   "source": [
    "<a id=\"ltsm\"></a>\n",
    "\n",
    "<h2>LSTM</h2>\n"
   ]
  },
  {
   "cell_type": "markdown",
   "metadata": {},
   "source": [
    "We learned how the model is build step by step. Noe, let's then create a Class that represents our model. This class needs a few things:\n",
    "\n",
    "<ul>\n",
    "    <li>We have to create the model in accordance with our defined hyperparameters</li>\n",
    "    <li>We have to create the LSTM cell structure and connect them with our RNN structure</li>\n",
    "    <li>We have to create the word embeddings and point them to the input data</li>\n",
    "    <li>We have to create the input structure for our RNN</li>\n",
    "    <li>We need to create a logistic structure to return the probability of our words</li>\n",
    "    <li>We need to create the loss and cost functions for our optimizer to work, and then create the optimizer</li>\n",
    "    <li>And finally, we need to create a training operation that can be run to actually train our model</li>\n",
    "</ul>\n"
   ]
  },
  {
   "cell_type": "code",
   "execution_count": 63,
   "metadata": {},
   "outputs": [],
   "source": [
    "class PTBModel(object):\n",
    "\n",
    "\n",
    "    def __init__(self):\n",
    "        ######################################\n",
    "        # Setting parameters for ease of use #\n",
    "        ######################################\n",
    "        self.batch_size = batch_size\n",
    "        self.num_steps = num_steps\n",
    "        self.hidden_size_l1 = hidden_size_l1\n",
    "        self.hidden_size_l2 = hidden_size_l2\n",
    "        self.vocab_size = vocab_size\n",
    "        self.embeding_vector_size = embeding_vector_size\n",
    "        # Create a variable for the learning rate\n",
    "        self._lr = 1.0\n",
    "        \n",
    "        ###############################################################################\n",
    "        # Initializing the model using keras Sequential API  #\n",
    "        ###############################################################################\n",
    "        \n",
    "        self._model = tf.keras.models.Sequential()\n",
    "        \n",
    "        ####################################################################\n",
    "        # Creating the word embeddings layer and adding it to the sequence #\n",
    "        ####################################################################\n",
    "        with tf.device(\"/cpu:0\"):\n",
    "            # Create the embeddings for our input data. Size is hidden size.\n",
    "            self._embedding_layer = tf.keras.layers.Embedding(self.vocab_size, self.embeding_vector_size,batch_input_shape=(self.batch_size, self.num_steps),trainable=True,name=\"embedding_vocab\")  #[10000x200]\n",
    "            self._model.add(self._embedding_layer)\n",
    "            \n",
    "\n",
    "        ##########################################################################\n",
    "        # Creating the LSTM cell structure and connect it with the RNN structure #\n",
    "        ##########################################################################\n",
    "        # Create the LSTM Cells. \n",
    "        # This creates only the structure for the LSTM and has to be associated with a RNN unit still.\n",
    "        # The argument  of LSTMCell is size of hidden layer, that is, the number of hidden units of the LSTM (inside A). \n",
    "        # LSTM cell processes one word at a time and computes probabilities of the possible continuations of the sentence.\n",
    "        lstm_cell_l1 = tf.keras.layers.LSTMCell(hidden_size_l1)\n",
    "        lstm_cell_l2 = tf.keras.layers.LSTMCell(hidden_size_l2)\n",
    "        \n",
    "\n",
    "        \n",
    "        # By taking in the LSTM cells as parameters, the StackedRNNCells function junctions the LSTM units to the RNN units.\n",
    "        # RNN cell composed sequentially of stacked simple cells.\n",
    "        stacked_lstm = tf.keras.layers.StackedRNNCells([lstm_cell_l1, lstm_cell_l2])\n",
    "\n",
    "\n",
    "        \n",
    "\n",
    "        ############################################\n",
    "        # Creating the input structure for our RNN #\n",
    "        ############################################\n",
    "        # Input structure is 20x[30x200]\n",
    "        # Considering each word is represended by a 200 dimentional vector, and we have 30 batchs, we create 30 word-vectors of size [30xx2000]\n",
    "        # The input structure is fed from the embeddings, which are filled in by the input data\n",
    "        # Feeding a batch of b sentences to a RNN:\n",
    "        # In step 1,  first word of each of the b sentences (in a batch) is input in parallel.  \n",
    "        # In step 2,  second word of each of the b sentences is input in parallel. \n",
    "        # The parallelism is only for efficiency.  \n",
    "        # Each sentence in a batch is handled in parallel, but the network sees one word of a sentence at a time and does the computations accordingly. \n",
    "        # All the computations involving the words of all sentences in a batch at a given time step are done in parallel. \n",
    "\n",
    "        ########################################################################################################\n",
    "        # Instantiating our RNN model and setting stateful to True to feed forward the state to the next layer #\n",
    "        ########################################################################################################\n",
    "        \n",
    "        self._RNNlayer  =  tf.keras.layers.RNN(stacked_lstm,[batch_size, num_steps],return_state=False,stateful=True,trainable=True)\n",
    "        \n",
    "        # Define the initial state, i.e., the model state for the very first data point\n",
    "        # It initialize the state of the LSTM memory. The memory state of the network is initialized with a vector of zeros and gets updated after reading each word.\n",
    "        self._initial_state = tf.Variable(tf.zeros([batch_size,embeding_vector_size]),trainable=False)\n",
    "        self._RNNlayer.inital_state = self._initial_state\n",
    "    \n",
    "        ############################################\n",
    "        # Adding RNN layer to keras sequential API #\n",
    "        ############################################        \n",
    "        self._model.add(self._RNNlayer)\n",
    "        \n",
    "        #self._model.add(tf.keras.layers.LSTM(hidden_size_l1,return_sequences=True,stateful=True))\n",
    "        #self._model.add(tf.keras.layers.LSTM(hidden_size_l2,return_sequences=True))\n",
    "        \n",
    "        \n",
    "        ####################################################################################################\n",
    "        # Instantiating a Dense layer that connects the output to the vocab_size  and adding layer to model#\n",
    "        ####################################################################################################\n",
    "        self._dense = tf.keras.layers.Dense(self.vocab_size)\n",
    "        self._model.add(self._dense)\n",
    " \n",
    "        \n",
    "        ####################################################################################################\n",
    "        # Adding softmax activation layer and deriving probability to each class and adding layer to model #\n",
    "        ####################################################################################################\n",
    "        self._activation = tf.keras.layers.Activation('softmax')\n",
    "        self._model.add(self._activation)\n",
    "\n",
    "        ##########################################################\n",
    "        # Instantiating the stochastic gradient decent optimizer #\n",
    "        ########################################################## \n",
    "        self._optimizer = tf.keras.optimizers.SGD(lr=self._lr, clipnorm=max_grad_norm)\n",
    "        \n",
    "        \n",
    "        ##############################################################################\n",
    "        # Compiling and summarizing the model stacked using the keras sequential API #\n",
    "        ##############################################################################\n",
    "        self._model.compile(loss=self.crossentropy, optimizer=self._optimizer)\n",
    "        self._model.summary()\n",
    "\n",
    "\n",
    "    def crossentropy(self,y_true, y_pred):\n",
    "        return tf.keras.losses.sparse_categorical_crossentropy(y_true, y_pred)\n",
    "\n",
    "    def train_batch(self,_input_data,_targets):\n",
    "        #################################################\n",
    "        # Creating the Training Operation for our Model #\n",
    "        #################################################\n",
    "        # Create a variable for the learning rate\n",
    "        self._lr = tf.Variable(0.0, trainable=False)\n",
    "        # Get all TensorFlow variables marked as \"trainable\" (i.e. all of them except _lr, which we just created)\n",
    "        tvars = self._model.trainable_variables\n",
    "        # Define the gradient clipping threshold\n",
    "        with tf.GradientTape() as tape:\n",
    "            # Forward pass.\n",
    "            output_words_prob = self._model(_input_data)\n",
    "            # Loss value for this batch.\n",
    "            loss  = self.crossentropy(_targets, output_words_prob)\n",
    "            # average across batch and reduce sum\n",
    "            cost = tf.reduce_sum(loss/ self.batch_size)\n",
    "        # Get gradients of loss wrt the trainable variables.\n",
    "        grad_t_list = tape.gradient(cost, tvars)\n",
    "        # Define the gradient clipping threshold\n",
    "        grads, _ = tf.clip_by_global_norm(grad_t_list, max_grad_norm)\n",
    "        # Create the training TensorFlow Operation through our optimizer\n",
    "        train_op = self._optimizer.apply_gradients(zip(grads, tvars))\n",
    "        return cost\n",
    "        \n",
    "    def test_batch(self,_input_data,_targets):\n",
    "        #################################################\n",
    "        # Creating the Testing Operation for our Model #\n",
    "        #################################################\n",
    "        output_words_prob = self._model(_input_data)\n",
    "        loss  = self.crossentropy(_targets, output_words_prob)\n",
    "        # average across batch and reduce sum\n",
    "        cost = tf.reduce_sum(loss/ self.batch_size)\n",
    "\n",
    "        return cost\n",
    "    @classmethod\n",
    "    def instance(cls) : \n",
    "        return PTBModel()"
   ]
  },
  {
   "cell_type": "markdown",
   "metadata": {},
   "source": [
    "With that, the actual structure of our Recurrent Neural Network with Long Short-Term Memory is finished. What remains for us to do is to actually create the methods to run through time -- that is, the <code>run_epoch</code> method to be run at each epoch and a <code>main</code> script which ties all of this together.\n",
    "\n",
    "What our <code>run_epoch</code> method should do is take our input data and feed it to the relevant operations. This will return at the very least the current result for the cost function.\n"
   ]
  },
  {
   "cell_type": "code",
   "execution_count": 64,
   "metadata": {},
   "outputs": [],
   "source": [
    "\n",
    "########################################################################################################################\n",
    "# run_one_epoch takes as parameters  the model instance, the data to be fed, training or testing mode and verbose info #\n",
    "########################################################################################################################\n",
    "def run_one_epoch(m, data,is_training=True,verbose=False):\n",
    "\n",
    "    #Define the epoch size based on the length of the data, batch size and the number of steps\n",
    "    epoch_size = ((len(data) // m.batch_size) - 1) // m.num_steps\n",
    "    start_time = time.time()\n",
    "    costs = 0.\n",
    "    iters = 0\n",
    "    \n",
    "    m._model.reset_states()\n",
    "    \n",
    "    #For each step and data point\n",
    "    for step, (x, y) in enumerate(reader.ptb_iterator(data, m.batch_size, m.num_steps)):\n",
    "        \n",
    "        #Evaluate and return cost, state by running cost, final_state and the function passed as parameter\n",
    "        #y = tf.keras.utils.to_categorical(y, num_classes=vocab_size)\n",
    "        if is_training : \n",
    "            loss=  m.train_batch(x, y)\n",
    "        else :\n",
    "            loss = m.test_batch(x, y)\n",
    "                                   \n",
    "\n",
    "        #Add returned cost to costs (which keeps track of the total costs for this epoch)\n",
    "        costs += loss\n",
    "        \n",
    "        #Add number of steps to iteration counter\n",
    "        iters += m.num_steps\n",
    "\n",
    "        if verbose and step % (epoch_size // 10) == 10:\n",
    "            print(\"Itr %d of %d, perplexity: %.3f speed: %.0f wps\" % (step , epoch_size, np.exp(costs / iters), iters * m.batch_size / (time.time() - start_time)))\n",
    "        \n",
    "\n",
    "\n",
    "    # Returns the Perplexity rating for us to keep track of how the model is evolving\n",
    "    return np.exp(costs / iters)\n"
   ]
  },
  {
   "cell_type": "markdown",
   "metadata": {},
   "source": [
    "Now, we create the <code>main</code> method to tie everything together. The code here reads the data from the directory, using the <code>reader</code> helper module, and then trains and evaluates the model on both a testing and a validating subset of data.\n"
   ]
  },
  {
   "cell_type": "code",
   "execution_count": 65,
   "metadata": {},
   "outputs": [],
   "source": [
    "# Reads the data and separates it into training data, validation data and testing data\n",
    "raw_data = reader.ptb_raw_data(data_dir)\n",
    "train_data, valid_data, test_data, _, _ = raw_data"
   ]
  },
  {
   "cell_type": "code",
   "execution_count": 66,
   "metadata": {},
   "outputs": [
    {
     "name": "stdout",
     "output_type": "stream",
     "text": [
      "Model: \"sequential_1\"\n",
      "_________________________________________________________________\n",
      " Layer (type)                Output Shape              Param #   \n",
      "=================================================================\n",
      " embedding_vocab (Embedding)  (30, 20, 200)            2000000   \n",
      "                                                                 \n",
      " rnn_1 (RNN)                 (30, 20, 128)             671088    \n",
      "                                                                 \n",
      " dense_1 (Dense)             (30, 20, 10000)           1290000   \n",
      "                                                                 \n",
      " activation_1 (Activation)   (30, 20, 10000)           0         \n",
      "                                                                 \n",
      "=================================================================\n",
      "Total params: 3,961,088\n",
      "Trainable params: 3,955,088\n",
      "Non-trainable params: 6,000\n",
      "_________________________________________________________________\n",
      "Epoch 1 : Learning rate: 1.000\n",
      "Itr 10 of 1549, perplexity: 4487.816 speed: 1903 wps\n",
      "Itr 164 of 1549, perplexity: 1090.345 speed: 1890 wps\n",
      "Itr 318 of 1549, perplexity: 866.123 speed: 1908 wps\n",
      "Itr 472 of 1549, perplexity: 741.039 speed: 1853 wps\n",
      "Itr 626 of 1549, perplexity: 648.915 speed: 1785 wps\n",
      "Itr 780 of 1549, perplexity: 589.922 speed: 1800 wps\n",
      "Itr 934 of 1549, perplexity: 538.360 speed: 1820 wps\n",
      "Itr 1088 of 1549, perplexity: 496.900 speed: 1852 wps\n",
      "Itr 1242 of 1549, perplexity: 463.712 speed: 1858 wps\n",
      "Itr 1396 of 1549, perplexity: 432.462 speed: 1875 wps\n",
      "Epoch 1 : Train Perplexity: 407.293\n",
      "Epoch 1 : Valid Perplexity: 236.057\n",
      "Epoch 2 : Learning rate: 1.000\n",
      "Itr 10 of 1549, perplexity: 261.578 speed: 1587 wps\n",
      "Itr 164 of 1549, perplexity: 235.514 speed: 1681 wps\n",
      "Itr 318 of 1549, perplexity: 226.406 speed: 1740 wps\n",
      "Itr 472 of 1549, perplexity: 216.876 speed: 1822 wps\n",
      "Itr 626 of 1549, perplexity: 207.154 speed: 1767 wps\n",
      "Itr 780 of 1549, perplexity: 202.975 speed: 1729 wps\n",
      "Itr 934 of 1549, perplexity: 198.221 speed: 1707 wps\n",
      "Itr 1088 of 1549, perplexity: 194.237 speed: 1691 wps\n",
      "Itr 1242 of 1549, perplexity: 191.351 speed: 1677 wps\n",
      "Itr 1396 of 1549, perplexity: 186.649 speed: 1663 wps\n",
      "Epoch 2 : Train Perplexity: 183.250\n",
      "Epoch 2 : Valid Perplexity: 172.625\n",
      "Epoch 3 : Learning rate: 1.000\n",
      "Itr 10 of 1549, perplexity: 178.036 speed: 1658 wps\n",
      "Itr 164 of 1549, perplexity: 161.211 speed: 1641 wps\n",
      "Itr 318 of 1549, perplexity: 157.190 speed: 1744 wps\n",
      "Itr 472 of 1549, perplexity: 152.201 speed: 1801 wps\n",
      "Itr 626 of 1549, perplexity: 146.694 speed: 1843 wps\n",
      "Itr 780 of 1549, perplexity: 145.274 speed: 1852 wps\n",
      "Itr 934 of 1549, perplexity: 143.310 speed: 1859 wps\n",
      "Itr 1088 of 1549, perplexity: 141.535 speed: 1870 wps\n",
      "Itr 1242 of 1549, perplexity: 140.538 speed: 1878 wps\n",
      "Itr 1396 of 1549, perplexity: 138.009 speed: 1887 wps\n",
      "Epoch 3 : Train Perplexity: 136.506\n",
      "Epoch 3 : Valid Perplexity: 152.945\n",
      "Epoch 4 : Learning rate: 1.000\n",
      "Itr 10 of 1549, perplexity: 141.575 speed: 2119 wps\n",
      "Itr 164 of 1549, perplexity: 129.227 speed: 2176 wps\n",
      "Itr 318 of 1549, perplexity: 127.360 speed: 2176 wps\n",
      "Itr 472 of 1549, perplexity: 123.861 speed: 2150 wps\n",
      "Itr 626 of 1549, perplexity: 119.723 speed: 2150 wps\n",
      "Itr 780 of 1549, perplexity: 119.142 speed: 2159 wps\n",
      "Itr 934 of 1549, perplexity: 118.061 speed: 1975 wps\n",
      "Itr 1088 of 1549, perplexity: 117.049 speed: 1848 wps\n",
      "Itr 1242 of 1549, perplexity: 116.530 speed: 1791 wps\n",
      "Itr 1396 of 1549, perplexity: 114.728 speed: 1744 wps\n",
      "Epoch 4 : Train Perplexity: 113.834\n",
      "Epoch 4 : Valid Perplexity: 141.554\n",
      "Epoch 5 : Learning rate: 1.000\n",
      "Itr 10 of 1549, perplexity: 121.035 speed: 1542 wps\n",
      "Itr 164 of 1549, perplexity: 111.570 speed: 1402 wps\n",
      "Itr 318 of 1549, perplexity: 110.265 speed: 1362 wps\n",
      "Itr 472 of 1549, perplexity: 107.303 speed: 1352 wps\n",
      "Itr 626 of 1549, perplexity: 104.014 speed: 1358 wps\n",
      "Itr 780 of 1549, perplexity: 103.830 speed: 1365 wps\n",
      "Itr 934 of 1549, perplexity: 103.146 speed: 1376 wps\n",
      "Itr 1088 of 1549, perplexity: 102.423 speed: 1393 wps\n",
      "Itr 1242 of 1549, perplexity: 102.126 speed: 1441 wps\n",
      "Itr 1396 of 1549, perplexity: 100.747 speed: 1474 wps\n",
      "Epoch 5 : Train Perplexity: 100.116\n",
      "Epoch 5 : Valid Perplexity: 137.461\n",
      "Epoch 6 : Learning rate: 0.500\n",
      "Itr 10 of 1549, perplexity: 105.783 speed: 2052 wps\n",
      "Itr 164 of 1549, perplexity: 96.395 speed: 2010 wps\n",
      "Itr 318 of 1549, perplexity: 94.295 speed: 1946 wps\n",
      "Itr 472 of 1549, perplexity: 90.875 speed: 1967 wps\n",
      "Itr 626 of 1549, perplexity: 87.237 speed: 1976 wps\n",
      "Itr 780 of 1549, perplexity: 86.519 speed: 1947 wps\n",
      "Itr 934 of 1549, perplexity: 85.350 speed: 1940 wps\n",
      "Itr 1088 of 1549, perplexity: 84.171 speed: 1948 wps\n",
      "Itr 1242 of 1549, perplexity: 83.378 speed: 1953 wps\n",
      "Itr 1396 of 1549, perplexity: 81.676 speed: 1933 wps\n",
      "Epoch 6 : Train Perplexity: 80.638\n",
      "Epoch 6 : Valid Perplexity: 128.193\n",
      "Epoch 7 : Learning rate: 0.250\n",
      "Itr 10 of 1549, perplexity: 90.768 speed: 2017 wps\n",
      "Itr 164 of 1549, perplexity: 83.539 speed: 2202 wps\n",
      "Itr 318 of 1549, perplexity: 81.806 speed: 2223 wps\n",
      "Itr 472 of 1549, perplexity: 78.849 speed: 2234 wps\n",
      "Itr 626 of 1549, perplexity: 75.545 speed: 2179 wps\n",
      "Itr 780 of 1549, perplexity: 74.845 speed: 2137 wps\n",
      "Itr 934 of 1549, perplexity: 73.767 speed: 2147 wps\n",
      "Itr 1088 of 1549, perplexity: 72.628 speed: 2163 wps\n",
      "Itr 1242 of 1549, perplexity: 71.785 speed: 2155 wps\n",
      "Itr 1396 of 1549, perplexity: 70.146 speed: 2151 wps\n",
      "Epoch 7 : Train Perplexity: 69.070\n",
      "Epoch 7 : Valid Perplexity: 125.943\n",
      "Epoch 8 : Learning rate: 0.125\n",
      "Itr 10 of 1549, perplexity: 81.707 speed: 2177 wps\n",
      "Itr 164 of 1549, perplexity: 75.981 speed: 2144 wps\n",
      "Itr 318 of 1549, perplexity: 74.559 speed: 2010 wps\n",
      "Itr 472 of 1549, perplexity: 71.909 speed: 2008 wps\n",
      "Itr 626 of 1549, perplexity: 68.836 speed: 2033 wps\n",
      "Itr 780 of 1549, perplexity: 68.188 speed: 2036 wps\n",
      "Itr 934 of 1549, perplexity: 67.177 speed: 2055 wps\n",
      "Itr 1088 of 1549, perplexity: 66.108 speed: 2053 wps\n",
      "Itr 1242 of 1549, perplexity: 65.279 speed: 2067 wps\n",
      "Itr 1396 of 1549, perplexity: 63.731 speed: 2087 wps\n",
      "Epoch 8 : Train Perplexity: 62.699\n",
      "Epoch 8 : Valid Perplexity: 125.252\n",
      "Epoch 9 : Learning rate: 0.062\n",
      "Itr 10 of 1549, perplexity: 76.872 speed: 2267 wps\n",
      "Itr 164 of 1549, perplexity: 71.973 speed: 1962 wps\n",
      "Itr 318 of 1549, perplexity: 70.711 speed: 1965 wps\n",
      "Itr 472 of 1549, perplexity: 68.222 speed: 1949 wps\n",
      "Itr 626 of 1549, perplexity: 65.293 speed: 1965 wps\n",
      "Itr 780 of 1549, perplexity: 64.688 speed: 1964 wps\n",
      "Itr 934 of 1549, perplexity: 63.723 speed: 1997 wps\n",
      "Itr 1088 of 1549, perplexity: 62.685 speed: 2024 wps\n",
      "Itr 1242 of 1549, perplexity: 61.869 speed: 2031 wps\n",
      "Itr 1396 of 1549, perplexity: 60.374 speed: 2037 wps\n",
      "Epoch 9 : Train Perplexity: 59.375\n",
      "Epoch 9 : Valid Perplexity: 124.764\n",
      "Epoch 10 : Learning rate: 0.031\n",
      "Itr 10 of 1549, perplexity: 74.409 speed: 1518 wps\n",
      "Itr 164 of 1549, perplexity: 69.848 speed: 1561 wps\n",
      "Itr 318 of 1549, perplexity: 68.694 speed: 1570 wps\n",
      "Itr 472 of 1549, perplexity: 66.278 speed: 1643 wps\n",
      "Itr 626 of 1549, perplexity: 63.420 speed: 1712 wps\n",
      "Itr 780 of 1549, perplexity: 62.840 speed: 1736 wps\n",
      "Itr 934 of 1549, perplexity: 61.905 speed: 1784 wps\n",
      "Itr 1088 of 1549, perplexity: 60.879 speed: 1817 wps\n",
      "Itr 1242 of 1549, perplexity: 60.067 speed: 1857 wps\n",
      "Itr 1396 of 1549, perplexity: 58.602 speed: 1886 wps\n",
      "Epoch 10 : Train Perplexity: 57.620\n",
      "Epoch 10 : Valid Perplexity: 124.350\n",
      "Epoch 11 : Learning rate: 0.016\n",
      "Itr 10 of 1549, perplexity: 73.075 speed: 1910 wps\n",
      "Itr 164 of 1549, perplexity: 68.674 speed: 2039 wps\n",
      "Itr 318 of 1549, perplexity: 67.586 speed: 2045 wps\n",
      "Itr 472 of 1549, perplexity: 65.223 speed: 2137 wps\n",
      "Itr 626 of 1549, perplexity: 62.404 speed: 2194 wps\n",
      "Itr 780 of 1549, perplexity: 61.838 speed: 2230 wps\n",
      "Itr 934 of 1549, perplexity: 60.924 speed: 2254 wps\n",
      "Itr 1088 of 1549, perplexity: 59.900 speed: 2269 wps\n",
      "Itr 1242 of 1549, perplexity: 59.091 speed: 2282 wps\n",
      "Itr 1396 of 1549, perplexity: 57.643 speed: 2293 wps\n",
      "Epoch 11 : Train Perplexity: 56.673\n",
      "Epoch 11 : Valid Perplexity: 124.051\n",
      "Epoch 12 : Learning rate: 0.008\n",
      "Itr 10 of 1549, perplexity: 72.330 speed: 2393 wps\n",
      "Itr 164 of 1549, perplexity: 68.023 speed: 2401 wps\n",
      "Itr 318 of 1549, perplexity: 66.969 speed: 2390 wps\n",
      "Itr 472 of 1549, perplexity: 64.645 speed: 2375 wps\n",
      "Itr 626 of 1549, perplexity: 61.847 speed: 2364 wps\n",
      "Itr 780 of 1549, perplexity: 61.287 speed: 2358 wps\n"
     ]
    },
    {
     "name": "stdout",
     "output_type": "stream",
     "text": [
      "Itr 934 of 1549, perplexity: 60.386 speed: 2291 wps\n",
      "Itr 1088 of 1549, perplexity: 59.366 speed: 2259 wps\n",
      "Itr 1242 of 1549, perplexity: 58.556 speed: 2266 wps\n",
      "Itr 1396 of 1549, perplexity: 57.119 speed: 2271 wps\n",
      "Epoch 12 : Train Perplexity: 56.155\n",
      "Epoch 12 : Valid Perplexity: 123.812\n",
      "Epoch 13 : Learning rate: 0.004\n",
      "Itr 10 of 1549, perplexity: 71.924 speed: 2253 wps\n",
      "Itr 164 of 1549, perplexity: 67.668 speed: 2016 wps\n",
      "Itr 318 of 1549, perplexity: 66.634 speed: 1977 wps\n",
      "Itr 472 of 1549, perplexity: 64.339 speed: 1922 wps\n",
      "Itr 626 of 1549, perplexity: 61.548 speed: 2004 wps\n",
      "Itr 780 of 1549, perplexity: 60.991 speed: 2058 wps\n",
      "Itr 934 of 1549, perplexity: 60.095 speed: 2093 wps\n",
      "Itr 1088 of 1549, perplexity: 59.080 speed: 2121 wps\n",
      "Itr 1242 of 1549, perplexity: 58.269 speed: 2142 wps\n",
      "Itr 1396 of 1549, perplexity: 56.838 speed: 2158 wps\n",
      "Epoch 13 : Train Perplexity: 55.877\n",
      "Epoch 13 : Valid Perplexity: 123.587\n",
      "Epoch 14 : Learning rate: 0.002\n",
      "Itr 10 of 1549, perplexity: 71.676 speed: 2286 wps\n",
      "Itr 164 of 1549, perplexity: 67.460 speed: 2320 wps\n",
      "Itr 318 of 1549, perplexity: 66.441 speed: 2321 wps\n",
      "Itr 472 of 1549, perplexity: 64.170 speed: 2313 wps\n",
      "Itr 626 of 1549, perplexity: 61.384 speed: 2289 wps\n",
      "Itr 780 of 1549, perplexity: 60.830 speed: 2200 wps\n",
      "Itr 934 of 1549, perplexity: 59.937 speed: 2070 wps\n",
      "Itr 1088 of 1549, perplexity: 58.925 speed: 1988 wps\n",
      "Itr 1242 of 1549, perplexity: 58.115 speed: 1930 wps\n",
      "Itr 1396 of 1549, perplexity: 56.688 speed: 1901 wps\n",
      "Epoch 14 : Train Perplexity: 55.729\n",
      "Epoch 14 : Valid Perplexity: 123.423\n",
      "Epoch 15 : Learning rate: 0.001\n",
      "Itr 10 of 1549, perplexity: 71.534 speed: 1937 wps\n",
      "Itr 164 of 1549, perplexity: 67.341 speed: 1940 wps\n",
      "Itr 318 of 1549, perplexity: 66.330 speed: 1934 wps\n",
      "Itr 472 of 1549, perplexity: 64.073 speed: 1933 wps\n",
      "Itr 626 of 1549, perplexity: 61.293 speed: 1968 wps\n",
      "Itr 780 of 1549, perplexity: 60.741 speed: 1997 wps\n",
      "Itr 934 of 1549, perplexity: 59.851 speed: 2018 wps\n",
      "Itr 1088 of 1549, perplexity: 58.841 speed: 2037 wps\n",
      "Itr 1242 of 1549, perplexity: 58.033 speed: 2054 wps\n",
      "Itr 1396 of 1549, perplexity: 56.608 speed: 2061 wps\n",
      "Epoch 15 : Train Perplexity: 55.650\n",
      "Epoch 15 : Valid Perplexity: 123.331\n",
      "Test Perplexity: 117.723\n"
     ]
    }
   ],
   "source": [
    "\n",
    "# Instantiates the PTBModel class\n",
    "m=PTBModel.instance()   \n",
    "K = tf.keras.backend \n",
    "for i in range(max_epoch):\n",
    "    # Define the decay for this epoch\n",
    "    lr_decay = decay ** max(i - max_epoch_decay_lr, 0.0)\n",
    "    dcr = learning_rate * lr_decay\n",
    "    m._lr = dcr\n",
    "    K.set_value(m._model.optimizer.learning_rate,m._lr)\n",
    "    print(\"Epoch %d : Learning rate: %.3f\" % (i + 1, m._model.optimizer.learning_rate))\n",
    "    # Run the loop for this epoch in the training mode\n",
    "    train_perplexity = run_one_epoch(m, train_data,is_training=True,verbose=True)\n",
    "    print(\"Epoch %d : Train Perplexity: %.3f\" % (i + 1, train_perplexity))\n",
    "        \n",
    "    # Run the loop for this epoch in the validation mode\n",
    "    valid_perplexity = run_one_epoch(m, valid_data,is_training=False,verbose=False)\n",
    "    print(\"Epoch %d : Valid Perplexity: %.3f\" % (i + 1, valid_perplexity))\n",
    "    \n",
    "# Run the loop in the testing mode to see how effective was our training\n",
    "test_perplexity = run_one_epoch(m, test_data,is_training=False,verbose=False)\n",
    "print(\"Test Perplexity: %.3f\" % test_perplexity)\n",
    "\n"
   ]
  },
  {
   "cell_type": "markdown",
   "metadata": {},
   "source": [
    "As you can see, the model's perplexity rating drops very quickly after a few iterations. As was elaborated before, <b>lower Perplexity means that the model is more certain about its prediction</b>. As such, we can be sure that this model is performing well!\n"
   ]
  },
  {
   "cell_type": "markdown",
   "metadata": {},
   "source": [
    "* * *\n"
   ]
  },
  {
   "cell_type": "markdown",
   "metadata": {},
   "source": [
    "This is the end of the <b>Applying Recurrent Neural Networks to Text Processing</b> notebook. Hopefully you now have a better understanding of Recurrent Neural Networks and how to implement one utilizing TensorFlow. Thank you for reading this notebook, and good luck on your studies.\n"
   ]
  },
  {
   "cell_type": "markdown",
   "metadata": {},
   "source": [
    "## Want to learn more?\n",
    "\n",
    "Also, you can use **Watson Studio** to run these notebooks faster with bigger datasets.**Watson Studio** is IBM’s leading cloud solution for data scientists, built by data scientists. With Jupyter notebooks, RStudio, Apache Spark and popular libraries pre-packaged in the cloud, **Watson Studio** enables data scientists to collaborate on their projects without having to install anything. Join the fast-growing community of **Watson Studio** users today with a free account at [Watson Studio](https://cocl.us/ML0120EN_DSX).This is the end of this lesson. Thank you for reading this notebook, and good luck on your studies.\n"
   ]
  },
  {
   "cell_type": "markdown",
   "metadata": {},
   "source": [
    "### Thanks for completing this lesson!\n",
    "\n",
    "Notebook created by <a href=\"https://br.linkedin.com/in/walter-gomes-de-amorim-junior-624726121?utm_medium=Exinfluencer&utm_source=Exinfluencer&utm_content=000026UJ&utm_term=10006555&utm_id=NA-SkillsNetwork-Channel-SkillsNetworkCoursesIBMDeveloperSkillsNetworkDL0120ENSkillsNetwork954-2022-01-01\">Walter Gomes de Amorim Junior</a>, <a href = \"https://linkedin.com/in/saeedaghabozorgi?utm_medium=Exinfluencer&utm_source=Exinfluencer&utm_content=000026UJ&utm_term=10006555&utm_id=NA-SkillsNetwork-Channel-SkillsNetworkCoursesIBMDeveloperSkillsNetworkDL0120ENSkillsNetwork954-2022-01-01\"> Saeed Aghabozorgi </a></h4>\n",
    "\n",
    "Updated to TF 2.X by <a href=\"https://linkedin.com/in/romeo-kienzler-089b4557?utm_medium=Exinfluencer&utm_source=Exinfluencer&utm_content=000026UJ&utm_term=10006555&utm_id=NA-SkillsNetwork-Channel-SkillsNetworkCoursesIBMDeveloperSkillsNetworkDL0120ENSkillsNetwork954-2022-01-01\"> Romeo Kienzler </a>, <a href=\"https://www.linkedin.com/in/samaya-madhavan?utm_medium=Exinfluencer&utm_source=Exinfluencer&utm_content=000026UJ&utm_term=10006555&utm_id=NA-SkillsNetwork-Channel-SkillsNetworkCoursesIBMDeveloperSkillsNetworkDL0120ENSkillsNetwork954-2022-01-01\"> Samaya Madhavan </a>\n"
   ]
  },
  {
   "cell_type": "markdown",
   "metadata": {},
   "source": [
    "\n",
    "## Change Log\n",
    "\n",
    "|  Date (YYYY-MM-DD) |  Version | Changed By  |  Change Description |\n",
    "|---|---|---|---|\n",
    "| 2020-09-21  | 2.0  | Srishti  |  Migrated Lab to Markdown and added to course repo in GitLab |\n",
    "\n",
    "\n",
    "\n",
    "<hr>\n",
    "\n",
    "## <h3 align=\"center\"> © IBM Corporation 2020. All rights reserved. <h3/>\n"
   ]
  },
  {
   "cell_type": "markdown",
   "metadata": {},
   "source": [
    "<hr>\n",
    "\n",
    "Copyright © 2018 [Cognitive Class](https://cocl.us/DX0108EN_CC). This notebook and its source code are released under the terms of the [MIT License](https://bigdatauniversity.com/mit-license?utm_medium=Exinfluencer&utm_source=Exinfluencer&utm_content=000026UJ&utm_term=10006555&utm_id=NA-SkillsNetwork-Channel-SkillsNetworkCoursesIBMDeveloperSkillsNetworkDL0120ENSkillsNetwork954-2022-01-01&cm_mmc=Email_Newsletter-_-Developer_Ed%2BTech-_-WW_WW-_-SkillsNetwork-Courses-IBMDeveloperSkillsNetwork-DL0120EN-SkillsNetwork-20629446&cm_mmca1=000026UJ&cm_mmca2=10006555&cm_mmca3=M12345678&cvosrc=email.Newsletter.M12345678&cvo_campaign=000026UJ).\n"
   ]
  }
 ],
 "metadata": {
  "kernelspec": {
   "display_name": "Python 3 (ipykernel)",
   "language": "python",
   "name": "python3"
  },
  "language_info": {
   "codemirror_mode": {
    "name": "ipython",
    "version": 3
   },
   "file_extension": ".py",
   "mimetype": "text/x-python",
   "name": "python",
   "nbconvert_exporter": "python",
   "pygments_lexer": "ipython3",
   "version": "3.9.7"
  }
 },
 "nbformat": 4,
 "nbformat_minor": 4
}
