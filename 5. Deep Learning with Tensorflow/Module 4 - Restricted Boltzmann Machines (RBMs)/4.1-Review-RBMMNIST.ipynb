{
 "cells": [
  {
   "cell_type": "markdown",
   "metadata": {},
   "source": [
    "<img src=\"https://cf-courses-data.s3.us.cloud-object-storage.appdomain.cloud/IBMDeveloperSkillsNetwork-DL0120EN-SkillsNetwork/images/IDSN-logo.png\" width=\"300\" alt=\"cognitiveclass.ai logo\">\n",
    "\n",
    "<h1 align=\"center\"><font size=\"5\">RESTRICTED BOLTZMANN MACHINES</font></h1>\n"
   ]
  },
  {
   "cell_type": "markdown",
   "metadata": {},
   "source": [
    "Estimated time needed: **25** minutes\n"
   ]
  },
  {
   "cell_type": "markdown",
   "metadata": {},
   "source": [
    "<h3>Introduction</h3>\n",
    "<b>Restricted Boltzmann Machine (RBM):</b>  RBMs are shallow neural nets that learn to reconstruct data by themselves in an unsupervised fashion.  \n",
    "\n",
    "\n",
    "<h4>Why are RBMs important?</h4>\n",
    "An RBM are a basic form of autoencoder.  It can automatically extract <b>meaningful</b> features from a given input.\n",
    "\n",
    "\n",
    "<h4>How does it work?</h4>\n",
    "RBM is a 2 layer neural network. Simply, RBM takes the inputs and translates those into a set of binary values that represents them in the hidden layer. Then, these numbers can be translated back to reconstruct the inputs. Through several forward and backward passes, the RBM will be trained, and a trained RBM can reveal which features are the most important ones when detecting patterns.   \n",
    "\n",
    "\n",
    "<h4>What are the applications of an RBM?</h4>\n",
    "RBM is useful for <a href='http://www.cs.utoronto.ca/~hinton/absps/netflixICML.pdf?utm_medium=Exinfluencer&utm_source=Exinfluencer&utm_content=000026UJ&utm_term=10006555&utm_id=NA-SkillsNetwork-Channel-SkillsNetworkCoursesIBMDeveloperSkillsNetworkDL0120ENSkillsNetwork954-2022-01-01'>  Collaborative Filtering</a>, dimensionality reduction, classification, regression, feature learning, topic modeling and even <b>Deep Belief Networks</b>.\n",
    "\n",
    "<h4>Is RBM a generative or Discriminative model?</h4>\n",
    "RBM is a generative model. Let me explain it by first, see what is different between discriminative and generative models: \n",
    "\n",
    "<b>Discriminative:</b> Consider a classification problem where we want to learn to distinguish between Sedan cars (y = 1) and SUV cars (y = 0), based on some features of cars. Given a training set, an algorithm like logistic regression tries to find a straight line, or <i>decision boundary</i>, that separates the suv and sedan.  \n",
    "\n",
    "<b>Generative:</b> looking at cars, we can build a model of what Sedan cars look like. Then, looking at SUVs, we can build a separate model of what SUV cars look like. Finally, to classify a new car, we can match the new car against the Sedan model, and match it against the SUV model, to see whether the new car looks more like the SUV or Sedan. \n",
    "\n",
    "Generative Models specify a probability distribution over a dataset of input vectors. We can carry out both supervised and unsupervised tasks with generative models:\n",
    "<ul>\n",
    "    <li>In an unsupervised task, we try to form a model for $P(x)$, where $P$ is the probability given $x$ as an input vector.</li>\n",
    "    <li>In the supervised task, we first form a model for $P(x|y)$, where $P$ is the probability of $x$ given $y$(the label for $x$). For example, if $y = 0$ indicates that a car is an SUV, and $y = 1$ indicates that a car is a sedan, then $p(x|y = 0)$ models the distribution of SUV features, and $p(x|y = 1)$ models the distribution of sedan features. If we manage to find $P(x|y)$ and $P(y)$, then we can use <b>Bayes rule</b> to estimate $P(y|x)$, because:   \n",
    "        $$p(y|x) = \\frac{p(x|y)p(y)}{p(x)}$$</li>\n",
    "</ul>\n",
    "Now the question is, can we build a generative model, and then use it to create synthetic data by directly sampling from the modeled probability distributions? Lets see. \n"
   ]
  },
  {
   "cell_type": "markdown",
   "metadata": {},
   "source": [
    "<h2>Table of Contents</h2>\n",
    "<ol>\n",
    "    <li><a href=\"#ref1\">Initialization</a></li>\n",
    "    <li><a href=\"#ref2\">RBM layers</a></li>\n",
    "    <li><a href=\"#ref3\">What RBM can do after training?</a></li>\n",
    "    <li><a href=\"#ref4\">How to train the model?</a></li>\n",
    "    <li><a href=\"#ref5\">Learned features</a></li>\n",
    "</ol>\n",
    "<p></p>\n",
    "</div>\n",
    "<br>\n",
    "\n",
    "<hr>\n"
   ]
  },
  {
   "cell_type": "markdown",
   "metadata": {},
   "source": [
    "<a id=\"ref1\"></a>\n",
    "<h3>Initialization</h3>\n",
    "\n",
    "First, we have to load the utility file which contains different utility functions that are not connected\n",
    "in any way to the networks presented in the tutorials, but rather help in\n",
    "processing the outputs into a more understandable way.\n"
   ]
  },
  {
   "cell_type": "code",
   "execution_count": 1,
   "metadata": {},
   "outputs": [],
   "source": [
    "import urllib.request\n",
    "with urllib.request.urlopen(\"https://cf-courses-data.s3.us.cloud-object-storage.appdomain.cloud/IBMDeveloperSkillsNetwork-DL0120EN-SkillsNetwork/labs/Week4/data/utils.py\") as url:\n",
    "    response = url.read()\n",
    "target = open('utils.py', 'w')\n",
    "target.write(response.decode('utf-8'))\n",
    "target.close()"
   ]
  },
  {
   "cell_type": "markdown",
   "metadata": {},
   "source": [
    "<h2>Installing TensorFlow </h2>\n",
    "\n",
    "We will installing TensorFlow version 2.2.0 and its required prerequistes.  Also installing pillow...\n"
   ]
  },
  {
   "cell_type": "code",
   "execution_count": 2,
   "metadata": {
    "collapsed": true,
    "jupyter": {
     "outputs_hidden": true
    },
    "tags": []
   },
   "outputs": [
    {
     "name": "stdout",
     "output_type": "stream",
     "text": [
      "Requirement already satisfied: grpcio==1.24.3 in /home/jupyterlab/conda/envs/python/lib/python3.7/site-packages (1.24.3)\n",
      "Requirement already satisfied: six>=1.5.2 in /home/jupyterlab/conda/envs/python/lib/python3.7/site-packages (from grpcio==1.24.3) (1.16.0)\n",
      "Requirement already satisfied: tensorflow==2.2.0 in /home/jupyterlab/conda/envs/python/lib/python3.7/site-packages (2.2.0)\n",
      "Requirement already satisfied: astunparse==1.6.3 in /home/jupyterlab/conda/envs/python/lib/python3.7/site-packages (from tensorflow==2.2.0) (1.6.3)\n",
      "Requirement already satisfied: h5py<2.11.0,>=2.10.0 in /home/jupyterlab/conda/envs/python/lib/python3.7/site-packages (from tensorflow==2.2.0) (2.10.0)\n",
      "Requirement already satisfied: absl-py>=0.7.0 in /home/jupyterlab/conda/envs/python/lib/python3.7/site-packages (from tensorflow==2.2.0) (1.3.0)\n",
      "Requirement already satisfied: protobuf>=3.8.0 in /home/jupyterlab/conda/envs/python/lib/python3.7/site-packages (from tensorflow==2.2.0) (4.21.8)\n",
      "Requirement already satisfied: keras-preprocessing>=1.1.0 in /home/jupyterlab/conda/envs/python/lib/python3.7/site-packages (from tensorflow==2.2.0) (1.1.2)\n",
      "Requirement already satisfied: grpcio>=1.8.6 in /home/jupyterlab/conda/envs/python/lib/python3.7/site-packages (from tensorflow==2.2.0) (1.24.3)\n",
      "Requirement already satisfied: numpy<2.0,>=1.16.0 in /home/jupyterlab/conda/envs/python/lib/python3.7/site-packages (from tensorflow==2.2.0) (1.21.6)\n",
      "Requirement already satisfied: opt-einsum>=2.3.2 in /home/jupyterlab/conda/envs/python/lib/python3.7/site-packages (from tensorflow==2.2.0) (3.3.0)\n",
      "Requirement already satisfied: scipy==1.4.1 in /home/jupyterlab/conda/envs/python/lib/python3.7/site-packages (from tensorflow==2.2.0) (1.4.1)\n",
      "Requirement already satisfied: google-pasta>=0.1.8 in /home/jupyterlab/conda/envs/python/lib/python3.7/site-packages (from tensorflow==2.2.0) (0.2.0)\n",
      "Requirement already satisfied: gast==0.3.3 in /home/jupyterlab/conda/envs/python/lib/python3.7/site-packages (from tensorflow==2.2.0) (0.3.3)\n",
      "Requirement already satisfied: tensorboard<2.3.0,>=2.2.0 in /home/jupyterlab/conda/envs/python/lib/python3.7/site-packages (from tensorflow==2.2.0) (2.2.2)\n",
      "Requirement already satisfied: wheel>=0.26 in /home/jupyterlab/conda/envs/python/lib/python3.7/site-packages (from tensorflow==2.2.0) (0.38.4)\n",
      "Requirement already satisfied: tensorflow-estimator<2.3.0,>=2.2.0 in /home/jupyterlab/conda/envs/python/lib/python3.7/site-packages (from tensorflow==2.2.0) (2.2.0)\n",
      "Requirement already satisfied: wrapt>=1.11.1 in /home/jupyterlab/conda/envs/python/lib/python3.7/site-packages (from tensorflow==2.2.0) (1.14.1)\n",
      "Requirement already satisfied: six>=1.12.0 in /home/jupyterlab/conda/envs/python/lib/python3.7/site-packages (from tensorflow==2.2.0) (1.16.0)\n",
      "Requirement already satisfied: termcolor>=1.1.0 in /home/jupyterlab/conda/envs/python/lib/python3.7/site-packages (from tensorflow==2.2.0) (2.1.1)\n",
      "Requirement already satisfied: tensorboard-plugin-wit>=1.6.0 in /home/jupyterlab/conda/envs/python/lib/python3.7/site-packages (from tensorboard<2.3.0,>=2.2.0->tensorflow==2.2.0) (1.8.1)\n",
      "Requirement already satisfied: google-auth-oauthlib<0.5,>=0.4.1 in /home/jupyterlab/conda/envs/python/lib/python3.7/site-packages (from tensorboard<2.3.0,>=2.2.0->tensorflow==2.2.0) (0.4.6)\n",
      "Requirement already satisfied: google-auth<2,>=1.6.3 in /home/jupyterlab/conda/envs/python/lib/python3.7/site-packages (from tensorboard<2.3.0,>=2.2.0->tensorflow==2.2.0) (1.35.0)\n",
      "Requirement already satisfied: markdown>=2.6.8 in /home/jupyterlab/conda/envs/python/lib/python3.7/site-packages (from tensorboard<2.3.0,>=2.2.0->tensorflow==2.2.0) (3.4.1)\n",
      "Requirement already satisfied: werkzeug>=0.11.15 in /home/jupyterlab/conda/envs/python/lib/python3.7/site-packages (from tensorboard<2.3.0,>=2.2.0->tensorflow==2.2.0) (2.2.2)\n",
      "Requirement already satisfied: setuptools>=41.0.0 in /home/jupyterlab/conda/envs/python/lib/python3.7/site-packages (from tensorboard<2.3.0,>=2.2.0->tensorflow==2.2.0) (65.5.1)\n",
      "Requirement already satisfied: requests<3,>=2.21.0 in /home/jupyterlab/conda/envs/python/lib/python3.7/site-packages (from tensorboard<2.3.0,>=2.2.0->tensorflow==2.2.0) (2.28.1)\n",
      "Requirement already satisfied: rsa<5,>=3.1.4 in /home/jupyterlab/conda/envs/python/lib/python3.7/site-packages (from google-auth<2,>=1.6.3->tensorboard<2.3.0,>=2.2.0->tensorflow==2.2.0) (4.9)\n",
      "Requirement already satisfied: cachetools<5.0,>=2.0.0 in /home/jupyterlab/conda/envs/python/lib/python3.7/site-packages (from google-auth<2,>=1.6.3->tensorboard<2.3.0,>=2.2.0->tensorflow==2.2.0) (4.2.4)\n",
      "Requirement already satisfied: pyasn1-modules>=0.2.1 in /home/jupyterlab/conda/envs/python/lib/python3.7/site-packages (from google-auth<2,>=1.6.3->tensorboard<2.3.0,>=2.2.0->tensorflow==2.2.0) (0.2.8)\n",
      "Requirement already satisfied: requests-oauthlib>=0.7.0 in /home/jupyterlab/conda/envs/python/lib/python3.7/site-packages (from google-auth-oauthlib<0.5,>=0.4.1->tensorboard<2.3.0,>=2.2.0->tensorflow==2.2.0) (1.3.1)\n",
      "Requirement already satisfied: importlib-metadata>=4.4 in /home/jupyterlab/conda/envs/python/lib/python3.7/site-packages (from markdown>=2.6.8->tensorboard<2.3.0,>=2.2.0->tensorflow==2.2.0) (4.11.4)\n",
      "Requirement already satisfied: charset-normalizer<3,>=2 in /home/jupyterlab/conda/envs/python/lib/python3.7/site-packages (from requests<3,>=2.21.0->tensorboard<2.3.0,>=2.2.0->tensorflow==2.2.0) (2.1.1)\n",
      "Requirement already satisfied: certifi>=2017.4.17 in /home/jupyterlab/conda/envs/python/lib/python3.7/site-packages (from requests<3,>=2.21.0->tensorboard<2.3.0,>=2.2.0->tensorflow==2.2.0) (2022.9.24)\n",
      "Requirement already satisfied: urllib3<1.27,>=1.21.1 in /home/jupyterlab/conda/envs/python/lib/python3.7/site-packages (from requests<3,>=2.21.0->tensorboard<2.3.0,>=2.2.0->tensorflow==2.2.0) (1.26.13)\n",
      "Requirement already satisfied: idna<4,>=2.5 in /home/jupyterlab/conda/envs/python/lib/python3.7/site-packages (from requests<3,>=2.21.0->tensorboard<2.3.0,>=2.2.0->tensorflow==2.2.0) (3.4)\n",
      "Requirement already satisfied: MarkupSafe>=2.1.1 in /home/jupyterlab/conda/envs/python/lib/python3.7/site-packages (from werkzeug>=0.11.15->tensorboard<2.3.0,>=2.2.0->tensorflow==2.2.0) (2.1.1)\n",
      "Requirement already satisfied: typing-extensions>=3.6.4 in /home/jupyterlab/conda/envs/python/lib/python3.7/site-packages (from importlib-metadata>=4.4->markdown>=2.6.8->tensorboard<2.3.0,>=2.2.0->tensorflow==2.2.0) (4.4.0)\n",
      "Requirement already satisfied: zipp>=0.5 in /home/jupyterlab/conda/envs/python/lib/python3.7/site-packages (from importlib-metadata>=4.4->markdown>=2.6.8->tensorboard<2.3.0,>=2.2.0->tensorflow==2.2.0) (3.11.0)\n",
      "Requirement already satisfied: pyasn1<0.5.0,>=0.4.6 in /home/jupyterlab/conda/envs/python/lib/python3.7/site-packages (from pyasn1-modules>=0.2.1->google-auth<2,>=1.6.3->tensorboard<2.3.0,>=2.2.0->tensorflow==2.2.0) (0.4.8)\n",
      "Requirement already satisfied: oauthlib>=3.0.0 in /home/jupyterlab/conda/envs/python/lib/python3.7/site-packages (from requests-oauthlib>=0.7.0->google-auth-oauthlib<0.5,>=0.4.1->tensorboard<2.3.0,>=2.2.0->tensorflow==2.2.0) (3.2.2)\n",
      "Requirement already satisfied: pillow==8.1.0 in /home/jupyterlab/conda/envs/python/lib/python3.7/site-packages (8.1.0)\n"
     ]
    }
   ],
   "source": [
    "!pip install grpcio==1.24.3\n",
    "!pip install tensorflow==2.2.0\n",
    "!pip install pillow==8.1.0"
   ]
  },
  {
   "cell_type": "markdown",
   "metadata": {},
   "source": [
    "<b>Notice:</b> This notebook has been created with TensorFlow version 2.2, and might not work with other versions. Therefore we check:\n"
   ]
  },
  {
   "cell_type": "code",
   "execution_count": 3,
   "metadata": {},
   "outputs": [],
   "source": [
    "import tensorflow as tf\n",
    "from IPython.display import Markdown, display\n",
    "\n",
    "def printmd(string):\n",
    "    display(Markdown('# <span style=\"color:red\">'+string+'</span>'))\n",
    "\n",
    "\n",
    "if not tf.__version__ == '2.2.0':\n",
    "    printmd('<<<<<!!!!! ERROR !!!! please upgrade to TensorFlow 2.2.0, or restart your Kernel (Kernel->Restart & Clear Output)>>>>>')"
   ]
  },
  {
   "cell_type": "markdown",
   "metadata": {},
   "source": [
    "Now, we load in all the packages that we use to create the net including the TensorFlow package:\n"
   ]
  },
  {
   "cell_type": "code",
   "execution_count": 4,
   "metadata": {},
   "outputs": [],
   "source": [
    "import tensorflow as tf\n",
    "import numpy as np\n",
    "\n",
    "from PIL import Image\n",
    "from utils import tile_raster_images\n",
    "import matplotlib.pyplot as plt\n",
    "%matplotlib inline"
   ]
  },
  {
   "cell_type": "markdown",
   "metadata": {},
   "source": [
    "<hr>\n"
   ]
  },
  {
   "cell_type": "markdown",
   "metadata": {},
   "source": [
    "<a id=\"ref2\"></a>\n",
    "<h3>RBM layers</h3>\n",
    "\n",
    "An RBM has two layers. The first layer of the RBM is called the <b>visible</b> (or input layer). Imagine that our toy example, has only vectors with 7 values, so the visible layer must have $V=7$ input nodes. \n",
    "The second layer is the <b>hidden</b> layer, which has $H$ neurons in our case. Each hidden node takes on values of either 0 or 1 (i.e., $h_i = 1$ or $h_i$ = 0), with a probability that is a logistic function of the inputs it receives from the other $V$ visible units, called for example, $p(h_i = 1)$. For our toy sample, we'll use 2 nodes in the hidden layer, so $H = 2$.\n",
    "\n",
    "<center><img src=\"https://ibm.box.com/shared/static/eu26opvcefgls6vnwuo29uwp0nudmokh.png\" alt=\"RBM Model\" style=\"width: 400px;\"></center>\n"
   ]
  },
  {
   "cell_type": "markdown",
   "metadata": {},
   "source": [
    "     \n",
    "\n",
    "Each node in the first layer also has a <b>bias</b>. We will denote the bias as $v_{bias}$, and this single value is shared among the $V$ visible units.\n",
    "\n",
    "The <b>bias</b> of the second is defined similarly as $h_{bias}$, and this single value among the $H$ hidden units.\n"
   ]
  },
  {
   "cell_type": "code",
   "execution_count": 5,
   "metadata": {},
   "outputs": [
    {
     "name": "stderr",
     "output_type": "stream",
     "text": [
      "2023-01-11 09:55:09.221502: W tensorflow/stream_executor/platform/default/dso_loader.cc:55] Could not load dynamic library 'libcuda.so.1'; dlerror: libcuda.so.1: cannot open shared object file: No such file or directory\n",
      "2023-01-11 09:55:09.221557: E tensorflow/stream_executor/cuda/cuda_driver.cc:313] failed call to cuInit: UNKNOWN ERROR (303)\n",
      "2023-01-11 09:55:09.221591: I tensorflow/stream_executor/cuda/cuda_diagnostics.cc:156] kernel driver does not appear to be running on this host (jupyterlab-okiskis2021): /proc/driver/nvidia/version does not exist\n",
      "2023-01-11 09:55:09.221985: I tensorflow/core/platform/cpu_feature_guard.cc:143] Your CPU supports instructions that this TensorFlow binary was not compiled to use: AVX2 AVX512F FMA\n",
      "2023-01-11 09:55:09.231496: I tensorflow/core/platform/profile_utils/cpu_utils.cc:102] CPU Frequency: 2593900000 Hz\n",
      "2023-01-11 09:55:09.232148: I tensorflow/compiler/xla/service/service.cc:168] XLA service 0x7fef9c000b20 initialized for platform Host (this does not guarantee that XLA will be used). Devices:\n",
      "2023-01-11 09:55:09.232192: I tensorflow/compiler/xla/service/service.cc:176]   StreamExecutor device (0): Host, Default Version\n"
     ]
    }
   ],
   "source": [
    "v_bias = tf.Variable(tf.zeros([7]), tf.float32)\n",
    "h_bias = tf.Variable(tf.zeros([2]), tf.float32)"
   ]
  },
  {
   "cell_type": "markdown",
   "metadata": {},
   "source": [
    "We have to define weights among the input layer and hidden layer nodes. In the weight matrix, the number of rows are equal to the input nodes, and the number of columns are equal to the output nodes. We define a tensor $\\mathbf{W}$ of shape = (7,2), where the number of visible neurons = 7, and the number of hidden neurons = 2. \n"
   ]
  },
  {
   "cell_type": "code",
   "execution_count": 6,
   "metadata": {},
   "outputs": [],
   "source": [
    "W = tf.constant(np.random.normal(loc=0.0, scale=1.0, size=(7, 2)).astype(np.float32))"
   ]
  },
  {
   "cell_type": "markdown",
   "metadata": {},
   "source": [
    "<hr>\n"
   ]
  },
  {
   "cell_type": "markdown",
   "metadata": {},
   "source": [
    "<a id=\"ref3\"></a>\n",
    "<h3>What RBM can do after training?</h3>\n",
    "Think of RBM as a model that has been trained based on images of a dataset of many SUV and sedan cars. Also, imagine that the RBM network has only two hidden nodes, where one node encodes the weight and, and the other encodes the size.  \n",
    "In a sense, the different configurations represent different cars, where one is an SUV and the other is Sedan.  In a training process, through many forward and backward passes, the RBM adjust its weights to send a stronger signal to either the SUV node (0, 1) or the sedan node (1, 0) in the hidden layer, given the pixels of images. Now, given an SUV in hidden layer, which distribution of pixels should we expect? RBM can give you 2 things. First, it encodes your images in hidden layer. Second, it gives you the probability of observing a case, given some hidden values.\n",
    "\n",
    "\n",
    "<h3>The Inference Process</h3>\n",
    "\n",
    "RBM has two phases:\n",
    "<ul>\n",
    "    <li>Forward Pass</li>  \n",
    "    <li>Backward Pass or Reconstruction</li>\n",
    "</ul>\n",
    "\n",
    "<b>Phase 1) Forward pass:</b>  \n",
    "\n",
    "Input one training sample (one image) $\\mathbf{x}$ through all visible nodes, and pass it to all hidden nodes. Processing happens in each node in the hidden layer. This computation begins by making stochastic decisions about whether to transmit that input or not (i.e. to determine the state of each hidden layer).  First, the probability vector is computed using the input feature vector $\\mathbf{x}$, the weight matrix $\\mathbf{W}$, and the bias term $h_{bias}$, as \n",
    "\n",
    "\n",
    "$$p({h_j}|\\mathbf x)= \\sigma( \\sum_{i=1}^V W_{ij} x_i + h_{bias} )$$, \n",
    "\n",
    "where $\\sigma(z) = (1+e^{-z})^{-1}$ is the logistic function.\n",
    "\n",
    "\n",
    "So, what does $p({h_j})$ represent? It is the <b>probability distribution</b> of the hidden units. That is, RBM uses inputs $x_i$ to make predictions about hidden node activations. For example, imagine that the hidden node activation values are [0.51 0.84] for the first training item. It tells you that the conditional probability for each hidden neuron for Phase 1 is: \n",
    "\n",
    "$$p(h_{1} = 1|\\mathbf{v}) = 0.51$$\n",
    "$$p(h_{2} = 1|\\mathbf{v}) = 0.84$$\n",
    "\n",
    "As a result, for each row in the training set, vector of probabilities is generated.  In TensorFlow, this is referred to as a `tensor` with a shape of (1,2). \n",
    "\n",
    "We then turn unit $j$ with probability $p(h_{j}|\\mathbf{v})$, and turn it off with probability $1 - p(h_{j}|\\mathbf{v})$ by generating a uniform random number vector $\\mathbf{\\xi}$, and comparing it to the activation probability as \n",
    "\n",
    "<center>If $\\xi_j>p(h_{j}|\\mathbf{v})$, then $h_j=1$, else $h_j=0$.</center>\n",
    "\n",
    "\n",
    "Therefore, the conditional probability of a configuration of $\\mathbf{h}$ given $\\mathbf{v}$ (for a training sample) is:\n",
    "\n",
    "$$p(\\mathbf{h} \\mid \\mathbf{v}) = \\prod_{j=1}^H p(h_j \\mid \\mathbf{v})$$\n",
    "\n",
    "\n",
    "where $H$ is the number of hidden units.\n",
    "\n"
   ]
  },
  {
   "cell_type": "markdown",
   "metadata": {},
   "source": [
    "Before we go further, let's look at a toy example for one case out of all input. Assume that we have a trained RBM, and a very simple input vector, such as [1.0, 0.0, 0.0, 1.0, 0.0, 0.0, 0.0].   \n",
    "Let's see what the output of forward pass would look like:\n"
   ]
  },
  {
   "cell_type": "code",
   "execution_count": 7,
   "metadata": {},
   "outputs": [
    {
     "name": "stdout",
     "output_type": "stream",
     "text": [
      "Input:  tf.Tensor([[1. 0. 0. 1. 0. 0. 0.]], shape=(1, 7), dtype=float32)\n",
      "hb:  tf.Tensor([0.1 0.1], shape=(2,), dtype=float32)\n",
      "w:  tf.Tensor(\n",
      "[[ 0.61141324  0.25984108]\n",
      " [-2.2822256  -1.2023427 ]\n",
      " [-0.19870032  0.38530308]\n",
      " [-1.0402273   1.2723835 ]\n",
      " [-0.3610325   1.0417916 ]\n",
      " [ 0.91884017  1.4451001 ]\n",
      " [-0.64894605  2.5545208 ]], shape=(7, 2), dtype=float32)\n",
      "p(h|v):  tf.Tensor([[0.4185292 0.8364742]], shape=(1, 2), dtype=float32)\n",
      "h0 states: tf.Tensor([[1. 0.]], shape=(1, 2), dtype=float32)\n"
     ]
    }
   ],
   "source": [
    "X = tf.constant([[1.0, 0.0, 0.0, 1.0, 0.0, 0.0, 0.0]], tf.float32)\n",
    "\n",
    "v_state = X\n",
    "print (\"Input: \", v_state)\n",
    "\n",
    "h_bias = tf.constant([0.1, 0.1])\n",
    "print (\"hb: \", h_bias)\n",
    "print (\"w: \", W)\n",
    "\n",
    "# Calculate the probabilities of turning the hidden units on:\n",
    "h_prob = tf.nn.sigmoid(tf.matmul(v_state, W) + h_bias)  #probabilities of the hidden units\n",
    "print (\"p(h|v): \", h_prob)\n",
    "\n",
    "# Draw samples from the distribution:\n",
    "h_state = tf.nn.relu(tf.sign(h_prob - tf.random.uniform(tf.shape(h_prob)))) #states\n",
    "print (\"h0 states:\", h_state)"
   ]
  },
  {
   "cell_type": "markdown",
   "metadata": {},
   "source": [
    "<b>Phase 2) Backward Pass (Reconstruction):</b>\n",
    "The RBM reconstructs data by making several forward and backward passes between the visible and hidden layers.\n",
    "\n",
    "So, in the second phase (i.e. reconstruction phase), the samples from the hidden layer (i.e. $\\mathbf h$) becomes the input in the backward pass. The same weight matrix and visible layer biases are used to passed to the sigmoid function. The reproduced output is a reconstruction which is an approximation of the original input.\n"
   ]
  },
  {
   "cell_type": "code",
   "execution_count": 8,
   "metadata": {},
   "outputs": [
    {
     "name": "stdout",
     "output_type": "stream",
     "text": [
      "b:  tf.Tensor([0.1 0.2 0.1 0.1 0.1 0.2 0.1], shape=(7,), dtype=float32)\n",
      "p(vi∣h):  tf.Tensor(\n",
      "[[0.67071337 0.11083644 0.47534493 0.28085443 0.43510994 0.7537735\n",
      "  0.36610898]], shape=(1, 7), dtype=float32)\n",
      "v probability states:  tf.Tensor([[0. 0. 0. 1. 1. 1. 0.]], shape=(1, 7), dtype=float32)\n"
     ]
    }
   ],
   "source": [
    "vb = tf.constant([0.1, 0.2, 0.1, 0.1, 0.1, 0.2, 0.1])\n",
    "print (\"b: \", vb)\n",
    "v_prob = tf.nn.sigmoid(tf.matmul(h_state, tf.transpose(W)) + vb)\n",
    "print (\"p(vi∣h): \", v_prob)\n",
    "v_state = tf.nn.relu(tf.sign(v_prob - tf.random.uniform(tf.shape(v_prob))))\n",
    "print (\"v probability states: \", v_state)"
   ]
  },
  {
   "cell_type": "markdown",
   "metadata": {},
   "source": [
    "RBM learns a probability distribution over the input, and then, after being trained, the RBM can generate new samples from the learned probability distribution. As you know, <b>probability distribution</b>, is a mathematical function that provides the probabilities of occurrence of different possible outcomes in an experiment.\n",
    "\n",
    "The (conditional) probability distribution over the visible units v is given by\n",
    "\n",
    "$$p(\\mathbf{v} \\mid \\mathbf{h}) = \\prod_{i=1}^V p(v_i \\mid \\mathbf{h}),$$\n",
    "\n",
    "\n",
    "where,\n",
    "\n",
    "$$p(v_i \\mid \\mathbf{h}) = \\sigma\\left(\\sum_{j=1}^H W_{ji} h_j + v_{bias} \\right)$$\n",
    "\n",
    "so, given current state of hidden units and weights, what is the probability of generating [1. 0. 0. 1. 0. 0. 0.] in reconstruction phase, based on the above <b>probability distribution</b> function?\n"
   ]
  },
  {
   "cell_type": "code",
   "execution_count": 9,
   "metadata": {},
   "outputs": [
    {
     "name": "stdout",
     "output_type": "stream",
     "text": [
      "input X: [[1. 0. 0. 1. 0. 0. 0.]]\n",
      "probablity vector: [0.67071337 0.11083644 0.47534493 0.28085443 0.43510994 0.7537735\n",
      " 0.36610898]\n",
      "probability of generating X:  0.0077479538\n"
     ]
    }
   ],
   "source": [
    "inp = X\n",
    "print(\"input X:\" , inp.numpy())\n",
    "\n",
    "print(\"probablity vector:\" , v_prob[0].numpy())\n",
    "v_probability = 1\n",
    "\n",
    "for elm, p in zip(inp[0],v_prob[0]) :\n",
    "    if elm ==1:\n",
    "        v_probability *= p\n",
    "    else:\n",
    "        v_probability *= (1-p)\n",
    "\n",
    "print(\"probability of generating X: \" , v_probability.numpy())"
   ]
  },
  {
   "cell_type": "markdown",
   "metadata": {},
   "source": [
    "How similar are vectors $\\mathbf{x}$ and $\\mathbf{v}$? Of course, the reconstructed values most likely will not look anything like the input vector, because our network has not been trained yet. Our objective is to train the model in such a way that the input vector and reconstructed vector to be same. Therefore, based on how different the input values look to the ones that we just reconstructed, the weights are adjusted. \n"
   ]
  },
  {
   "cell_type": "markdown",
   "metadata": {},
   "source": [
    "<hr>\n"
   ]
  },
  {
   "cell_type": "markdown",
   "metadata": {},
   "source": [
    "\n",
    "<h2>MNIST</h2>\n"
   ]
  },
  {
   "cell_type": "markdown",
   "metadata": {},
   "source": [
    "We will be using the MNIST dataset to practice the usage of RBMs. The following cell loads the MNIST dataset.\n"
   ]
  },
  {
   "cell_type": "code",
   "execution_count": 10,
   "metadata": {},
   "outputs": [
    {
     "name": "stdout",
     "output_type": "stream",
     "text": [
      "Downloading data from https://storage.googleapis.com/tensorflow/tf-keras-datasets/mnist.npz\n",
      "11493376/11490434 [==============================] - 0s 0us/step\n"
     ]
    }
   ],
   "source": [
    "#loading training and test data\n",
    "mnist = tf.keras.datasets.mnist\n",
    "(trX, trY), (teX, teY) = mnist.load_data()\n",
    "\n",
    "# showing an example of the Flatten class and operation\n",
    "from tensorflow.keras.layers import Flatten\n",
    "flatten = Flatten(dtype='float32')\n",
    "trX = flatten(trX/255.0)\n",
    "trY = flatten(trY/255.0)"
   ]
  },
  {
   "cell_type": "markdown",
   "metadata": {},
   "source": [
    "Lets look at the dimension of the images.\n"
   ]
  },
  {
   "cell_type": "markdown",
   "metadata": {},
   "source": [
    "MNIST images have 784 pixels, so the visible layer must have 784 input nodes.  For our case, we'll use 50 nodes in the hidden layer, so i = 50.\n"
   ]
  },
  {
   "cell_type": "code",
   "execution_count": 11,
   "metadata": {},
   "outputs": [],
   "source": [
    "vb = tf.Variable(tf.zeros([784]), tf.float32)\n",
    "hb = tf.Variable(tf.zeros([50]), tf.float32)"
   ]
  },
  {
   "cell_type": "markdown",
   "metadata": {},
   "source": [
    "Let $\\mathbf W$ be the Tensor of 784x50 (784 - number of visible neurons, 50 - number of hidden neurons) that represents weights between the neurons. \n"
   ]
  },
  {
   "cell_type": "code",
   "execution_count": 12,
   "metadata": {},
   "outputs": [],
   "source": [
    "W = tf.Variable(tf.zeros([784,50]), tf.float32)"
   ]
  },
  {
   "cell_type": "markdown",
   "metadata": {},
   "source": [
    "Lets define the visible layer:\n"
   ]
  },
  {
   "cell_type": "code",
   "execution_count": 13,
   "metadata": {},
   "outputs": [
    {
     "data": {
      "text/plain": [
       "<tf.Tensor: shape=(1, 50), dtype=float32, numpy=\n",
       "array([[0., 0., 0., 0., 0., 0., 0., 0., 0., 0., 0., 0., 0., 0., 0., 0.,\n",
       "        0., 0., 0., 0., 0., 0., 0., 0., 0., 0., 0., 0., 0., 0., 0., 0.,\n",
       "        0., 0., 0., 0., 0., 0., 0., 0., 0., 0., 0., 0., 0., 0., 0., 0.,\n",
       "        0., 0.]], dtype=float32)>"
      ]
     },
     "execution_count": 13,
     "metadata": {},
     "output_type": "execute_result"
    }
   ],
   "source": [
    "v0_state = tf.Variable(tf.zeros([784]), tf.float32)\n",
    "\n",
    "#testing to see if the matrix product works\n",
    "tf.matmul( [v0_state], W)"
   ]
  },
  {
   "cell_type": "markdown",
   "metadata": {},
   "source": [
    "Now, we can define hidden layer:\n"
   ]
  },
  {
   "cell_type": "code",
   "execution_count": 14,
   "metadata": {},
   "outputs": [
    {
     "name": "stdout",
     "output_type": "stream",
     "text": [
      "h0_state shape:  tf.Tensor([ 1 50], shape=(2,), dtype=int32)\n",
      "first 15 hidden states:  tf.Tensor([0. 1. 0. 0. 1. 1. 1. 0. 1. 0. 0. 1. 1. 1. 0.], shape=(15,), dtype=float32)\n"
     ]
    }
   ],
   "source": [
    "#computing the hidden nodes probability vector and checking shape\n",
    "h0_prob = tf.nn.sigmoid(tf.matmul([v0_state], W) + hb)  #probabilities of the hidden units\n",
    "print(\"h0_state shape: \" , tf.shape(h0_prob))\n",
    "\n",
    "#defining a function to return only the generated hidden states \n",
    "def hidden_layer(v0_state, W, hb):\n",
    "    h0_prob = tf.nn.sigmoid(tf.matmul([v0_state], W) + hb)  #probabilities of the hidden units\n",
    "    h0_state = tf.nn.relu(tf.sign(h0_prob - tf.random.uniform(tf.shape(h0_prob)))) #sample_h_given_X\n",
    "    return h0_state\n",
    "\n",
    "\n",
    "h0_state = hidden_layer(v0_state, W, hb)\n",
    "print(\"first 15 hidden states: \", h0_state[0][0:15])"
   ]
  },
  {
   "cell_type": "markdown",
   "metadata": {},
   "source": [
    "Now, we define reconstruction part:\n"
   ]
  },
  {
   "cell_type": "code",
   "execution_count": 15,
   "metadata": {},
   "outputs": [
    {
     "name": "stdout",
     "output_type": "stream",
     "text": [
      "hidden state shape:  (1, 50)\n",
      "v0 state shape:   (784,)\n",
      "v1 state shape:   (784,)\n"
     ]
    }
   ],
   "source": [
    "def reconstructed_output(h0_state, W, vb):\n",
    "    v1_prob = tf.nn.sigmoid(tf.matmul(h0_state, tf.transpose(W)) + vb) \n",
    "    v1_state = tf.nn.relu(tf.sign(v1_prob - tf.random.uniform(tf.shape(v1_prob)))) #sample_v_given_h\n",
    "    return v1_state[0]\n",
    "\n",
    "v1_state = reconstructed_output(h0_state, W, vb)\n",
    "print(\"hidden state shape: \", h0_state.shape)\n",
    "print(\"v0 state shape:  \", v0_state.shape)\n",
    "print(\"v1 state shape:  \", v1_state.shape)"
   ]
  },
  {
   "cell_type": "markdown",
   "metadata": {},
   "source": [
    "<h3>What is the objective function?</h3>\n",
    "\n",
    "<b>Goal</b>: Maximize the likelihood of our data being drawn from that distribution\n",
    "\n",
    "<b>Calculate error:</b>  \n",
    "In each epoch, we compute the \"error\" as a sum of the squared difference between step 1 and step n,\n",
    "e.g the error shows the difference between the data and its reconstruction.\n",
    "\n",
    "<b>Note:</b> tf.reduce_mean computes the mean of elements across dimensions of a tensor.\n"
   ]
  },
  {
   "cell_type": "code",
   "execution_count": 16,
   "metadata": {},
   "outputs": [
    {
     "name": "stdout",
     "output_type": "stream",
     "text": [
      "error 0.50510204\n"
     ]
    }
   ],
   "source": [
    "def error(v0_state, v1_state):\n",
    "    return tf.reduce_mean(tf.square(v0_state - v1_state))\n",
    "\n",
    "err = tf.reduce_mean(tf.square(v0_state - v1_state))\n",
    "print(\"error\" , err.numpy())"
   ]
  },
  {
   "cell_type": "markdown",
   "metadata": {},
   "source": [
    "<a id=\"ref4\"></a>\n",
    "<h3>Training the Model</h3>\n",
    "<b>Warning...</b> The following part is math-heavy, but you can skip it if you just want to run the cells in the next section.\n",
    "\n",
    "As mentioned, we want to give a high probability to the input data we train on. So, in order to train an RBM, we have to maximize the product of probabilities assigned to all rows $\\mathbf{v}$ (images) in the training set $\\mathbf{V}$ (a matrix, where each row of it is treated as a visible vector $\\mathbf{v}$)\n",
    "\n",
    "$$\\arg \\max_W \\prod_{\\mathbf{v}\\in\\mathbf{V}_T} p(\\mathbf{v})$$\n",
    "\n",
    "\n",
    "which is equivalent to maximizing the expectation of the log probability, given as\n",
    "\n",
    "$$\\arg\\max_W\\left[ \\mathbb{E} \\left(\\prod_{\\mathbf v\\in \\mathbf V}\\text{log} \\left(p(\\mathbf v)\\right) \\right) \\right].$$\n",
    "\n",
    "\n",
    "So, we have to update the weights $W_{ij}$  to increase $p(\\mathbf{v})$ for all $\\mathbf{v}$ in our training data during training. So we have to calculate the derivative:\n",
    "\n",
    "\n",
    "$$\\frac{\\partial \\log p(\\mathbf v)}{\\partial W_{ij}}$$\n",
    "\n",
    "This cannot be easily done by typical <b>gradient descent (SGD)</b>, so we can use another approach, which has 2 steps:\n",
    "<ol>\n",
    "    <li>Gibbs Sampling</li>\n",
    "    <li>Contrastive Divergence</li>\n",
    "</ol>    \n",
    "    \n",
    "<h3>Gibbs Sampling</h3>   \n",
    "\n",
    "<h4>Gibbs Sampling Step 1</h4> \n",
    "Given an input vector $\\mathbf{v}$, we are using $p(\\mathbf{h}|\\mathbf{v})$ to predict the hidden values $\\mathbf{h}$. \n",
    "  $$p({h_j}|\\mathbf v)= \\sigma\\left(\\sum_{i=1}^V W_{ij} v_i + h_{bias} \\right)$$\n",
    "The samples are generated from this distribution by generating the uniform random variate vector $\\mathbf{\\xi} \\sim U[0,1]$ of length $H$ and comparing to the computed probabilities as\n",
    "\n",
    "\n",
    "<center>If $\\xi_j>p(h_{j}|\\mathbf{v})$, then $h_j=1$, else $h_j=0$.</center>\n",
    "\n",
    "\n",
    "<h4>Gibbs Sampling Step 2</h4> \n",
    "Then, knowing the hidden values, we use $p(\\mathbf v| \\mathbf h)$ for reconstructing of new input values v. \n",
    "\n",
    "   $$p({v_i}|\\mathbf h)= \\sigma\\left(\\sum_{j=1}^H W^{T}_{ij} h_j + v_{bias} \\right)$$\n",
    "\n",
    "\n",
    "The samples are generated from this distribution by generating a uniform random variate vector $\\mathbf{\\xi} \\sim U[0,1]$ of length $V$ and comparing to the computed probabilities as\n",
    "\n",
    "<center>If $\\xi_i>p(v_{i}|\\mathbf{h})$, then $v_i=1$, else $v_i=0$.</center>\n",
    "\n",
    "Let vectors $\\mathbf v_k$ and $\\mathbf h_k$ be for the $k$th iteration.  In general, the $kth$ state is generrated as: \n",
    "\n",
    "\n",
    "    \n",
    "<b>Iteration</b> $k$: \n",
    "\n",
    "$$\\mathbf v_{k-1} \\Rightarrow p(\\mathbf h_{k-1}|\\mathbf v_{k-1})\\Rightarrow \\mathbf h_{k-1}\\Rightarrow p(\\mathbf v_{k}|\\mathbf h_{k-1})\\Rightarrow \\mathbf v_k$$       \n",
    "    \n",
    "<h3>Contrastive Divergence (CD-k)</h3>\n",
    "The update of the weight matrix is done during the Contrastive Divergence step. \n",
    "\n",
    "Vectors v0 and vk are used to calculate the activation probabilities for hidden values h0 and hk. The difference between the outer products of those probabilities with input vectors v0 and vk results in the update matrix:\n",
    "\n",
    "\n",
    "$$\\Delta \\mathbf W_k =\\mathbf v_k \\otimes \\mathbf h_k - \\mathbf v_{k-1} \\otimes \\mathbf h_{k-1}$$\n",
    "\n",
    "Contrastive Divergence is actually matrix of values that is computed and used to adjust values of the $\\mathbf W$ matrix. Changing $\\mathbf W$ incrementally leads to training of the  $\\mathbf W$ values. Then, on each step (epoch), $\\mathbf W$ is updated using the following:\n",
    "\n",
    "$$\\mathbf W_k = \\mathbf W_{k-1} + \\alpha * \\Delta \\mathbf W_k$$\n",
    "\n",
    "\n",
    "\n",
    "Reconstruction steps:\n",
    "<ul>\n",
    "    <li> Get one data point from data set, like <i>x</i>, and pass it through the following steps:</li>\n",
    "    \n",
    "<b>Iteration</b> $k=1$: \n",
    "    \n",
    "Sampling (starting with input image)\n",
    "    $$\\mathbf x = \\mathbf v_0 \\Rightarrow p(\\mathbf h_0|\\mathbf v_0)\\Rightarrow \\mathbf h_0 \\Rightarrow p(\\mathbf v_1|\\mathbf h_0)\\Rightarrow \\mathbf v_1$$   \n",
    "    followed by the CD-k step\n",
    "$$\\Delta \\mathbf W_1 =\\mathbf v_1 \\otimes \\mathbf h_1 - \\mathbf v_{0} \\otimes \\mathbf h_{0}$$     \n",
    "$$\\mathbf W_1 = \\mathbf W_{0} + \\alpha * \\Delta \\mathbf W_1$$ \n",
    " \n",
    "<li> $\\mathbf v_1$ is the reconstruction of $\\mathbf x$ sent to the next iteration).</li>\n",
    "\n",
    "<b>Iteration</b> $k=2$: \n",
    "\n",
    "Sampling (starting with $\\mathbf v_1$)\n",
    "\n",
    "$$\\mathbf v_1 \\Rightarrow p(\\mathbf h_1|\\mathbf v_1)\\Rightarrow \\mathbf h_1\\Rightarrow p(\\mathbf v_2|\\mathbf h_1)\\Rightarrow \\mathbf v_2$$   \n",
    "\n",
    "followed by the CD-k step\n",
    "$$\\Delta \\mathbf W_2 =\\mathbf v_2 \\otimes \\mathbf h_2 - \\mathbf v_{1} \\otimes \\mathbf h_{1}$$     \n",
    "$$\\mathbf W_2 = \\mathbf W_{1} + \\alpha * \\Delta \\mathbf W_2$$ \n",
    "\n",
    "<li> $\\mathbf v_2$ is the reconstruction of $\\mathbf v_1$ sent to the next iteration).</li>    \n",
    "      \n",
    "<b>Iteration</b> $k=K$:\n",
    "    \n",
    "Sampling (starting with $\\mathbf v_{K-1}$)\n",
    "\n",
    "$$\\mathbf v_{K-1} \\Rightarrow p(\\mathbf h_{K-1}|\\mathbf v_{K-1})\\Rightarrow \\mathbf h_{K-1}\\Rightarrow p(\\mathbf v_K|\\mathbf h_{K-1})\\Rightarrow \\mathbf v_K$$   \n",
    "\n",
    "followed by the CD-k step\n",
    "$$\\Delta \\mathbf W_K =\\mathbf v_K \\otimes \\mathbf h_K - \\mathbf v_{K-1} \\otimes \\mathbf h_{K-1}$$     \n",
    "$$\\mathbf W_K = \\mathbf W_{K-1} + \\alpha * \\Delta \\mathbf W_K$$ \n",
    "    \n",
    "<b>What is $\\alpha$?</b>  \n",
    "Here, alpha is some small step size, and is also known as the \"learning rate\".\n"
   ]
  },
  {
   "cell_type": "markdown",
   "metadata": {},
   "source": [
    "$K$ is adjustable, and good performance can be achieved with $K=1$, so that we just take one set of sampling steps per image.\n"
   ]
  },
  {
   "cell_type": "code",
   "execution_count": 17,
   "metadata": {},
   "outputs": [],
   "source": [
    "h1_prob = tf.nn.sigmoid(tf.matmul([v1_state], W) + hb)\n",
    "h1_state = tf.nn.relu(tf.sign(h1_prob - tf.random.uniform(tf.shape(h1_prob)))) #sample_h_given_X"
   ]
  },
  {
   "cell_type": "markdown",
   "metadata": {},
   "source": [
    "Lets look at the error of the first run:\n"
   ]
  },
  {
   "cell_type": "code",
   "execution_count": 18,
   "metadata": {},
   "outputs": [
    {
     "name": "stdout",
     "output_type": "stream",
     "text": [
      "error:  tf.Tensor(0.50510204, shape=(), dtype=float32)\n"
     ]
    }
   ],
   "source": [
    "print(\"error: \", error(v0_state, v1_state))"
   ]
  },
  {
   "cell_type": "code",
   "execution_count": 19,
   "metadata": {
    "collapsed": true,
    "jupyter": {
     "outputs_hidden": true
    },
    "tags": []
   },
   "outputs": [
    {
     "name": "stdout",
     "output_type": "stream",
     "text": [
      "Epoch: 0 batch #: 1  of 300 sample #: 199 reconstruction error: 0.161852\n",
      "Epoch: 0 batch #: 2  of 300 sample #: 199 reconstruction error: 0.199777\n",
      "Epoch: 0 batch #: 3  of 300 sample #: 199 reconstruction error: 0.110030\n",
      "Epoch: 0 batch #: 4  of 300 sample #: 199 reconstruction error: 0.130733\n",
      "Epoch: 0 batch #: 5  of 300 sample #: 199 reconstruction error: 0.121451\n",
      "Epoch: 0 batch #: 6  of 300 sample #: 199 reconstruction error: 0.191326\n",
      "Epoch: 0 batch #: 7  of 300 sample #: 199 reconstruction error: 0.095312\n",
      "Epoch: 0 batch #: 8  of 300 sample #: 199 reconstruction error: 0.125461\n",
      "Epoch: 0 batch #: 9  of 300 sample #: 199 reconstruction error: 0.116424\n",
      "Epoch: 0 batch #: 10  of 300 sample #: 199 reconstruction error: 0.177322\n",
      "Epoch: 0 batch #: 11  of 300 sample #: 199 reconstruction error: 0.107267\n",
      "Epoch: 0 batch #: 12  of 300 sample #: 199 reconstruction error: 0.130843\n",
      "Epoch: 0 batch #: 13  of 300 sample #: 199 reconstruction error: 0.056851\n",
      "Epoch: 0 batch #: 14  of 300 sample #: 199 reconstruction error: 0.111371\n",
      "Epoch: 0 batch #: 15  of 300 sample #: 199 reconstruction error: 0.119073\n",
      "Epoch: 0 batch #: 16  of 300 sample #: 199 reconstruction error: 0.099734\n",
      "Epoch: 0 batch #: 17  of 300 sample #: 199 reconstruction error: 0.066019\n",
      "Epoch: 0 batch #: 18  of 300 sample #: 199 reconstruction error: 0.106939\n",
      "Epoch: 0 batch #: 19  of 300 sample #: 199 reconstruction error: 0.147809\n",
      "Epoch: 0 batch #: 20  of 300 sample #: 199 reconstruction error: 0.109004\n",
      "Epoch: 0 batch #: 21  of 300 sample #: 199 reconstruction error: 0.083221\n",
      "Epoch: 0 batch #: 22  of 300 sample #: 199 reconstruction error: 0.078569\n",
      "Epoch: 0 batch #: 23  of 300 sample #: 199 reconstruction error: 0.113591\n",
      "Epoch: 0 batch #: 24  of 300 sample #: 199 reconstruction error: 0.114830\n",
      "Epoch: 0 batch #: 25  of 300 sample #: 199 reconstruction error: 0.100840\n",
      "Epoch: 0 batch #: 26  of 300 sample #: 199 reconstruction error: 0.099202\n",
      "Epoch: 0 batch #: 27  of 300 sample #: 199 reconstruction error: 0.106122\n",
      "Epoch: 0 batch #: 28  of 300 sample #: 199 reconstruction error: 0.086972\n",
      "Epoch: 0 batch #: 29  of 300 sample #: 199 reconstruction error: 0.099440\n",
      "Epoch: 0 batch #: 30  of 300 sample #: 199 reconstruction error: 0.088008\n",
      "Epoch: 0 batch #: 31  of 300 sample #: 199 reconstruction error: 0.094255\n",
      "Epoch: 0 batch #: 32  of 300 sample #: 199 reconstruction error: 0.114117\n",
      "Epoch: 0 batch #: 33  of 300 sample #: 199 reconstruction error: 0.050754\n",
      "Epoch: 0 batch #: 34  of 300 sample #: 199 reconstruction error: 0.075820\n",
      "Epoch: 0 batch #: 35  of 300 sample #: 199 reconstruction error: 0.071814\n",
      "Epoch: 0 batch #: 36  of 300 sample #: 199 reconstruction error: 0.091171\n",
      "Epoch: 0 batch #: 37  of 300 sample #: 199 reconstruction error: 0.057266\n",
      "Epoch: 0 batch #: 38  of 300 sample #: 199 reconstruction error: 0.077016\n",
      "Epoch: 0 batch #: 39  of 300 sample #: 199 reconstruction error: 0.089526\n",
      "Epoch: 0 batch #: 40  of 300 sample #: 199 reconstruction error: 0.120908\n",
      "Epoch: 0 batch #: 41  of 300 sample #: 199 reconstruction error: 0.064052\n",
      "Epoch: 0 batch #: 42  of 300 sample #: 199 reconstruction error: 0.073468\n",
      "Epoch: 0 batch #: 43  of 300 sample #: 199 reconstruction error: 0.116695\n",
      "Epoch: 0 batch #: 44  of 300 sample #: 199 reconstruction error: 0.072606\n",
      "Epoch: 0 batch #: 45  of 300 sample #: 199 reconstruction error: 0.052704\n",
      "Epoch: 0 batch #: 46  of 300 sample #: 199 reconstruction error: 0.025599\n",
      "Epoch: 0 batch #: 47  of 300 sample #: 199 reconstruction error: 0.043852\n",
      "Epoch: 0 batch #: 48  of 300 sample #: 199 reconstruction error: 0.044393\n",
      "Epoch: 0 batch #: 49  of 300 sample #: 199 reconstruction error: 0.148933\n",
      "Epoch: 0 batch #: 50  of 300 sample #: 199 reconstruction error: 0.057921\n",
      "Epoch: 0 batch #: 51  of 300 sample #: 199 reconstruction error: 0.060745\n",
      "Epoch: 0 batch #: 52  of 300 sample #: 199 reconstruction error: 0.033750\n",
      "Epoch: 0 batch #: 53  of 300 sample #: 199 reconstruction error: 0.105687\n",
      "Epoch: 0 batch #: 54  of 300 sample #: 199 reconstruction error: 0.064354\n",
      "Epoch: 0 batch #: 55  of 300 sample #: 199 reconstruction error: 0.103072\n",
      "Epoch: 0 batch #: 56  of 300 sample #: 199 reconstruction error: 0.043946\n",
      "Epoch: 0 batch #: 57  of 300 sample #: 199 reconstruction error: 0.054422\n",
      "Epoch: 0 batch #: 58  of 300 sample #: 199 reconstruction error: 0.082195\n",
      "Epoch: 0 batch #: 59  of 300 sample #: 199 reconstruction error: 0.048853\n",
      "Epoch: 0 batch #: 60  of 300 sample #: 199 reconstruction error: 0.086216\n",
      "Epoch: 0 batch #: 61  of 300 sample #: 199 reconstruction error: 0.069132\n",
      "Epoch: 0 batch #: 62  of 300 sample #: 199 reconstruction error: 0.062091\n",
      "Epoch: 0 batch #: 63  of 300 sample #: 199 reconstruction error: 0.066721\n",
      "Epoch: 0 batch #: 64  of 300 sample #: 199 reconstruction error: 0.077314\n",
      "Epoch: 0 batch #: 65  of 300 sample #: 199 reconstruction error: 0.101651\n",
      "Epoch: 0 batch #: 66  of 300 sample #: 199 reconstruction error: 0.070590\n",
      "Epoch: 0 batch #: 67  of 300 sample #: 199 reconstruction error: 0.057953\n",
      "Epoch: 0 batch #: 68  of 300 sample #: 199 reconstruction error: 0.061868\n",
      "Epoch: 0 batch #: 69  of 300 sample #: 199 reconstruction error: 0.087464\n",
      "Epoch: 0 batch #: 70  of 300 sample #: 199 reconstruction error: 0.095178\n",
      "Epoch: 0 batch #: 71  of 300 sample #: 199 reconstruction error: 0.081737\n",
      "Epoch: 0 batch #: 72  of 300 sample #: 199 reconstruction error: 0.055043\n",
      "Epoch: 0 batch #: 73  of 300 sample #: 199 reconstruction error: 0.075759\n",
      "Epoch: 0 batch #: 74  of 300 sample #: 199 reconstruction error: 0.089877\n",
      "Epoch: 0 batch #: 75  of 300 sample #: 199 reconstruction error: 0.048728\n",
      "Epoch: 0 batch #: 76  of 300 sample #: 199 reconstruction error: 0.081813\n",
      "Epoch: 0 batch #: 77  of 300 sample #: 199 reconstruction error: 0.108967\n",
      "Epoch: 0 batch #: 78  of 300 sample #: 199 reconstruction error: 0.111522\n",
      "Epoch: 0 batch #: 79  of 300 sample #: 199 reconstruction error: 0.101349\n",
      "Epoch: 0 batch #: 80  of 300 sample #: 199 reconstruction error: 0.030405\n",
      "Epoch: 0 batch #: 81  of 300 sample #: 199 reconstruction error: 0.057612\n",
      "Epoch: 0 batch #: 82  of 300 sample #: 199 reconstruction error: 0.052985\n",
      "Epoch: 0 batch #: 83  of 300 sample #: 199 reconstruction error: 0.069647\n",
      "Epoch: 0 batch #: 84  of 300 sample #: 199 reconstruction error: 0.083410\n",
      "Epoch: 0 batch #: 85  of 300 sample #: 199 reconstruction error: 0.047104\n",
      "Epoch: 0 batch #: 86  of 300 sample #: 199 reconstruction error: 0.078286\n",
      "Epoch: 0 batch #: 87  of 300 sample #: 199 reconstruction error: 0.087435\n",
      "Epoch: 0 batch #: 88  of 300 sample #: 199 reconstruction error: 0.031708\n",
      "Epoch: 0 batch #: 89  of 300 sample #: 199 reconstruction error: 0.060524\n",
      "Epoch: 0 batch #: 90  of 300 sample #: 199 reconstruction error: 0.079571\n",
      "Epoch: 0 batch #: 91  of 300 sample #: 199 reconstruction error: 0.060131\n",
      "Epoch: 0 batch #: 92  of 300 sample #: 199 reconstruction error: 0.058786\n",
      "Epoch: 0 batch #: 93  of 300 sample #: 199 reconstruction error: 0.107754\n",
      "Epoch: 0 batch #: 94  of 300 sample #: 199 reconstruction error: 0.103701\n",
      "Epoch: 0 batch #: 95  of 300 sample #: 199 reconstruction error: 0.062624\n",
      "Epoch: 0 batch #: 96  of 300 sample #: 199 reconstruction error: 0.047883\n",
      "Epoch: 0 batch #: 97  of 300 sample #: 199 reconstruction error: 0.106135\n",
      "Epoch: 0 batch #: 98  of 300 sample #: 199 reconstruction error: 0.127900\n",
      "Epoch: 0 batch #: 99  of 300 sample #: 199 reconstruction error: 0.057021\n",
      "Epoch: 0 batch #: 100  of 300 sample #: 199 reconstruction error: 0.099774\n",
      "Epoch: 0 batch #: 101  of 300 sample #: 199 reconstruction error: 0.082641\n",
      "Epoch: 0 batch #: 102  of 300 sample #: 199 reconstruction error: 0.091506\n",
      "Epoch: 0 batch #: 103  of 300 sample #: 199 reconstruction error: 0.083056\n",
      "Epoch: 0 batch #: 104  of 300 sample #: 199 reconstruction error: 0.069407\n",
      "Epoch: 0 batch #: 105  of 300 sample #: 199 reconstruction error: 0.055789\n",
      "Epoch: 0 batch #: 106  of 300 sample #: 199 reconstruction error: 0.116691\n",
      "Epoch: 0 batch #: 107  of 300 sample #: 199 reconstruction error: 0.136012\n",
      "Epoch: 0 batch #: 108  of 300 sample #: 199 reconstruction error: 0.057887\n",
      "Epoch: 0 batch #: 109  of 300 sample #: 199 reconstruction error: 0.126682\n",
      "Epoch: 0 batch #: 110  of 300 sample #: 199 reconstruction error: 0.066860\n",
      "Epoch: 0 batch #: 111  of 300 sample #: 199 reconstruction error: 0.096580\n",
      "Epoch: 0 batch #: 112  of 300 sample #: 199 reconstruction error: 0.041946\n",
      "Epoch: 0 batch #: 113  of 300 sample #: 199 reconstruction error: 0.066546\n",
      "Epoch: 0 batch #: 114  of 300 sample #: 199 reconstruction error: 0.075194\n",
      "Epoch: 0 batch #: 115  of 300 sample #: 199 reconstruction error: 0.037937\n",
      "Epoch: 0 batch #: 116  of 300 sample #: 199 reconstruction error: 0.057068\n",
      "Epoch: 0 batch #: 117  of 300 sample #: 199 reconstruction error: 0.040847\n",
      "Epoch: 0 batch #: 118  of 300 sample #: 199 reconstruction error: 0.077677\n",
      "Epoch: 0 batch #: 119  of 300 sample #: 199 reconstruction error: 0.122573\n",
      "Epoch: 0 batch #: 120  of 300 sample #: 199 reconstruction error: 0.078542\n",
      "Epoch: 0 batch #: 121  of 300 sample #: 199 reconstruction error: 0.044128\n",
      "Epoch: 0 batch #: 122  of 300 sample #: 199 reconstruction error: 0.098872\n",
      "Epoch: 0 batch #: 123  of 300 sample #: 199 reconstruction error: 0.061397\n",
      "Epoch: 0 batch #: 124  of 300 sample #: 199 reconstruction error: 0.068477\n",
      "Epoch: 0 batch #: 125  of 300 sample #: 199 reconstruction error: 0.052879\n",
      "Epoch: 0 batch #: 126  of 300 sample #: 199 reconstruction error: 0.108086\n",
      "Epoch: 0 batch #: 127  of 300 sample #: 199 reconstruction error: 0.085708\n",
      "Epoch: 0 batch #: 128  of 300 sample #: 199 reconstruction error: 0.060954\n",
      "Epoch: 0 batch #: 129  of 300 sample #: 199 reconstruction error: 0.054391\n",
      "Epoch: 0 batch #: 130  of 300 sample #: 199 reconstruction error: 0.079306\n",
      "Epoch: 0 batch #: 131  of 300 sample #: 199 reconstruction error: 0.068739\n",
      "Epoch: 0 batch #: 132  of 300 sample #: 199 reconstruction error: 0.048577\n",
      "Epoch: 0 batch #: 133  of 300 sample #: 199 reconstruction error: 0.067139\n",
      "Epoch: 0 batch #: 134  of 300 sample #: 199 reconstruction error: 0.102465\n",
      "Epoch: 0 batch #: 135  of 300 sample #: 199 reconstruction error: 0.086890\n",
      "Epoch: 0 batch #: 136  of 300 sample #: 199 reconstruction error: 0.091455\n",
      "Epoch: 0 batch #: 137  of 300 sample #: 199 reconstruction error: 0.065284\n",
      "Epoch: 0 batch #: 138  of 300 sample #: 199 reconstruction error: 0.086423\n",
      "Epoch: 0 batch #: 139  of 300 sample #: 199 reconstruction error: 0.101271\n",
      "Epoch: 0 batch #: 140  of 300 sample #: 199 reconstruction error: 0.081473\n",
      "Epoch: 0 batch #: 141  of 300 sample #: 199 reconstruction error: 0.079894\n",
      "Epoch: 0 batch #: 142  of 300 sample #: 199 reconstruction error: 0.067263\n",
      "Epoch: 0 batch #: 143  of 300 sample #: 199 reconstruction error: 0.046477\n",
      "Epoch: 0 batch #: 144  of 300 sample #: 199 reconstruction error: 0.078322\n",
      "Epoch: 0 batch #: 145  of 300 sample #: 199 reconstruction error: 0.113114\n",
      "Epoch: 0 batch #: 146  of 300 sample #: 199 reconstruction error: 0.101154\n",
      "Epoch: 0 batch #: 147  of 300 sample #: 199 reconstruction error: 0.066514\n",
      "Epoch: 0 batch #: 148  of 300 sample #: 199 reconstruction error: 0.076270\n",
      "Epoch: 0 batch #: 149  of 300 sample #: 199 reconstruction error: 0.042902\n",
      "Epoch: 0 batch #: 150  of 300 sample #: 199 reconstruction error: 0.049502\n",
      "Epoch: 0 batch #: 151  of 300 sample #: 199 reconstruction error: 0.091055\n",
      "Epoch: 0 batch #: 152  of 300 sample #: 199 reconstruction error: 0.067878\n",
      "Epoch: 0 batch #: 153  of 300 sample #: 199 reconstruction error: 0.065794\n",
      "Epoch: 0 batch #: 154  of 300 sample #: 199 reconstruction error: 0.090849\n",
      "Epoch: 0 batch #: 155  of 300 sample #: 199 reconstruction error: 0.054455\n",
      "Epoch: 0 batch #: 156  of 300 sample #: 199 reconstruction error: 0.067293\n",
      "Epoch: 0 batch #: 157  of 300 sample #: 199 reconstruction error: 0.088977\n",
      "Epoch: 0 batch #: 158  of 300 sample #: 199 reconstruction error: 0.059150\n",
      "Epoch: 0 batch #: 159  of 300 sample #: 199 reconstruction error: 0.059511\n",
      "Epoch: 0 batch #: 160  of 300 sample #: 199 reconstruction error: 0.080492\n",
      "Epoch: 0 batch #: 161  of 300 sample #: 199 reconstruction error: 0.084531\n",
      "Epoch: 0 batch #: 162  of 300 sample #: 199 reconstruction error: 0.115259\n",
      "Epoch: 0 batch #: 163  of 300 sample #: 199 reconstruction error: 0.044134\n",
      "Epoch: 0 batch #: 164  of 300 sample #: 199 reconstruction error: 0.073659\n",
      "Epoch: 0 batch #: 165  of 300 sample #: 199 reconstruction error: 0.086037\n",
      "Epoch: 0 batch #: 166  of 300 sample #: 199 reconstruction error: 0.057624\n",
      "Epoch: 0 batch #: 167  of 300 sample #: 199 reconstruction error: 0.097684\n",
      "Epoch: 0 batch #: 168  of 300 sample #: 199 reconstruction error: 0.054724\n",
      "Epoch: 0 batch #: 169  of 300 sample #: 199 reconstruction error: 0.031044\n",
      "Epoch: 0 batch #: 170  of 300 sample #: 199 reconstruction error: 0.066046\n",
      "Epoch: 0 batch #: 171  of 300 sample #: 199 reconstruction error: 0.032026\n",
      "Epoch: 0 batch #: 172  of 300 sample #: 199 reconstruction error: 0.035861\n",
      "Epoch: 0 batch #: 173  of 300 sample #: 199 reconstruction error: 0.071468\n",
      "Epoch: 0 batch #: 174  of 300 sample #: 199 reconstruction error: 0.124425\n",
      "Epoch: 0 batch #: 175  of 300 sample #: 199 reconstruction error: 0.069527\n",
      "Epoch: 0 batch #: 176  of 300 sample #: 199 reconstruction error: 0.045336\n",
      "Epoch: 0 batch #: 177  of 300 sample #: 199 reconstruction error: 0.039899\n",
      "Epoch: 0 batch #: 178  of 300 sample #: 199 reconstruction error: 0.089389\n",
      "Epoch: 0 batch #: 179  of 300 sample #: 199 reconstruction error: 0.061584\n",
      "Epoch: 0 batch #: 180  of 300 sample #: 199 reconstruction error: 0.071661\n",
      "Epoch: 0 batch #: 181  of 300 sample #: 199 reconstruction error: 0.100520\n",
      "Epoch: 0 batch #: 182  of 300 sample #: 199 reconstruction error: 0.082018\n",
      "Epoch: 0 batch #: 183  of 300 sample #: 199 reconstruction error: 0.108304\n",
      "Epoch: 0 batch #: 184  of 300 sample #: 199 reconstruction error: 0.076608\n",
      "Epoch: 0 batch #: 185  of 300 sample #: 199 reconstruction error: 0.079986\n",
      "Epoch: 0 batch #: 186  of 300 sample #: 199 reconstruction error: 0.100478\n",
      "Epoch: 0 batch #: 187  of 300 sample #: 199 reconstruction error: 0.058749\n",
      "Epoch: 0 batch #: 188  of 300 sample #: 199 reconstruction error: 0.117683\n",
      "Epoch: 0 batch #: 189  of 300 sample #: 199 reconstruction error: 0.076591\n",
      "Epoch: 0 batch #: 190  of 300 sample #: 199 reconstruction error: 0.071426\n",
      "Epoch: 0 batch #: 191  of 300 sample #: 199 reconstruction error: 0.110705\n",
      "Epoch: 0 batch #: 192  of 300 sample #: 199 reconstruction error: 0.136641\n",
      "Epoch: 0 batch #: 193  of 300 sample #: 199 reconstruction error: 0.096021\n",
      "Epoch: 0 batch #: 194  of 300 sample #: 199 reconstruction error: 0.084961\n",
      "Epoch: 0 batch #: 195  of 300 sample #: 199 reconstruction error: 0.051175\n",
      "Epoch: 0 batch #: 196  of 300 sample #: 199 reconstruction error: 0.040155\n",
      "Epoch: 0 batch #: 197  of 300 sample #: 199 reconstruction error: 0.060842\n",
      "Epoch: 0 batch #: 198  of 300 sample #: 199 reconstruction error: 0.088708\n",
      "Epoch: 0 batch #: 199  of 300 sample #: 199 reconstruction error: 0.079359\n",
      "Epoch: 0 batch #: 200  of 300 sample #: 199 reconstruction error: 0.096299\n",
      "Epoch: 0 batch #: 201  of 300 sample #: 199 reconstruction error: 0.095840\n",
      "Epoch: 0 batch #: 202  of 300 sample #: 199 reconstruction error: 0.026938\n",
      "Epoch: 0 batch #: 203  of 300 sample #: 199 reconstruction error: 0.098030\n",
      "Epoch: 0 batch #: 204  of 300 sample #: 199 reconstruction error: 0.052460\n",
      "Epoch: 0 batch #: 205  of 300 sample #: 199 reconstruction error: 0.029199\n",
      "Epoch: 0 batch #: 206  of 300 sample #: 199 reconstruction error: 0.065253\n",
      "Epoch: 0 batch #: 207  of 300 sample #: 199 reconstruction error: 0.079407\n",
      "Epoch: 0 batch #: 208  of 300 sample #: 199 reconstruction error: 0.055946\n",
      "Epoch: 0 batch #: 209  of 300 sample #: 199 reconstruction error: 0.030361\n",
      "Epoch: 0 batch #: 210  of 300 sample #: 199 reconstruction error: 0.108496\n",
      "Epoch: 0 batch #: 211  of 300 sample #: 199 reconstruction error: 0.083466\n",
      "Epoch: 0 batch #: 212  of 300 sample #: 199 reconstruction error: 0.101038\n",
      "Epoch: 0 batch #: 213  of 300 sample #: 199 reconstruction error: 0.101943\n",
      "Epoch: 0 batch #: 214  of 300 sample #: 199 reconstruction error: 0.109021\n",
      "Epoch: 0 batch #: 215  of 300 sample #: 199 reconstruction error: 0.036230\n",
      "Epoch: 0 batch #: 216  of 300 sample #: 199 reconstruction error: 0.087987\n",
      "Epoch: 0 batch #: 217  of 300 sample #: 199 reconstruction error: 0.073663\n",
      "Epoch: 0 batch #: 218  of 300 sample #: 199 reconstruction error: 0.069012\n",
      "Epoch: 0 batch #: 219  of 300 sample #: 199 reconstruction error: 0.064643\n",
      "Epoch: 0 batch #: 220  of 300 sample #: 199 reconstruction error: 0.060986\n",
      "Epoch: 0 batch #: 221  of 300 sample #: 199 reconstruction error: 0.100018\n",
      "Epoch: 0 batch #: 222  of 300 sample #: 199 reconstruction error: 0.093334\n",
      "Epoch: 0 batch #: 223  of 300 sample #: 199 reconstruction error: 0.071097\n",
      "Epoch: 0 batch #: 224  of 300 sample #: 199 reconstruction error: 0.062876\n",
      "Epoch: 0 batch #: 225  of 300 sample #: 199 reconstruction error: 0.080372\n",
      "Epoch: 0 batch #: 226  of 300 sample #: 199 reconstruction error: 0.106844\n",
      "Epoch: 0 batch #: 227  of 300 sample #: 199 reconstruction error: 0.076356\n",
      "Epoch: 0 batch #: 228  of 300 sample #: 199 reconstruction error: 0.058718\n",
      "Epoch: 0 batch #: 229  of 300 sample #: 199 reconstruction error: 0.084658\n",
      "Epoch: 0 batch #: 230  of 300 sample #: 199 reconstruction error: 0.034718\n",
      "Epoch: 0 batch #: 231  of 300 sample #: 199 reconstruction error: 0.023423\n",
      "Epoch: 0 batch #: 232  of 300 sample #: 199 reconstruction error: 0.082414\n",
      "Epoch: 0 batch #: 233  of 300 sample #: 199 reconstruction error: 0.088697\n",
      "Epoch: 0 batch #: 234  of 300 sample #: 199 reconstruction error: 0.063411\n",
      "Epoch: 0 batch #: 235  of 300 sample #: 199 reconstruction error: 0.069200\n",
      "Epoch: 0 batch #: 236  of 300 sample #: 199 reconstruction error: 0.089297\n",
      "Epoch: 0 batch #: 237  of 300 sample #: 199 reconstruction error: 0.101969\n",
      "Epoch: 0 batch #: 238  of 300 sample #: 199 reconstruction error: 0.118157\n",
      "Epoch: 0 batch #: 239  of 300 sample #: 199 reconstruction error: 0.040275\n",
      "Epoch: 0 batch #: 240  of 300 sample #: 199 reconstruction error: 0.098812\n",
      "Epoch: 0 batch #: 241  of 300 sample #: 199 reconstruction error: 0.085427\n",
      "Epoch: 0 batch #: 242  of 300 sample #: 199 reconstruction error: 0.068979\n",
      "Epoch: 0 batch #: 243  of 300 sample #: 199 reconstruction error: 0.070560\n",
      "Epoch: 0 batch #: 244  of 300 sample #: 199 reconstruction error: 0.091062\n",
      "Epoch: 0 batch #: 245  of 300 sample #: 199 reconstruction error: 0.070311\n",
      "Epoch: 0 batch #: 246  of 300 sample #: 199 reconstruction error: 0.098734\n",
      "Epoch: 0 batch #: 247  of 300 sample #: 199 reconstruction error: 0.039127\n",
      "Epoch: 0 batch #: 248  of 300 sample #: 199 reconstruction error: 0.056322\n",
      "Epoch: 0 batch #: 249  of 300 sample #: 199 reconstruction error: 0.036302\n",
      "Epoch: 0 batch #: 250  of 300 sample #: 199 reconstruction error: 0.100912\n",
      "Epoch: 0 batch #: 251  of 300 sample #: 199 reconstruction error: 0.045725\n",
      "Epoch: 0 batch #: 252  of 300 sample #: 199 reconstruction error: 0.071292\n",
      "Epoch: 0 batch #: 253  of 300 sample #: 199 reconstruction error: 0.066009\n",
      "Epoch: 0 batch #: 254  of 300 sample #: 199 reconstruction error: 0.028897\n",
      "Epoch: 0 batch #: 255  of 300 sample #: 199 reconstruction error: 0.060995\n",
      "Epoch: 0 batch #: 256  of 300 sample #: 199 reconstruction error: 0.075584\n",
      "Epoch: 0 batch #: 257  of 300 sample #: 199 reconstruction error: 0.096686\n",
      "Epoch: 0 batch #: 258  of 300 sample #: 199 reconstruction error: 0.094716\n",
      "Epoch: 0 batch #: 259  of 300 sample #: 199 reconstruction error: 0.065594\n",
      "Epoch: 0 batch #: 260  of 300 sample #: 199 reconstruction error: 0.098979\n",
      "Epoch: 0 batch #: 261  of 300 sample #: 199 reconstruction error: 0.035127\n",
      "Epoch: 0 batch #: 262  of 300 sample #: 199 reconstruction error: 0.043159\n",
      "Epoch: 0 batch #: 263  of 300 sample #: 199 reconstruction error: 0.061690\n",
      "Epoch: 0 batch #: 264  of 300 sample #: 199 reconstruction error: 0.073089\n",
      "Epoch: 0 batch #: 265  of 300 sample #: 199 reconstruction error: 0.073035\n",
      "Epoch: 0 batch #: 266  of 300 sample #: 199 reconstruction error: 0.029681\n",
      "Epoch: 0 batch #: 267  of 300 sample #: 199 reconstruction error: 0.062579\n",
      "Epoch: 0 batch #: 268  of 300 sample #: 199 reconstruction error: 0.026586\n",
      "Epoch: 0 batch #: 269  of 300 sample #: 199 reconstruction error: 0.081410\n",
      "Epoch: 0 batch #: 270  of 300 sample #: 199 reconstruction error: 0.089344\n",
      "Epoch: 0 batch #: 271  of 300 sample #: 199 reconstruction error: 0.057518\n",
      "Epoch: 0 batch #: 272  of 300 sample #: 199 reconstruction error: 0.054348\n",
      "Epoch: 0 batch #: 273  of 300 sample #: 199 reconstruction error: 0.044473\n",
      "Epoch: 0 batch #: 274  of 300 sample #: 199 reconstruction error: 0.073424\n",
      "Epoch: 0 batch #: 275  of 300 sample #: 199 reconstruction error: 0.087371\n",
      "Epoch: 0 batch #: 276  of 300 sample #: 199 reconstruction error: 0.074377\n",
      "Epoch: 0 batch #: 277  of 300 sample #: 199 reconstruction error: 0.075715\n",
      "Epoch: 0 batch #: 278  of 300 sample #: 199 reconstruction error: 0.070389\n",
      "Epoch: 0 batch #: 279  of 300 sample #: 199 reconstruction error: 0.052021\n",
      "Epoch: 0 batch #: 280  of 300 sample #: 199 reconstruction error: 0.094761\n",
      "Epoch: 0 batch #: 281  of 300 sample #: 199 reconstruction error: 0.075404\n",
      "Epoch: 0 batch #: 282  of 300 sample #: 199 reconstruction error: 0.102264\n",
      "Epoch: 0 batch #: 283  of 300 sample #: 199 reconstruction error: 0.054620\n",
      "Epoch: 0 batch #: 284  of 300 sample #: 199 reconstruction error: 0.063448\n",
      "Epoch: 0 batch #: 285  of 300 sample #: 199 reconstruction error: 0.060839\n",
      "Epoch: 0 batch #: 286  of 300 sample #: 199 reconstruction error: 0.084609\n",
      "Epoch: 0 batch #: 287  of 300 sample #: 199 reconstruction error: 0.065572\n",
      "Epoch: 0 batch #: 288  of 300 sample #: 199 reconstruction error: 0.027642\n",
      "Epoch: 0 batch #: 289  of 300 sample #: 199 reconstruction error: 0.097167\n",
      "Epoch: 0 batch #: 290  of 300 sample #: 199 reconstruction error: 0.078971\n",
      "Epoch: 0 batch #: 291  of 300 sample #: 199 reconstruction error: 0.119473\n",
      "Epoch: 0 batch #: 292  of 300 sample #: 199 reconstruction error: 0.075984\n",
      "Epoch: 0 batch #: 293  of 300 sample #: 199 reconstruction error: 0.069255\n",
      "Epoch: 0 batch #: 294  of 300 sample #: 199 reconstruction error: 0.088819\n",
      "Epoch: 0 batch #: 295  of 300 sample #: 199 reconstruction error: 0.082015\n",
      "Epoch: 0 batch #: 296  of 300 sample #: 199 reconstruction error: 0.031435\n",
      "Epoch: 0 batch #: 297  of 300 sample #: 199 reconstruction error: 0.094498\n",
      "Epoch: 0 batch #: 298  of 300 sample #: 199 reconstruction error: 0.052607\n",
      "Epoch: 0 batch #: 299  of 300 sample #: 199 reconstruction error: 0.056683\n",
      "Epoch: 0 batch #: 300  of 300 sample #: 199 reconstruction error: 0.086786\n"
     ]
    }
   ],
   "source": [
    "#Parameters\n",
    "alpha = 0.01\n",
    "epochs = 1\n",
    "batchsize = 200\n",
    "weights = []\n",
    "errors = []\n",
    "batch_number = 0\n",
    "K = 1\n",
    "\n",
    "#creating datasets\n",
    "train_ds = \\\n",
    "    tf.data.Dataset.from_tensor_slices((trX, trY)).batch(batchsize)\n",
    "\n",
    "for epoch in range(epochs):\n",
    "    for batch_x, batch_y in train_ds:\n",
    "        batch_number += 1\n",
    "        for i_sample in range(batchsize):           \n",
    "            for k in range(K):\n",
    "                v0_state = batch_x[i_sample]\n",
    "                h0_state = hidden_layer(v0_state, W, hb)\n",
    "                v1_state = reconstructed_output(h0_state, W, vb)\n",
    "                h1_state = hidden_layer(v1_state, W, hb)\n",
    "\n",
    "                delta_W = tf.matmul(tf.transpose([v0_state]), h0_state) - tf.matmul(tf.transpose([v1_state]), h1_state)\n",
    "                W = W + alpha * delta_W\n",
    "\n",
    "                vb = vb + alpha * tf.reduce_mean(v0_state - v1_state, 0)\n",
    "                hb = hb + alpha * tf.reduce_mean(h0_state - h1_state, 0) \n",
    "\n",
    "                v0_state = v1_state\n",
    "\n",
    "            if i_sample == batchsize-1:\n",
    "                err = error(batch_x[i_sample], v1_state)\n",
    "                errors.append(err)\n",
    "                weights.append(W)\n",
    "                print ( 'Epoch: %d' % epoch, \n",
    "                       \"batch #: %i \" % batch_number, \"of %i\" % int(60e3/batchsize), \n",
    "                       \"sample #: %i\" % i_sample,\n",
    "                       'reconstruction error: %f' % err)\n",
    "\n"
   ]
  },
  {
   "cell_type": "markdown",
   "metadata": {},
   "source": [
    "Let's take a look at the errors at the end of each batch:\n"
   ]
  },
  {
   "cell_type": "code",
   "execution_count": 20,
   "metadata": {},
   "outputs": [
    {
     "data": {
      "image/png": "[encoded data removed]",
      "text/plain": [
       "<Figure size 640x480 with 1 Axes>"
      ]
     },
     "metadata": {},
     "output_type": "display_data"
    }
   ],
   "source": [
    "plt.plot(errors)\n",
    "plt.xlabel(\"Batch Number\")\n",
    "plt.ylabel(\"Error\")\n",
    "plt.show()"
   ]
  },
  {
   "cell_type": "markdown",
   "metadata": {},
   "source": [
    "What is the final weight matrix $W$ after training?\n"
   ]
  },
  {
   "cell_type": "code",
   "execution_count": 28,
   "metadata": {},
   "outputs": [
    {
     "name": "stdout",
     "output_type": "stream",
     "text": [
      "[[-0.5099998  -0.26000002 -0.46999982 ... -0.29999998 -0.43999985\n",
      "  -0.4799998 ]\n",
      " [-0.34999993 -0.28       -0.44999984 ... -0.29999998 -0.40999988\n",
      "  -0.33999994]\n",
      " [-0.41999987 -0.23000003 -0.42999986 ... -0.33999994 -0.44999984\n",
      "  -0.3999999 ]\n",
      " ...\n",
      " [-0.36999992 -0.24000004 -0.42999986 ... -0.24000004 -0.42999986\n",
      "  -0.36999992]\n",
      " [-0.4999998  -0.34999993 -0.5399998  ... -0.27       -0.4899998\n",
      "  -0.44999984]\n",
      " [-0.36999992 -0.29       -0.4799998  ... -0.29       -0.44999984\n",
      "  -0.44999984]]\n"
     ]
    }
   ],
   "source": [
    "print(W.numpy()) # a weight matrix of shape (784,50)"
   ]
  },
  {
   "cell_type": "markdown",
   "metadata": {},
   "source": [
    "<a id=\"ref5\"></a>\n",
    "<h3>Learned features</h3> \n"
   ]
  },
  {
   "cell_type": "markdown",
   "metadata": {},
   "source": [
    "We can take each hidden unit and visualize the connections between that hidden unit and each element in the input vector. In our case, we have 50 hidden units. Lets visualize those.\n"
   ]
  },
  {
   "cell_type": "markdown",
   "metadata": {},
   "source": [
    "Let's plot the current weights:\n",
    "<b>tile_raster_images</b> helps in generating an easy to grasp image from a set of samples or weights. It transforms the <b>uw</b> (with one flattened image per row of size 784), into an array (of size $28\\times28$) in which images are reshaped and laid out like tiles on a floor.\n"
   ]
  },
  {
   "cell_type": "code",
   "execution_count": 22,
   "metadata": {},
   "outputs": [
    {
     "data": {
      "image/png": "[encoded data removed]",
      "text/plain": [
       "<Figure size 1800x1800 with 1 Axes>"
      ]
     },
     "metadata": {},
     "output_type": "display_data"
    }
   ],
   "source": [
    "tile_raster_images(X=W.numpy().T, img_shape=(28, 28), tile_shape=(5, 10), tile_spacing=(1, 1))\n",
    "import matplotlib.pyplot as plt\n",
    "from PIL import Image\n",
    "%matplotlib inline\n",
    "image = Image.fromarray(tile_raster_images(X=W.numpy().T, img_shape=(28, 28) ,tile_shape=(5, 10), tile_spacing=(1, 1)))\n",
    "### Plot image\n",
    "plt.rcParams['figure.figsize'] = (18.0, 18.0)\n",
    "imgplot = plt.imshow(image)\n",
    "imgplot.set_cmap('gray')  "
   ]
  },
  {
   "cell_type": "markdown",
   "metadata": {},
   "source": [
    "Each tile in the above visualization corresponds to a vector of connections between a hidden unit and visible layer's units. \n"
   ]
  },
  {
   "cell_type": "markdown",
   "metadata": {},
   "source": [
    "Let's look at one of the learned weights corresponding to one of hidden units for example. In this particular square, the gray color represents weight = 0, and the whiter it is, the more positive the weights are (closer to 1). Conversely, the darker pixels are, the more negative the weights. The positive pixels will increase the probability of activation in hidden units (after multiplying by input/visible pixels), and negative pixels will decrease the probability of a unit hidden to be 1 (activated). So, why is this important?  So we can see that this specific square (hidden unit) can detect a feature (e.g. a \"/\" shape) and if it exists in the input.\n"
   ]
  },
  {
   "cell_type": "code",
   "execution_count": 23,
   "metadata": {},
   "outputs": [
    {
     "data": {
      "image/png": "[encoded data removed]",
      "text/plain": [
       "<Figure size 400x400 with 1 Axes>"
      ]
     },
     "metadata": {},
     "output_type": "display_data"
    }
   ],
   "source": [
    "from PIL import Image\n",
    "image = Image.fromarray(tile_raster_images(X =W.numpy().T[10:11], img_shape=(28, 28),tile_shape=(1, 1), tile_spacing=(1, 1)))\n",
    "### Plot image\n",
    "plt.rcParams['figure.figsize'] = (4.0, 4.0)\n",
    "imgplot = plt.imshow(image)\n",
    "imgplot.set_cmap('gray')  "
   ]
  },
  {
   "cell_type": "markdown",
   "metadata": {},
   "source": [
    "Let's look at the reconstruction of an image now. Imagine that we have a destructed image of figure 3. Lets see if our trained network can fix it:\n",
    "\n",
    "First we plot the image:\n"
   ]
  },
  {
   "cell_type": "code",
   "execution_count": 24,
   "metadata": {},
   "outputs": [
    {
     "name": "stdout",
     "output_type": "stream",
     "text": [
      "--2023-01-11 09:57:06--  https://ibm.box.com/shared/static/vvm1b63uvuxq88vbw9znpwu5ol380mco.jpg\n",
      "Resolving ibm.box.com (ibm.box.com)... 74.112.186.144\n",
      "Connecting to ibm.box.com (ibm.box.com)|74.112.186.144|:443... connected.\n",
      "HTTP request sent, awaiting response... 301 Moved Permanently\n",
      "Location: /public/static/vvm1b63uvuxq88vbw9znpwu5ol380mco.jpg [following]\n",
      "--2023-01-11 09:57:06--  https://ibm.box.com/public/static/vvm1b63uvuxq88vbw9znpwu5ol380mco.jpg\n",
      "Reusing existing connection to ibm.box.com:443.\n",
      "HTTP request sent, awaiting response... 301 Moved Permanently\n",
      "Location: https://ibm.ent.box.com/public/static/vvm1b63uvuxq88vbw9znpwu5ol380mco.jpg [following]\n",
      "--2023-01-11 09:57:06--  https://ibm.ent.box.com/public/static/vvm1b63uvuxq88vbw9znpwu5ol380mco.jpg\n",
      "Resolving ibm.ent.box.com (ibm.ent.box.com)... 74.112.186.144\n",
      "Connecting to ibm.ent.box.com (ibm.ent.box.com)|74.112.186.144|:443... connected.\n",
      "HTTP request sent, awaiting response... 302 Found\n",
      "Location: https://dl2.boxcloud.com/d/1/b1!OQk90riSPA0ViU0xLe7sI-NoQGkykOoHZuiTfA2sDKPozKd4jx7YzuWd0oBMPsiNFftAc87pXh48MSDJ3oc8KoLkz9gmb4NwlSioVViKt8cLcnaL7spa0BcouPUW7DsOUKjrpthTvUGacU5acSvdc4eO5abmshawX5zDcV7WzDbDb90FkxKIDjkzws1c1s8uRgXlfhvlYdyKIpxZptaHL7QlqlAjnlceEdXN33bQ41JYvuBVeEvDKHjuunrrLg1Fsq_FvdJqrh8dGbwpE_BQlaa3CqDS6h9wt4Wbjgiv9BTHPPP_xWi1Qky3IZ70QwOvDawLrPZg0pTO2mXeolccdGAfx1wD7Hd4aRNZoi05VuaL0OiHq29JuqGLTMjrVNg1bYEeauAh_jA05ulHUcOCLARXR56MgVI9322rRj_0jZ0JCiKCncVUrosRK1ZTdZIjS2WW7jrkLiluIqQaKn48ND_HhEm-29LKIARwK44W_kRI4p4fxyG2nIHnzwOQgTeDWrJFagin3R0t5gpaYj2HqYNgH657NkEL6u4NiS0tW3y21EYsWbg-G9NbR8silU18xuVuxONhLKtz2zQNYcTm5uBdcsin55BYRnETc1LfOVv2AtV0VO4vYEMHJ6x6PFpYZj68Y9uo9-IAAAoM2AnnjmZgxwxg95NKxvuOIvCTCm-lzZetHMthNdb1La8mpeFv5prwVZRunhBg6jd9yu9-f0KuLOpfvrWb95KOXB9woCioK-ueIr77ELCLvBpsex_VEcGEGYyt4_-mfifWlGLM5cj9Z-xmi9M7YYUpT46rOnCL98zwQU3cJKn-0P1NqAtHFOz5NTtH8rJxV0UqAlnl7Iyb35uD7G-iU5bXj4ZV9qePNT0yQfLrIZ1w69eYOBXRrqPq3CBLgWVmANO8X8CZFrQHYunwQm5FduL5UxJKLArofcI55UDlJUXRUFWth4LgBKMEV484wPpk-ymRgdbM-Q7KFixC6gg6FF10G8EgMbGQOAhbm6PiaAWdNJ8fF3RAtS8R1n0vynR03UOB2Kz-_D1cqB33Am7yboYZESnn7Ibyfase_Nq9xDAD6yMoNqcoVOdxUhrodEVGnaSTP1PEdUU-LojGGB2nBXASn7HFCCe_ZR6LcJ6PJHjqaSfQ8A-8Pf4SjMBa107uUNw5kHycSmzmBnVm1ndS1Or46xe3nJMP6cCrL8hnV5ayY8wtAK_cQCKHXp96DnmbvtOGbg5_oTo2q_bHPrn8XYyBrE3gx_JxWxbcF5zbiCZLxtyB_RSk284llk5QxIvsUnOo83_nNEQX09UagnQ8FJ1yQ9Im8PJDfROUFyYN4gJ_II_FJL72Ks7hwreILYniqbIWFJn5aJkE19XQRRmWUU7-OLJBlrJDm8SNtSRWK9y-ZEPwGftbSFw6Y_gQVs3cQNhfn3TDzMi5mQ../download [following]\n",
      "--2023-01-11 09:57:08--  https://dl2.boxcloud.com/d/1/b1!OQk90riSPA0ViU0xLe7sI-NoQGkykOoHZuiTfA2sDKPozKd4jx7YzuWd0oBMPsiNFftAc87pXh48MSDJ3oc8KoLkz9gmb4NwlSioVViKt8cLcnaL7spa0BcouPUW7DsOUKjrpthTvUGacU5acSvdc4eO5abmshawX5zDcV7WzDbDb90FkxKIDjkzws1c1s8uRgXlfhvlYdyKIpxZptaHL7QlqlAjnlceEdXN33bQ41JYvuBVeEvDKHjuunrrLg1Fsq_FvdJqrh8dGbwpE_BQlaa3CqDS6h9wt4Wbjgiv9BTHPPP_xWi1Qky3IZ70QwOvDawLrPZg0pTO2mXeolccdGAfx1wD7Hd4aRNZoi05VuaL0OiHq29JuqGLTMjrVNg1bYEeauAh_jA05ulHUcOCLARXR56MgVI9322rRj_0jZ0JCiKCncVUrosRK1ZTdZIjS2WW7jrkLiluIqQaKn48ND_HhEm-29LKIARwK44W_kRI4p4fxyG2nIHnzwOQgTeDWrJFagin3R0t5gpaYj2HqYNgH657NkEL6u4NiS0tW3y21EYsWbg-G9NbR8silU18xuVuxONhLKtz2zQNYcTm5uBdcsin55BYRnETc1LfOVv2AtV0VO4vYEMHJ6x6PFpYZj68Y9uo9-IAAAoM2AnnjmZgxwxg95NKxvuOIvCTCm-lzZetHMthNdb1La8mpeFv5prwVZRunhBg6jd9yu9-f0KuLOpfvrWb95KOXB9woCioK-ueIr77ELCLvBpsex_VEcGEGYyt4_-mfifWlGLM5cj9Z-xmi9M7YYUpT46rOnCL98zwQU3cJKn-0P1NqAtHFOz5NTtH8rJxV0UqAlnl7Iyb35uD7G-iU5bXj4ZV9qePNT0yQfLrIZ1w69eYOBXRrqPq3CBLgWVmANO8X8CZFrQHYunwQm5FduL5UxJKLArofcI55UDlJUXRUFWth4LgBKMEV484wPpk-ymRgdbM-Q7KFixC6gg6FF10G8EgMbGQOAhbm6PiaAWdNJ8fF3RAtS8R1n0vynR03UOB2Kz-_D1cqB33Am7yboYZESnn7Ibyfase_Nq9xDAD6yMoNqcoVOdxUhrodEVGnaSTP1PEdUU-LojGGB2nBXASn7HFCCe_ZR6LcJ6PJHjqaSfQ8A-8Pf4SjMBa107uUNw5kHycSmzmBnVm1ndS1Or46xe3nJMP6cCrL8hnV5ayY8wtAK_cQCKHXp96DnmbvtOGbg5_oTo2q_bHPrn8XYyBrE3gx_JxWxbcF5zbiCZLxtyB_RSk284llk5QxIvsUnOo83_nNEQX09UagnQ8FJ1yQ9Im8PJDfROUFyYN4gJ_II_FJL72Ks7hwreILYniqbIWFJn5aJkE19XQRRmWUU7-OLJBlrJDm8SNtSRWK9y-ZEPwGftbSFw6Y_gQVs3cQNhfn3TDzMi5mQ../download\n",
      "Resolving dl2.boxcloud.com (dl2.boxcloud.com)... 74.112.186.128\n",
      "Connecting to dl2.boxcloud.com (dl2.boxcloud.com)|74.112.186.128|:443... connected.\n",
      "HTTP request sent, awaiting response... 200 OK\n",
      "Length: 24383 (24K) [image/jpeg]\n",
      "Saving to: ‘destructed3.jpg’\n",
      "\n",
      "destructed3.jpg     100%[===================>]  23.81K  --.-KB/s    in 0.002s  \n",
      "\n",
      "2023-01-11 09:57:08 (12.2 MB/s) - ‘destructed3.jpg’ saved [24383/24383]\n",
      "\n"
     ]
    },
    {
     "data": {
      "image/png": "[encoded data removed]",
      "text/plain": [
       "<PIL.JpegImagePlugin.JpegImageFile image mode=RGB size=181x181 at 0x7FEFD28C8310>"
      ]
     },
     "execution_count": 24,
     "metadata": {},
     "output_type": "execute_result"
    }
   ],
   "source": [
    "!wget -O destructed3.jpg  https://ibm.box.com/shared/static/vvm1b63uvuxq88vbw9znpwu5ol380mco.jpg\n",
    "img = Image.open('destructed3.jpg')\n",
    "img"
   ]
  },
  {
   "cell_type": "markdown",
   "metadata": {},
   "source": [
    "Now let's pass this image through the neural net:\n"
   ]
  },
  {
   "cell_type": "code",
   "execution_count": 25,
   "metadata": {},
   "outputs": [],
   "source": [
    "# convert the image to a 1d numpy array\n",
    "sample_case = np.array(img.convert('I').resize((28,28))).ravel().reshape((1, -1))/255.0\n",
    "\n",
    "sample_case = tf.cast(sample_case, dtype=tf.float32)"
   ]
  },
  {
   "cell_type": "markdown",
   "metadata": {},
   "source": [
    "Feed the sample case into the network and reconstruct the output:\n"
   ]
  },
  {
   "cell_type": "code",
   "execution_count": 26,
   "metadata": {
    "collapsed": true,
    "jupyter": {
     "outputs_hidden": true
    },
    "tags": []
   },
   "outputs": [
    {
     "name": "stdout",
     "output_type": "stream",
     "text": [
      "Probability nodes in hidden layer: tf.Tensor(\n",
      "[[1.79947913e-02 7.88230778e-08 9.23529148e-01 1.86228054e-14\n",
      "  5.65231979e-01 5.63349204e-07 8.40994266e-13 3.97502482e-02\n",
      "  2.63902891e-08 3.08883190e-03 1.00000000e+00 1.00000000e+00\n",
      "  3.12212110e-03 1.98847143e-08 9.99998331e-01 2.21073627e-03\n",
      "  5.67341667e-05 8.99007618e-02 8.81337404e-01 6.42375526e-05\n",
      "  9.99877930e-01 1.93566517e-13 1.96633337e-07 4.69064898e-10\n",
      "  1.01759613e-01 1.08362287e-13 2.12203449e-10 2.15338171e-02\n",
      "  9.99349952e-01 2.20406946e-05 9.45875764e-01 7.29253602e-10\n",
      "  2.93179303e-01 6.19732589e-07 3.05138371e-07 9.99428391e-01\n",
      "  1.63958269e-08 2.06110640e-09 2.57410114e-13 1.00000000e+00\n",
      "  2.02635101e-06 7.28939891e-01 9.99997139e-01 2.35604450e-13\n",
      "  9.99999404e-01 9.22679365e-01 1.00000000e+00 1.01864114e-10\n",
      "  1.00000000e+00 9.99969363e-01]], shape=(1, 50), dtype=float32)\n",
      "activated nodes in hidden layer: tf.Tensor(\n",
      "[[0. 0. 1. 0. 1. 0. 0. 0. 0. 0. 1. 1. 0. 0. 1. 0. 0. 0. 1. 0. 1. 0. 0. 0.\n",
      "  0. 0. 0. 0. 1. 0. 1. 0. 0. 0. 0. 1. 0. 0. 0. 1. 0. 1. 1. 0. 1. 1. 1. 0.\n",
      "  1. 1.]], shape=(1, 50), dtype=float32)\n",
      "tf.Tensor(\n",
      "[[1.44243240e-04 2.57641077e-04 1.69366598e-04 3.24308872e-04\n",
      "  2.10970640e-04 2.00629234e-04 1.89036131e-04 1.83373690e-04\n",
      "  1.59472227e-04 2.06768513e-04 2.00629234e-04 1.50203705e-04\n",
      "  1.72615051e-04 1.43945217e-04 2.32607126e-04 1.37627125e-04\n",
      "  1.94698572e-04 3.27497721e-04 2.50071287e-04 2.35557556e-04\n",
      "  1.35898590e-04 2.68161297e-04 1.50203705e-04 1.79827213e-04\n",
      "  2.81959772e-04 1.54763460e-04 1.85310841e-04 1.61021948e-04\n",
      "  1.42812729e-04 1.57833099e-04 2.28494406e-04 1.48653984e-04\n",
      "  1.61856413e-04 1.14222414e-04 1.78754330e-04 1.13788825e-04\n",
      "  1.65253878e-04 2.97039747e-04 2.85029411e-04 4.03076410e-04\n",
      "  5.25891781e-04 4.48197126e-04 4.35531139e-04 3.03030014e-04\n",
      "  4.33385372e-04 3.74555588e-04 2.68757343e-04 4.10884619e-04\n",
      "  2.48581171e-04 2.19523907e-04 1.39504671e-04 1.08243490e-04\n",
      "  1.61021948e-04 1.64359808e-04 2.08854675e-04 1.47163868e-04\n",
      "  1.65939331e-04 2.65508890e-04 1.59859657e-04 1.93387270e-04\n",
      "  1.97589397e-04 3.38226557e-04 2.60382891e-04 2.23875046e-04\n",
      "  3.10122967e-04 2.15709209e-04 2.63750553e-04 2.14129686e-04\n",
      "  1.40100718e-04 1.26898289e-04 9.78633616e-05 1.39862299e-04\n",
      "  9.74917712e-05 8.85781774e-05 6.30373324e-05 4.90876700e-05\n",
      "  9.55867799e-05 2.15053558e-04 2.94387341e-04 2.57402658e-04\n",
      "  1.90377235e-04 2.31295824e-04 2.10911036e-04 2.13176012e-04\n",
      "  1.96754932e-04 1.87128782e-04 1.07541237e-04 1.85281038e-04\n",
      "  1.87039375e-04 3.04460526e-04 2.58147717e-04 3.66210938e-04\n",
      "  2.10702419e-04 1.55597925e-04 1.06409949e-04 8.49450807e-05\n",
      "  6.97517462e-05 1.58905983e-04 2.32428312e-04 5.84125519e-04\n",
      "  1.01196766e-03 8.23944807e-04 5.98698854e-04 3.96907330e-04\n",
      "  4.03821468e-04 1.90973282e-04 2.71081924e-04 3.11195850e-04\n",
      "  3.49313021e-04 2.78294086e-04 2.37852335e-04 1.20522163e-04\n",
      "  1.81674957e-04 1.62363052e-04 1.74909830e-04 3.41951847e-04\n",
      "  2.60710716e-04 7.64071941e-04 3.25769186e-04 5.83082438e-04\n",
      "  2.26229429e-04 3.21567059e-04 2.92390585e-04 3.40729952e-04\n",
      "  2.06679106e-04 7.63863325e-04 4.99933958e-04 7.80788064e-03\n",
      "  4.52339649e-03 1.04892850e-02 1.61719322e-02 5.89269400e-03\n",
      "  5.00920415e-03 2.76952982e-03 8.13242793e-03 6.14938140e-03\n",
      "  2.15825438e-03 6.74962997e-04 3.29017639e-04 2.03281641e-04\n",
      "  2.87711620e-04 2.30818987e-04 2.88426876e-04 3.51876020e-04\n",
      "  1.19540095e-03 8.25911760e-04 2.50822306e-03 3.17114592e-03\n",
      "  4.66844440e-03 4.30318713e-03 9.05454159e-03 3.65332365e-02\n",
      "  4.11467850e-02 1.06985688e-01 1.45720571e-01 3.80046666e-01\n",
      "  4.53097522e-01 4.89856273e-01 3.46643507e-01 3.56258124e-01\n",
      "  1.27898961e-01 1.11258954e-01 9.46258605e-02 5.67385554e-02\n",
      "  1.34449601e-02 2.38397717e-03 1.11684203e-03 2.14964151e-04\n",
      "  2.00659037e-04 2.09987164e-04 3.07023525e-04 8.21948051e-04\n",
      "  1.91211700e-03 5.15991449e-03 1.26350522e-02 1.03047788e-02\n",
      "  1.45656466e-02 2.00085640e-02 9.91103053e-02 2.59521544e-01\n",
      "  6.80080414e-01 8.51114511e-01 8.37202311e-01 9.42082465e-01\n",
      "  8.44408989e-01 8.63304615e-01 8.29117775e-01 8.65381956e-01\n",
      "  7.91690469e-01 6.24609828e-01 5.33729494e-01 1.56269521e-01\n",
      "  3.69553566e-02 5.63764572e-03 2.62045860e-03 2.48432159e-04\n",
      "  1.82121992e-04 2.29775906e-04 4.68581915e-04 1.21948123e-03\n",
      "  3.85636091e-03 8.97008181e-03 1.13761127e-02 1.41162574e-02\n",
      "  3.07105482e-02 1.63632125e-01 3.70144099e-01 6.48519278e-01\n",
      "  9.12662148e-01 9.33351636e-01 9.56412077e-01 9.40446258e-01\n",
      "  8.28130424e-01 7.01115251e-01 5.85380018e-01 7.64735281e-01\n",
      "  9.02875960e-01 8.21333408e-01 6.01854384e-01 1.18551731e-01\n",
      "  1.30400062e-02 2.05802917e-03 7.05897808e-04 1.86771154e-04\n",
      "  1.70558691e-04 3.64392996e-04 6.04063272e-04 1.35645270e-03\n",
      "  4.27937508e-03 5.21269441e-03 8.18431377e-03 1.12827420e-02\n",
      "  6.55994415e-02 1.75397128e-01 7.84802675e-01 9.17261243e-01\n",
      "  9.39994037e-01 8.46453667e-01 5.66666365e-01 2.76447833e-01\n",
      "  1.53068691e-01 1.23454720e-01 2.92931557e-01 7.32536376e-01\n",
      "  8.74844909e-01 7.66371131e-01 4.47288007e-01 7.07510412e-02\n",
      "  6.12846017e-03 1.47473812e-03 8.50081444e-04 1.79499388e-04\n",
      "  1.46478415e-04 2.12669373e-04 4.83244658e-04 1.00973248e-03\n",
      "  2.89884210e-03 3.17192078e-03 5.95545769e-03 1.07415915e-02\n",
      "  3.43498886e-02 1.69495523e-01 5.09485245e-01 7.33704805e-01\n",
      "  5.23854315e-01 1.19266480e-01 1.27246082e-02 5.49897552e-03\n",
      "  1.31322742e-02 6.16570711e-02 3.13938379e-01 5.83559871e-01\n",
      "  8.59795690e-01 8.58796537e-01 3.30341101e-01 2.26781368e-02\n",
      "  3.66109610e-03 1.28558278e-03 5.20974398e-04 2.61068344e-04\n",
      "  1.69724226e-04 4.40269709e-04 5.99086285e-04 1.12861395e-03\n",
      "  1.44439936e-03 2.43696570e-03 2.22495198e-03 3.71539593e-03\n",
      "  1.12534165e-02 9.92830098e-02 3.21232080e-01 2.04280794e-01\n",
      "  3.45700979e-02 2.21359730e-03 1.46007538e-03 5.90035319e-03\n",
      "  5.15108109e-02 3.62034440e-01 7.64222264e-01 8.78435493e-01\n",
      "  9.11314785e-01 7.35124350e-01 1.45841271e-01 1.64871216e-02\n",
      "  1.43724680e-03 5.81383705e-04 6.40034676e-04 2.14666128e-04\n",
      "  1.51306391e-04 3.73154879e-04 5.91635704e-04 6.82711601e-04\n",
      "  1.15355849e-03 3.40154767e-03 3.91793251e-03 4.77650762e-03\n",
      "  9.64924693e-03 6.02381527e-02 7.37783313e-02 1.27646476e-01\n",
      "  7.64211416e-02 1.93151236e-02 1.82260871e-02 1.23927146e-01\n",
      "  4.33477461e-01 7.88025022e-01 8.74173701e-01 8.63585591e-01\n",
      "  7.02788472e-01 3.37554336e-01 3.16276848e-02 3.80995870e-03\n",
      "  1.10352039e-03 8.10861588e-04 3.73125076e-04 1.51783228e-04\n",
      "  1.97678804e-04 1.59949064e-04 4.67449427e-04 3.91662121e-04\n",
      "  1.09890103e-03 3.73297930e-03 8.20985436e-03 6.28522038e-03\n",
      "  9.44247842e-03 3.64001989e-02 1.34612501e-01 2.62255549e-01\n",
      "  4.39762294e-01 5.78803301e-01 6.34492517e-01 8.04575920e-01\n",
      "  8.81189823e-01 7.34258413e-01 7.65331268e-01 5.82205117e-01\n",
      "  3.94825071e-01 9.05863345e-02 7.54722953e-03 8.48770142e-04\n",
      "  3.00437212e-04 6.93857670e-04 2.02357769e-04 1.82896852e-04\n",
      "  2.43276358e-04 2.28703022e-04 2.86370516e-04 8.67247581e-04\n",
      "  2.23428011e-03 6.18961453e-03 1.37555599e-02 1.14266872e-02\n",
      "  1.22830868e-02 6.68732226e-02 1.37889534e-01 6.36937857e-01\n",
      "  9.30780888e-01 9.69400465e-01 9.56877589e-01 9.65497136e-01\n",
      "  8.87897849e-01 7.75716722e-01 4.58791047e-01 2.54424304e-01\n",
      "  1.42065227e-01 1.64395273e-02 3.34382057e-03 4.92155552e-04\n",
      "  1.28000975e-04 7.07596540e-04 2.56508589e-04 2.21103430e-04\n",
      "  2.45541334e-04 1.56909227e-04 2.24679708e-04 1.18479133e-03\n",
      "  1.59400702e-03 9.19497013e-03 5.05751371e-03 7.54764676e-03\n",
      "  6.86740875e-03 2.68743932e-02 1.36197478e-01 6.27736926e-01\n",
      "  9.26622391e-01 9.51565504e-01 9.19424653e-01 8.24366927e-01\n",
      "  5.99288344e-01 7.13484526e-01 5.22518218e-01 1.79993510e-01\n",
      "  2.87166834e-02 9.30076838e-03 1.35120749e-03 2.29954720e-04\n",
      "  1.42246485e-04 3.81559134e-04 3.50236893e-04 1.81347132e-04\n",
      "  2.18063593e-04 1.72346830e-04 3.35901976e-04 1.07046962e-03\n",
      "  3.88786197e-03 4.11576033e-03 7.49456882e-03 7.89883733e-03\n",
      "  6.15894794e-03 1.55308247e-02 6.61231279e-02 4.03865695e-01\n",
      "  6.55307829e-01 7.46128201e-01 4.21182215e-01 3.09679747e-01\n",
      "  1.79124147e-01 6.59864843e-01 3.73539090e-01 1.81440413e-01\n",
      "  6.54581189e-03 1.90842152e-03 1.14867091e-03 1.62154436e-04\n",
      "  1.50799751e-04 1.81764364e-04 1.51991844e-04 2.63929367e-04\n",
      "  3.22848558e-04 1.64121389e-04 5.01930714e-04 4.67354059e-03\n",
      "  1.48482323e-02 8.23384523e-03 1.03062987e-02 5.49709797e-03\n",
      "  3.46770883e-03 5.52916527e-03 3.04921865e-02 4.04872000e-02\n",
      "  8.66186023e-02 1.09567612e-01 1.67657733e-02 7.01069236e-02\n",
      "  2.11678028e-01 5.45548558e-01 5.84907711e-01 1.03374332e-01\n",
      "  1.17833614e-02 1.01971626e-03 9.89407301e-04 2.93880701e-04\n",
      "  1.17339529e-04 1.26719475e-04 2.92450190e-04 1.85608864e-04\n",
      "  1.54733658e-04 1.70618296e-04 8.66055489e-04 9.78669524e-03\n",
      "  1.58385038e-02 2.29398906e-02 1.17498636e-02 4.44063544e-03\n",
      "  2.06044316e-03 2.94291973e-03 1.10275745e-02 2.20842361e-02\n",
      "  1.49468184e-02 7.22289085e-03 2.13628113e-02 9.29637849e-02\n",
      "  3.55030745e-01 6.96405947e-01 7.20318854e-01 1.33839399e-01\n",
      "  1.97526813e-02 5.85356355e-03 2.05537677e-03 4.57078218e-04\n",
      "  2.38358974e-04 1.90526247e-04 2.85685062e-04 2.08079815e-04\n",
      "  2.21610069e-04 3.56465578e-04 1.43307447e-03 1.63985193e-02\n",
      "  6.02456629e-02 4.13101315e-02 3.38925123e-02 1.05955601e-02\n",
      "  2.93964148e-03 8.35618377e-03 7.79262185e-03 1.31198764e-02\n",
      "  1.80737078e-02 8.62038136e-03 4.55616415e-02 1.12405658e-01\n",
      "  3.51445556e-01 9.14461970e-01 8.22385788e-01 2.83240348e-01\n",
      "  2.00491548e-02 9.69836116e-03 2.28661299e-03 7.18474388e-04\n",
      "  4.15593386e-04 2.59488821e-04 3.69608402e-04 2.33680010e-04\n",
      "  1.88380480e-04 2.38984823e-04 3.41308117e-03 6.24757707e-02\n",
      "  1.97495759e-01 1.84644759e-01 2.10392684e-01 5.35298884e-02\n",
      "  2.02591121e-02 3.25989723e-02 5.38940728e-02 3.99014056e-02\n",
      "  3.97334695e-02 3.09756100e-02 2.09652781e-02 1.43507004e-01\n",
      "  7.33127296e-01 8.83037567e-01 7.82280326e-01 2.39696711e-01\n",
      "  4.56176400e-02 3.14989686e-03 9.45538282e-04 9.28580761e-04\n",
      "  5.12033701e-04 2.26974487e-04 2.24292278e-04 2.98202038e-04\n",
      "  1.76310539e-04 4.10407782e-04 6.32461905e-03 1.41033411e-01\n",
      "  3.04879218e-01 2.61938930e-01 4.74846035e-01 3.11805010e-01\n",
      "  3.12770784e-01 5.19167185e-02 7.14839697e-02 7.35000372e-02\n",
      "  9.69985723e-02 3.55725884e-02 3.46266627e-02 2.35573769e-01\n",
      "  7.53556609e-01 9.20885742e-01 6.85065806e-01 1.19517446e-01\n",
      "  8.77988338e-03 2.16376781e-03 8.91745090e-04 6.58839941e-04\n",
      "  4.24683094e-04 4.76717949e-04 2.87264585e-04 1.59680843e-04\n",
      "  3.35007906e-04 2.29179859e-04 3.67954373e-03 2.08164185e-01\n",
      "  3.37808281e-01 5.05555451e-01 7.11498976e-01 6.33604169e-01\n",
      "  5.26121914e-01 1.52096212e-01 1.24677479e-01 9.79143381e-02\n",
      "  1.49285257e-01 1.45322502e-01 1.47485673e-01 3.87694508e-01\n",
      "  8.70074213e-01 9.01008904e-01 3.37587118e-01 5.58071733e-02\n",
      "  2.09116936e-03 8.17149878e-04 7.34478235e-04 3.99231911e-04\n",
      "  6.67631626e-04 5.05447388e-04 2.55316496e-04 1.43557787e-04\n",
      "  2.35974789e-04 1.34408474e-04 1.85233355e-03 4.37049866e-02\n",
      "  2.46524930e-01 4.82200742e-01 7.14179218e-01 7.60452449e-01\n",
      "  7.46081412e-01 5.11021256e-01 3.39864016e-01 3.89232934e-01\n",
      "  3.56535286e-01 3.86437416e-01 5.74370205e-01 7.23346591e-01\n",
      "  7.85124302e-01 4.99159575e-01 5.03928959e-02 4.91610169e-03\n",
      "  1.59758329e-03 1.41504407e-03 1.59499049e-03 6.95466995e-04\n",
      "  4.17083502e-04 3.46392393e-04 1.78366899e-04 2.44706869e-04\n",
      "  2.33143568e-04 1.76221132e-04 5.59270382e-04 1.02665424e-02\n",
      "  1.29692286e-01 5.62973797e-01 6.67215228e-01 8.79960179e-01\n",
      "  7.68245935e-01 7.94269919e-01 8.44723105e-01 7.98408091e-01\n",
      "  7.05461740e-01 5.94623029e-01 5.39644003e-01 3.55803549e-01\n",
      "  2.78783798e-01 9.67914760e-02 1.23029351e-02 6.72277808e-03\n",
      "  3.50260735e-03 9.06825066e-04 9.64492559e-04 7.22795725e-04\n",
      "  8.67187977e-04 2.85416842e-04 4.04477119e-04 2.90513039e-04\n",
      "  1.79827213e-04 2.73585320e-04 2.16901302e-04 1.29646063e-03\n",
      "  1.34753883e-02 1.44648582e-01 3.88180763e-01 5.45837879e-01\n",
      "  6.94638968e-01 8.63894522e-01 8.02938282e-01 7.20524669e-01\n",
      "  6.46632731e-01 3.48697782e-01 2.37193018e-01 1.27686828e-01\n",
      "  7.72878230e-02 2.67492831e-02 1.12212896e-02 4.07838821e-03\n",
      "  1.52164698e-03 7.11530447e-04 8.16762447e-04 5.56379557e-04\n",
      "  3.73989344e-04 2.41994858e-04 2.34752893e-04 2.47567892e-04\n",
      "  2.52574682e-04 2.08854675e-04 2.40057707e-04 2.11566687e-04\n",
      "  3.66091728e-04 1.85006857e-03 8.66299868e-03 3.31915617e-02\n",
      "  5.65320253e-02 6.76309168e-02 2.56112218e-02 6.07163012e-02\n",
      "  2.89687216e-02 2.48477757e-02 8.11025500e-03 1.02794468e-02\n",
      "  1.94058120e-02 7.06759095e-03 1.99300051e-03 1.09604001e-03\n",
      "  3.80575657e-04 3.62217426e-04 6.72459602e-04 2.75105238e-04\n",
      "  2.95400620e-04 2.39998102e-04 1.83612108e-04 1.96754932e-04\n",
      "  1.06893582e-04 1.92821026e-04 1.87128782e-04 1.65849924e-04\n",
      "  1.85608864e-04 7.57217407e-04 1.07693672e-03 7.07119703e-04\n",
      "  6.07043505e-04 6.10381365e-04 7.18265772e-04 8.99881124e-04\n",
      "  6.52462244e-04 2.79784203e-04 3.36527824e-04 4.87864017e-04\n",
      "  3.71724367e-04 6.48617744e-04 2.71141529e-04 9.21785831e-04\n",
      "  4.50611115e-04 4.12851572e-04 2.42263079e-04 1.83939934e-04\n",
      "  2.67267227e-04 2.69830227e-04 1.85251236e-04 3.08454037e-04\n",
      "  1.87128782e-04 1.81674957e-04 2.15142965e-04 1.57833099e-04\n",
      "  1.98513269e-04 1.52647495e-04 2.48938799e-04 4.86612320e-04\n",
      "  3.33100557e-04 5.16355038e-04 4.64856625e-04 1.69575214e-04\n",
      "  2.06828117e-04 2.85655260e-04 2.68906355e-04 1.60604715e-04\n",
      "  4.50193882e-04 5.01543283e-04 3.19540501e-04 2.91675329e-04\n",
      "  1.71512365e-04 1.95592642e-04 1.94430351e-04 1.88201666e-04\n",
      "  2.62886286e-04 2.00629234e-04 7.45771467e-05 1.48653984e-04]], shape=(1, 784), dtype=float32)\n"
     ]
    }
   ],
   "source": [
    "hh0_p = tf.nn.sigmoid(tf.matmul(sample_case, W) + hb)\n",
    "hh0_s = tf.round(hh0_p)\n",
    "\n",
    "print(\"Probability nodes in hidden layer:\" ,hh0_p)\n",
    "print(\"activated nodes in hidden layer:\" ,hh0_s)\n",
    "\n",
    "# reconstruct\n",
    "vv1_p = tf.nn.sigmoid(tf.matmul(hh0_s, tf.transpose(W)) + vb)\n",
    "\n",
    "print(vv1_p)\n",
    "#rec_prob = sess.run(vv1_p, feed_dict={ hh0_s: hh0_s_val, W: prv_w, vb: prv_vb})"
   ]
  },
  {
   "cell_type": "markdown",
   "metadata": {},
   "source": [
    "Here we plot the reconstructed image:\n"
   ]
  },
  {
   "cell_type": "code",
   "execution_count": 27,
   "metadata": {},
   "outputs": [
    {
     "data": {
      "image/png": "[encoded data removed]",
      "text/plain": [
       "<Figure size 400x400 with 1 Axes>"
      ]
     },
     "metadata": {},
     "output_type": "display_data"
    }
   ],
   "source": [
    "img = Image.fromarray(tile_raster_images(X=vv1_p.numpy(), img_shape=(28, 28),tile_shape=(1, 1), tile_spacing=(1, 1)))\n",
    "plt.rcParams['figure.figsize'] = (4.0, 4.0)\n",
    "imgplot = plt.imshow(img)\n",
    "imgplot.set_cmap('gray') "
   ]
  },
  {
   "cell_type": "markdown",
   "metadata": {},
   "source": [
    "<hr>\n",
    "\n",
    "## Want to learn more?\n",
    "\n",
    "Also, you can use __Watson Studio__ to run these notebooks faster with bigger datasets.__Watson Studio__ is IBM’s leading cloud solution for data scientists, built by data scientists. With Jupyter notebooks, RStudio, Apache Spark and popular libraries pre-packaged in the cloud, __Watson Studio__ enables data scientists to collaborate on their projects without having to install anything. Join the fast-growing community of __Watson Studio__ users today with a free account at [Watson Studio](https://cocl.us/ML0120EN_DSX).This is the end of this lesson. Thank you for reading this notebook, and good luck on your studies.\n"
   ]
  },
  {
   "cell_type": "markdown",
   "metadata": {},
   "source": [
    "### Thanks for completing this lesson!\n",
    "\n",
    "Notebook created by: <a href = \"https://ca.linkedin.com/in/saeedaghabozorgi?utm_medium=Exinfluencer&utm_source=Exinfluencer&utm_content=000026UJ&utm_term=10006555&utm_id=NA-SkillsNetwork-Channel-SkillsNetworkCoursesIBMDeveloperSkillsNetworkDL0120ENSkillsNetwork954-2022-01-01\">Saeed Aghabozorgi</a>\n",
    "\n",
    "Updated to TF 2.X by  <a href=\"https://ca.linkedin.com/in/nilmeier?utm_medium=Exinfluencer&utm_source=Exinfluencer&utm_content=000026UJ&utm_term=10006555&utm_id=NA-SkillsNetwork-Channel-SkillsNetworkCoursesIBMDeveloperSkillsNetworkDL0120ENSkillsNetwork954-2022-01-01\"> Jerome Nilmeier</a><br />\n"
   ]
  },
  {
   "cell_type": "markdown",
   "metadata": {},
   "source": [
    "### References:\n",
    "https://en.wikipedia.org/wiki/Restricted_Boltzmann_machine  \n",
    "http://deeplearning.net/tutorial/rbm.html  \n",
    "http://www.cs.utoronto.ca/~hinton/absps/netflixICML.pdf<br>\n",
    "http://imonad.com/rbm/restricted-boltzmann-machine/  \n"
   ]
  },
  {
   "cell_type": "markdown",
   "metadata": {},
   "source": [
    "<hr>\n",
    "\n",
    "Copyright &copy; 2018 [Cognitive Class](https://cocl.us/DX0108EN_CC). This notebook and its source code are released under the terms of the [MIT License](https://bigdatauniversity.com/mit-license/?utm_medium=Exinfluencer&utm_source=Exinfluencer&utm_content=000026UJ&utm_term=10006555&utm_id=NA-SkillsNetwork-Channel-SkillsNetworkCoursesIBMDeveloperSkillsNetworkDL0120ENSkillsNetwork954-2022-01-01).\n"
   ]
  }
 ],
 "metadata": {
  "kernelspec": {
   "display_name": "Python",
   "language": "python",
   "name": "conda-env-python-py"
  },
  "language_info": {
   "codemirror_mode": {
    "name": "ipython",
    "version": 3
   },
   "file_extension": ".py",
   "mimetype": "text/x-python",
   "name": "python",
   "nbconvert_exporter": "python",
   "pygments_lexer": "ipython3",
   "version": "3.7.12"
  }
 },
 "nbformat": 4,
 "nbformat_minor": 4
}
