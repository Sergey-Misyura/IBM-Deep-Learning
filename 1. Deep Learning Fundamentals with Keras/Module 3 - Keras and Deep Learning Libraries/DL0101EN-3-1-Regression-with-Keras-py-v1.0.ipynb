{
 "cells": [
  {
   "cell_type": "markdown",
   "metadata": {
    "button": false,
    "deletable": true,
    "new_sheet": false,
    "run_control": {
     "read_only": false
    }
   },
   "source": [
    "<a href=\"https://cognitiveclass.ai/?utm_medium=Exinfluencer&utm_source=Exinfluencer&utm_content=000026UJ&utm_term=10006555&utm_id=NA-SkillsNetwork-Channel-SkillsNetworkCoursesIBMDeveloperSkillsNetworkDL0101ENSkillsNetwork20718188-2022-01-01\"><img src = \"https://s3-api.us-geo.objectstorage.softlayer.net/cf-courses-data/CognitiveClass/Logos/organization_logo/organization_logo.png\" width = 400> </a>\n",
    "\n",
    "<h1 align=center><font size = 5>Regression Models with Keras</font></h1>\n"
   ]
  },
  {
   "cell_type": "markdown",
   "metadata": {
    "button": false,
    "deletable": true,
    "new_sheet": false,
    "run_control": {
     "read_only": false
    }
   },
   "source": [
    "## Introduction\n"
   ]
  },
  {
   "cell_type": "markdown",
   "metadata": {
    "button": false,
    "deletable": true,
    "new_sheet": false,
    "run_control": {
     "read_only": false
    }
   },
   "source": [
    "As we discussed in the videos, despite the popularity of more powerful libraries such as PyToch and TensorFlow, they are not easy to use and have a steep learning curve. So, for people who are just starting to learn deep learning, there is no better library to use other than the Keras library.\n",
    "\n",
    "Keras is a high-level API for building deep learning models. It has gained favor for its ease of use and syntactic simplicity facilitating fast development. As you will see in this lab and the other labs in this course, building a very complex deep learning network can be achieved with Keras with only few lines of code. You will appreciate Keras even more, once you learn how to build deep models using PyTorch and TensorFlow in the other courses.\n",
    "\n",
    "So, in this lab, you will learn how to use the Keras library to build a regression model.\n"
   ]
  },
  {
   "cell_type": "markdown",
   "metadata": {},
   "source": [
    "<h2>Regression Models with Keras</h2>\n",
    "\n",
    "<h3>Objective for this Notebook<h3>    \n",
    "<h5> 1. How to use the Keras library to build a regression model.</h5>\n",
    "<h5> 2. Download and Clean dataset </h5>\n",
    "<h5> 3. Build a Neural Network </h5>\n",
    "<h5> 4. Train and Test the Network. </h5>     \n"
   ]
  },
  {
   "cell_type": "markdown",
   "metadata": {
    "button": false,
    "deletable": true,
    "new_sheet": false,
    "run_control": {
     "read_only": false
    }
   },
   "source": [
    "## Table of Contents\n",
    "\n",
    "<div class=\"alert alert-block alert-info\" style=\"margin-top: 20px\">\n",
    "\n",
    "<font size = 3>\n",
    "\n",
    "1.  <a href=\"https://#item31\">Download and Clean Dataset</a>\n",
    "2.  <a href=\"https://#item32\">Import Keras</a>\n",
    "3.  <a href=\"https://#item33\">Build a Neural Network</a>\n",
    "4.  <a href=\"https://#item34\">Train and Test the Network</a>\n",
    "\n",
    "</font>\n",
    "</div>\n"
   ]
  },
  {
   "cell_type": "markdown",
   "metadata": {
    "button": false,
    "deletable": true,
    "new_sheet": false,
    "run_control": {
     "read_only": false
    }
   },
   "source": [
    "<a id=\"item31\"></a>\n"
   ]
  },
  {
   "cell_type": "markdown",
   "metadata": {
    "button": false,
    "deletable": true,
    "new_sheet": false,
    "run_control": {
     "read_only": false
    }
   },
   "source": [
    "## Download and Clean Dataset\n"
   ]
  },
  {
   "cell_type": "markdown",
   "metadata": {
    "button": false,
    "deletable": true,
    "new_sheet": false,
    "run_control": {
     "read_only": false
    }
   },
   "source": [
    "Let's start by importing the <em>pandas</em> and the Numpy libraries.\n"
   ]
  },
  {
   "cell_type": "code",
   "execution_count": null,
   "metadata": {},
   "outputs": [],
   "source": [
    "# All Libraries required for this lab are listed below. The libraries pre-installed on Skills Network Labs are commented. \n",
    "# If you run this notebook on a different environment, e.g. your desktop, you may need to uncomment and install certain libraries.\n",
    "\n",
    "#!pip install numpy==1.21.4\n",
    "#!pip install pandas==1.3.4\n",
    "#!pip install keras==2.1.6"
   ]
  },
  {
   "cell_type": "code",
   "execution_count": 1,
   "metadata": {
    "button": false,
    "deletable": true,
    "new_sheet": false,
    "run_control": {
     "read_only": false
    }
   },
   "outputs": [],
   "source": [
    "import pandas as pd\n",
    "import numpy as np"
   ]
  },
  {
   "cell_type": "markdown",
   "metadata": {
    "button": false,
    "deletable": true,
    "new_sheet": false,
    "run_control": {
     "read_only": false
    }
   },
   "source": [
    "We will be playing around with the same dataset that we used in the videos.\n",
    "\n",
    "<strong>The dataset is about the compressive strength of different samples of concrete based on the volumes of the different ingredients that were used to make them. Ingredients include:</strong>\n",
    "\n",
    "<strong>1. Cement</strong>\n",
    "\n",
    "<strong>2. Blast Furnace Slag</strong>\n",
    "\n",
    "<strong>3. Fly Ash</strong>\n",
    "\n",
    "<strong>4. Water</strong>\n",
    "\n",
    "<strong>5. Superplasticizer</strong>\n",
    "\n",
    "<strong>6. Coarse Aggregate</strong>\n",
    "\n",
    "<strong>7. Fine Aggregate</strong>\n"
   ]
  },
  {
   "cell_type": "markdown",
   "metadata": {
    "button": false,
    "deletable": true,
    "new_sheet": false,
    "run_control": {
     "read_only": false
    }
   },
   "source": [
    "Let's download the data and read it into a <em>pandas</em> dataframe.\n"
   ]
  },
  {
   "cell_type": "code",
   "execution_count": 2,
   "metadata": {
    "button": false,
    "deletable": true,
    "new_sheet": false,
    "run_control": {
     "read_only": false
    }
   },
   "outputs": [],
   "source": [
    "concrete_data = pd.read_csv('https://s3-api.us-geo.objectstorage.softlayer.net/cf-courses-data/CognitiveClass/DL0101EN/labs/data/concrete_data.csv')\n",
    "concrete_data.head()"
   ]
  },
  {
   "cell_type": "markdown",
   "metadata": {
    "button": false,
    "deletable": true,
    "new_sheet": false,
    "run_control": {
     "read_only": false
    }
   },
   "source": [
    "So the first concrete sample has 540 cubic meter of cement, 0 cubic meter of blast furnace slag, 0 cubic meter of fly ash, 162 cubic meter of water, 2.5 cubic meter of superplaticizer, 1040 cubic meter of coarse aggregate, 676 cubic meter of fine aggregate. Such a concrete mix which is 28 days old, has a compressive strength of 79.99 MPa.\n"
   ]
  },
  {
   "cell_type": "markdown",
   "metadata": {
    "button": false,
    "deletable": true,
    "new_sheet": false,
    "run_control": {
     "read_only": false
    }
   },
   "source": [
    "#### Let's check how many data points we have.\n"
   ]
  },
  {
   "cell_type": "code",
   "execution_count": 3,
   "metadata": {
    "button": false,
    "deletable": true,
    "new_sheet": false,
    "run_control": {
     "read_only": false
    }
   },
   "outputs": [],
   "source": [
    "concrete_data.shape"
   ]
  },
  {
   "cell_type": "markdown",
   "metadata": {
    "button": false,
    "deletable": true,
    "new_sheet": false,
    "run_control": {
     "read_only": false
    }
   },
   "source": [
    "So, there are approximately 1000 samples to train our model on. Because of the few samples, we have to be careful not to overfit the training data.\n"
   ]
  },
  {
   "cell_type": "markdown",
   "metadata": {
    "button": false,
    "deletable": true,
    "new_sheet": false,
    "run_control": {
     "read_only": false
    }
   },
   "source": [
    "Let's check the dataset for any missing values.\n"
   ]
  },
  {
   "cell_type": "code",
   "execution_count": 4,
   "metadata": {
    "button": false,
    "deletable": true,
    "new_sheet": false,
    "run_control": {
     "read_only": false
    }
   },
   "outputs": [],
   "source": [
    "concrete_data.describe()"
   ]
  },
  {
   "cell_type": "code",
   "execution_count": 5,
   "metadata": {
    "button": false,
    "deletable": true,
    "new_sheet": false,
    "run_control": {
     "read_only": false
    }
   },
   "outputs": [],
   "source": [
    "concrete_data.isnull().sum()"
   ]
  },
  {
   "cell_type": "markdown",
   "metadata": {
    "button": false,
    "deletable": true,
    "new_sheet": false,
    "run_control": {
     "read_only": false
    }
   },
   "source": [
    "The data looks very clean and is ready to be used to build our model.\n"
   ]
  },
  {
   "cell_type": "markdown",
   "metadata": {
    "button": false,
    "deletable": true,
    "new_sheet": false,
    "run_control": {
     "read_only": false
    }
   },
   "source": [
    "#### Split data into predictors and target\n"
   ]
  },
  {
   "cell_type": "markdown",
   "metadata": {},
   "source": [
    "The target variable in this problem is the concrete sample strength. Therefore, our predictors will be all the other columns.\n"
   ]
  },
  {
   "cell_type": "code",
   "execution_count": 6,
   "metadata": {
    "button": false,
    "deletable": true,
    "new_sheet": false,
    "run_control": {
     "read_only": false
    }
   },
   "outputs": [],
   "source": [
    "concrete_data_columns = concrete_data.columns\n",
    "\n",
    "predictors = concrete_data[concrete_data_columns[concrete_data_columns != 'Strength']] # all columns except Strength\n",
    "target = concrete_data['Strength'] # Strength column"
   ]
  },
  {
   "cell_type": "markdown",
   "metadata": {
    "button": false,
    "deletable": true,
    "new_sheet": false,
    "run_control": {
     "read_only": false
    }
   },
   "source": [
    "<a id=\"item2\"></a>\n"
   ]
  },
  {
   "cell_type": "markdown",
   "metadata": {
    "button": false,
    "deletable": true,
    "new_sheet": false,
    "run_control": {
     "read_only": false
    }
   },
   "source": [
    "Let's do a quick sanity check of the predictors and the target dataframes.\n"
   ]
  },
  {
   "cell_type": "code",
   "execution_count": 7,
   "metadata": {
    "button": false,
    "deletable": true,
    "new_sheet": false,
    "run_control": {
     "read_only": false
    }
   },
   "outputs": [],
   "source": [
    "predictors.head()"
   ]
  },
  {
   "cell_type": "code",
   "execution_count": 8,
   "metadata": {
    "button": false,
    "deletable": true,
    "new_sheet": false,
    "run_control": {
     "read_only": false
    }
   },
   "outputs": [],
   "source": [
    "target.head()"
   ]
  },
  {
   "cell_type": "markdown",
   "metadata": {
    "button": false,
    "deletable": true,
    "new_sheet": false,
    "run_control": {
     "read_only": false
    }
   },
   "source": [
    "Finally, the last step is to normalize the data by substracting the mean and dividing by the standard deviation.\n"
   ]
  },
  {
   "cell_type": "code",
   "execution_count": 9,
   "metadata": {
    "button": false,
    "deletable": true,
    "new_sheet": false,
    "run_control": {
     "read_only": false
    }
   },
   "outputs": [],
   "source": [
    "predictors_norm = (predictors - predictors.mean()) / predictors.std()\n",
    "predictors_norm.head()"
   ]
  },
  {
   "cell_type": "markdown",
   "metadata": {},
   "source": [
    "Let's save the number of predictors to *n_cols* since we will need this number when building our network.\n"
   ]
  },
  {
   "cell_type": "code",
   "execution_count": 10,
   "metadata": {
    "button": false,
    "deletable": true,
    "new_sheet": false,
    "run_control": {
     "read_only": false
    }
   },
   "outputs": [],
   "source": [
    "n_cols = predictors_norm.shape[1] # number of predictors"
   ]
  },
  {
   "cell_type": "markdown",
   "metadata": {
    "button": false,
    "deletable": true,
    "new_sheet": false,
    "run_control": {
     "read_only": false
    }
   },
   "source": [
    "<a id=\"item1\"></a>\n"
   ]
  },
  {
   "cell_type": "markdown",
   "metadata": {},
   "source": [
    "<a id='item32'></a>\n"
   ]
  },
  {
   "cell_type": "markdown",
   "metadata": {
    "button": false,
    "deletable": true,
    "new_sheet": false,
    "run_control": {
     "read_only": false
    }
   },
   "source": [
    "## Import Keras\n"
   ]
  },
  {
   "cell_type": "markdown",
   "metadata": {
    "button": false,
    "deletable": true,
    "new_sheet": false,
    "run_control": {
     "read_only": false
    }
   },
   "source": [
    "Recall from the videos that Keras normally runs on top of a low-level library such as TensorFlow. This means that to be able to use the Keras library, you will have to install TensorFlow first and when you import the Keras library, it will be explicitly displayed what backend was used to install the Keras library. In CC Labs, we used TensorFlow as the backend to install Keras, so it should clearly print that when we import Keras.\n"
   ]
  },
  {
   "cell_type": "markdown",
   "metadata": {
    "button": false,
    "deletable": true,
    "new_sheet": false,
    "run_control": {
     "read_only": false
    }
   },
   "source": [
    "#### Let's go ahead and import the Keras library\n"
   ]
  },
  {
   "cell_type": "code",
   "execution_count": 11,
   "metadata": {
    "button": false,
    "deletable": true,
    "new_sheet": false,
    "run_control": {
     "read_only": false
    }
   },
   "outputs": [],
   "source": [
    "import keras"
   ]
  },
  {
   "cell_type": "markdown",
   "metadata": {
    "button": false,
    "deletable": true,
    "new_sheet": false,
    "run_control": {
     "read_only": false
    }
   },
   "source": [
    "As you can see, the TensorFlow backend was used to install the Keras library.\n"
   ]
  },
  {
   "cell_type": "markdown",
   "metadata": {
    "button": false,
    "deletable": true,
    "new_sheet": false,
    "run_control": {
     "read_only": false
    }
   },
   "source": [
    "Let's import the rest of the packages from the Keras library that we will need to build our regressoin model.\n"
   ]
  },
  {
   "cell_type": "code",
   "execution_count": 13,
   "metadata": {
    "button": false,
    "deletable": true,
    "new_sheet": false,
    "run_control": {
     "read_only": false
    }
   },
   "outputs": [],
   "source": [
    "from keras.models import Sequential\n",
    "from keras.layers import Dense"
   ]
  },
  {
   "cell_type": "markdown",
   "metadata": {},
   "source": [
    "<a id='item33'></a>\n"
   ]
  },
  {
   "cell_type": "markdown",
   "metadata": {
    "button": false,
    "deletable": true,
    "new_sheet": false,
    "run_control": {
     "read_only": false
    }
   },
   "source": [
    "## Build a Neural Network\n"
   ]
  },
  {
   "cell_type": "markdown",
   "metadata": {
    "button": false,
    "deletable": true,
    "new_sheet": false,
    "run_control": {
     "read_only": false
    }
   },
   "source": [
    "Let's define a function that defines our regression model for us so that we can conveniently call it to create our model.\n"
   ]
  },
  {
   "cell_type": "code",
   "execution_count": 14,
   "metadata": {
    "button": false,
    "deletable": true,
    "new_sheet": false,
    "run_control": {
     "read_only": false
    }
   },
   "outputs": [],
   "source": [
    "# define regression model\n",
    "def regression_model():\n",
    "    # create model\n",
    "    model = Sequential()\n",
    "    model.add(Dense(50, activation='relu', input_shape=(n_cols,)))\n",
    "    model.add(Dense(50, activation='relu'))\n",
    "    model.add(Dense(1))\n",
    "    \n",
    "    # compile model\n",
    "    model.compile(optimizer='adam', loss='mean_squared_error')\n",
    "    return model"
   ]
  },
  {
   "cell_type": "markdown",
   "metadata": {},
   "source": [
    "The above function create a model that has two hidden layers, each of 50 hidden units.\n"
   ]
  },
  {
   "cell_type": "markdown",
   "metadata": {
    "button": false,
    "deletable": true,
    "new_sheet": false,
    "run_control": {
     "read_only": false
    }
   },
   "source": [
    "<a id=\"item4\"></a>\n"
   ]
  },
  {
   "cell_type": "markdown",
   "metadata": {},
   "source": [
    "<a id='item34'></a>\n"
   ]
  },
  {
   "cell_type": "markdown",
   "metadata": {
    "button": false,
    "deletable": true,
    "new_sheet": false,
    "run_control": {
     "read_only": false
    }
   },
   "source": [
    "## Train and Test the Network\n"
   ]
  },
  {
   "cell_type": "markdown",
   "metadata": {},
   "source": [
    "Let's call the function now to create our model.\n"
   ]
  },
  {
   "cell_type": "code",
   "execution_count": 15,
   "metadata": {
    "button": false,
    "deletable": true,
    "new_sheet": false,
    "run_control": {
     "read_only": false
    }
   },
   "outputs": [
    {
     "name": "stdout",
     "output_type": "stream",
     "text": [
      "WARNING:tensorflow:From /home/jupyterlab/conda/envs/python/lib/python3.7/site-packages/keras/backend/tensorflow_backend.py:68: The name tf.get_default_graph is deprecated. Please use tf.compat.v1.get_default_graph instead.\n",
      "\n",
      "WARNING:tensorflow:From /home/jupyterlab/conda/envs/python/lib/python3.7/site-packages/keras/backend/tensorflow_backend.py:508: The name tf.placeholder is deprecated. Please use tf.compat.v1.placeholder instead.\n",
      "\n",
      "WARNING:tensorflow:From /home/jupyterlab/conda/envs/python/lib/python3.7/site-packages/keras/backend/tensorflow_backend.py:3837: The name tf.random_uniform is deprecated. Please use tf.random.uniform instead.\n",
      "\n",
      "WARNING:tensorflow:From /home/jupyterlab/conda/envs/python/lib/python3.7/site-packages/keras/optimizers.py:757: The name tf.train.Optimizer is deprecated. Please use tf.compat.v1.train.Optimizer instead.\n",
      "\n"
     ]
    }
   ],
   "source": [
    "# build the model\n",
    "model = regression_model()"
   ]
  },
  {
   "cell_type": "markdown",
   "metadata": {},
   "source": [
    "Next, we will train and test the model at the same time using the *fit* method. We will leave out 30% of the data for validation and we will train the model for 100 epochs.\n"
   ]
  },
  {
   "cell_type": "code",
   "execution_count": 16,
   "metadata": {
    "collapsed": true,
    "jupyter": {
     "outputs_hidden": true
    },
    "tags": []
   },
   "outputs": [
    {
     "name": "stdout",
     "output_type": "stream",
     "text": [
      "WARNING:tensorflow:From /home/jupyterlab/conda/envs/python/lib/python3.7/site-packages/keras/backend/tensorflow_backend.py:977: The name tf.assign_add is deprecated. Please use tf.compat.v1.assign_add instead.\n",
      "\n",
      "WARNING:tensorflow:From /home/jupyterlab/conda/envs/python/lib/python3.7/site-packages/keras/backend/tensorflow_backend.py:964: The name tf.assign is deprecated. Please use tf.compat.v1.assign instead.\n",
      "\n",
      "Train on 721 samples, validate on 309 samples\n",
      "Epoch 1/100\n"
     ]
    },
    {
     "name": "stderr",
     "output_type": "stream",
     "text": [
      "2022-12-03 18:45:55.961359: I tensorflow/core/platform/cpu_feature_guard.cc:142] Your CPU supports instructions that this TensorFlow binary was not compiled to use: SSE4.1 SSE4.2 AVX AVX2 AVX512F FMA\n",
      "2022-12-03 18:45:55.967739: I tensorflow/core/platform/profile_utils/cpu_utils.cc:94] CPU Frequency: 2394310000 Hz\n",
      "2022-12-03 18:45:55.968604: I tensorflow/compiler/xla/service/service.cc:168] XLA service 0x55cde3134170 executing computations on platform Host. Devices:\n",
      "2022-12-03 18:45:55.968652: I tensorflow/compiler/xla/service/service.cc:175]   StreamExecutor device (0): <undefined>, <undefined>\n",
      "2022-12-03 18:45:56.236414: W tensorflow/compiler/jit/mark_for_compilation_pass.cc:1412] (One-time warning): Not using XLA:CPU for cluster because envvar TF_XLA_FLAGS=--tf_xla_cpu_global_jit was not set.  If you want XLA:CPU, either set that envvar, or use experimental_jit_scope to enable XLA:CPU.  To confirm that XLA is active, pass --vmodule=xla_compilation_cache=1 (as a proper command-line flag, not via TF_XLA_FLAGS) or set the envvar XLA_FLAGS=--xla_hlo_profile.\n"
     ]
    },
    {
     "name": "stdout",
     "output_type": "stream",
     "text": [
      " - 1s - loss: 1665.4045 - val_loss: 1153.5487\n",
      "Epoch 2/100\n",
      " - 0s - loss: 1533.4955 - val_loss: 1025.5210\n",
      "Epoch 3/100\n",
      " - 0s - loss: 1323.9512 - val_loss: 822.8363\n",
      "Epoch 4/100\n",
      " - 0s - loss: 1002.5747 - val_loss: 567.3386\n",
      "Epoch 5/100\n",
      " - 0s - loss: 636.6279 - val_loss: 336.0366\n",
      "Epoch 6/100\n",
      " - 0s - loss: 361.7896 - val_loss: 209.8148\n",
      "Epoch 7/100\n",
      " - 0s - loss: 256.4513 - val_loss: 182.2603\n",
      "Epoch 8/100\n",
      " - 0s - loss: 229.2807 - val_loss: 179.3436\n",
      "Epoch 9/100\n",
      " - 0s - loss: 215.0400 - val_loss: 175.1397\n",
      "Epoch 10/100\n",
      " - 0s - loss: 204.4998 - val_loss: 171.3708\n",
      "Epoch 11/100\n",
      " - 0s - loss: 194.5409 - val_loss: 167.7466\n",
      "Epoch 12/100\n",
      " - 0s - loss: 187.1918 - val_loss: 164.4789\n",
      "Epoch 13/100\n",
      " - 0s - loss: 180.9224 - val_loss: 162.0918\n",
      "Epoch 14/100\n",
      " - 0s - loss: 176.0404 - val_loss: 159.5089\n",
      "Epoch 15/100\n",
      " - 0s - loss: 171.6353 - val_loss: 158.5826\n",
      "Epoch 16/100\n",
      " - 0s - loss: 167.7997 - val_loss: 155.8835\n",
      "Epoch 17/100\n",
      " - 0s - loss: 164.6691 - val_loss: 154.7343\n",
      "Epoch 18/100\n",
      " - 0s - loss: 161.3722 - val_loss: 153.8971\n",
      "Epoch 19/100\n",
      " - 0s - loss: 158.8022 - val_loss: 154.7673\n",
      "Epoch 20/100\n",
      " - 0s - loss: 156.4760 - val_loss: 151.3410\n",
      "Epoch 21/100\n",
      " - 0s - loss: 153.6781 - val_loss: 154.1631\n",
      "Epoch 22/100\n",
      " - 0s - loss: 151.3521 - val_loss: 153.4583\n",
      "Epoch 23/100\n",
      " - 0s - loss: 149.4551 - val_loss: 154.0122\n",
      "Epoch 24/100\n",
      " - 0s - loss: 147.2517 - val_loss: 151.4944\n",
      "Epoch 25/100\n",
      " - 0s - loss: 145.1601 - val_loss: 152.6121\n",
      "Epoch 26/100\n",
      " - 0s - loss: 143.3928 - val_loss: 155.1506\n",
      "Epoch 27/100\n",
      " - 0s - loss: 141.9605 - val_loss: 152.9556\n",
      "Epoch 28/100\n",
      " - 0s - loss: 140.3924 - val_loss: 154.4092\n",
      "Epoch 29/100\n",
      " - 0s - loss: 138.1368 - val_loss: 153.2578\n",
      "Epoch 30/100\n",
      " - 0s - loss: 137.5689 - val_loss: 154.0597\n",
      "Epoch 31/100\n",
      " - 0s - loss: 135.6324 - val_loss: 155.3802\n",
      "Epoch 32/100\n",
      " - 0s - loss: 134.3522 - val_loss: 155.8533\n",
      "Epoch 33/100\n",
      " - 0s - loss: 132.8738 - val_loss: 155.1370\n",
      "Epoch 34/100\n",
      " - 0s - loss: 130.9910 - val_loss: 153.0569\n",
      "Epoch 35/100\n",
      " - 0s - loss: 129.7425 - val_loss: 156.1831\n",
      "Epoch 36/100\n",
      " - 0s - loss: 128.2469 - val_loss: 154.9826\n",
      "Epoch 37/100\n",
      " - 0s - loss: 126.3174 - val_loss: 153.8819\n",
      "Epoch 38/100\n",
      " - 0s - loss: 124.4291 - val_loss: 154.8083\n",
      "Epoch 39/100\n",
      " - 0s - loss: 123.4887 - val_loss: 158.3786\n",
      "Epoch 40/100\n",
      " - 0s - loss: 121.2952 - val_loss: 153.6477\n",
      "Epoch 41/100\n",
      " - 0s - loss: 119.6157 - val_loss: 155.5622\n",
      "Epoch 42/100\n",
      " - 0s - loss: 118.3489 - val_loss: 156.2790\n",
      "Epoch 43/100\n",
      " - 0s - loss: 116.1633 - val_loss: 158.9998\n",
      "Epoch 44/100\n",
      " - 0s - loss: 114.6203 - val_loss: 153.5555\n",
      "Epoch 45/100\n",
      " - 0s - loss: 112.6587 - val_loss: 157.5624\n",
      "Epoch 46/100\n",
      " - 0s - loss: 110.5029 - val_loss: 153.6455\n",
      "Epoch 47/100\n",
      " - 0s - loss: 108.6106 - val_loss: 152.5541\n",
      "Epoch 48/100\n",
      " - 0s - loss: 106.5249 - val_loss: 156.7639\n",
      "Epoch 49/100\n",
      " - 0s - loss: 104.5246 - val_loss: 156.6197\n",
      "Epoch 50/100\n",
      " - 0s - loss: 102.0820 - val_loss: 155.4030\n",
      "Epoch 51/100\n",
      " - 0s - loss: 100.1383 - val_loss: 155.4665\n",
      "Epoch 52/100\n",
      " - 0s - loss: 97.4313 - val_loss: 152.5702\n",
      "Epoch 53/100\n",
      " - 0s - loss: 94.9023 - val_loss: 154.8892\n",
      "Epoch 54/100\n",
      " - 0s - loss: 92.9483 - val_loss: 152.3102\n",
      "Epoch 55/100\n",
      " - 0s - loss: 90.6740 - val_loss: 156.7102\n",
      "Epoch 56/100\n",
      " - 0s - loss: 87.9328 - val_loss: 153.5398\n",
      "Epoch 57/100\n",
      " - 0s - loss: 85.2796 - val_loss: 152.2069\n",
      "Epoch 58/100\n",
      " - 0s - loss: 83.8628 - val_loss: 155.8675\n",
      "Epoch 59/100\n",
      " - 0s - loss: 82.2067 - val_loss: 159.3973\n",
      "Epoch 60/100\n",
      " - 0s - loss: 78.5201 - val_loss: 149.7705\n",
      "Epoch 61/100\n",
      " - 0s - loss: 76.3946 - val_loss: 151.8793\n",
      "Epoch 62/100\n",
      " - 0s - loss: 74.2526 - val_loss: 150.6226\n",
      "Epoch 63/100\n",
      " - 0s - loss: 72.3446 - val_loss: 152.6335\n",
      "Epoch 64/100\n",
      " - 0s - loss: 70.3228 - val_loss: 149.9147\n",
      "Epoch 65/100\n",
      " - 0s - loss: 68.4255 - val_loss: 155.4414\n",
      "Epoch 66/100\n",
      " - 0s - loss: 67.7682 - val_loss: 155.4931\n",
      "Epoch 67/100\n",
      " - 0s - loss: 65.0826 - val_loss: 153.5447\n",
      "Epoch 68/100\n",
      " - 0s - loss: 62.9255 - val_loss: 154.7462\n",
      "Epoch 69/100\n",
      " - 0s - loss: 62.0251 - val_loss: 148.1776\n",
      "Epoch 70/100\n",
      " - 0s - loss: 60.1269 - val_loss: 150.1992\n",
      "Epoch 71/100\n",
      " - 0s - loss: 58.4226 - val_loss: 160.4793\n",
      "Epoch 72/100\n",
      " - 0s - loss: 56.7385 - val_loss: 154.5136\n",
      "Epoch 73/100\n",
      " - 0s - loss: 55.1484 - val_loss: 161.0884\n",
      "Epoch 74/100\n",
      " - 0s - loss: 53.6612 - val_loss: 158.3482\n",
      "Epoch 75/100\n",
      " - 0s - loss: 52.6003 - val_loss: 169.5042\n",
      "Epoch 76/100\n",
      " - 0s - loss: 51.8638 - val_loss: 156.4446\n",
      "Epoch 77/100\n",
      " - 0s - loss: 50.6397 - val_loss: 166.7873\n",
      "Epoch 78/100\n",
      " - 0s - loss: 49.6546 - val_loss: 171.5949\n",
      "Epoch 79/100\n",
      " - 0s - loss: 48.4235 - val_loss: 163.1296\n",
      "Epoch 80/100\n",
      " - 0s - loss: 47.6085 - val_loss: 157.3532\n",
      "Epoch 81/100\n",
      " - 0s - loss: 46.9655 - val_loss: 171.9174\n",
      "Epoch 82/100\n",
      " - 0s - loss: 46.0248 - val_loss: 171.0326\n",
      "Epoch 83/100\n",
      " - 0s - loss: 44.8079 - val_loss: 174.4079\n",
      "Epoch 84/100\n",
      " - 0s - loss: 44.1388 - val_loss: 163.5768\n",
      "Epoch 85/100\n",
      " - 0s - loss: 43.8166 - val_loss: 173.6772\n",
      "Epoch 86/100\n",
      " - 0s - loss: 42.8076 - val_loss: 177.1384\n",
      "Epoch 87/100\n",
      " - 0s - loss: 41.8687 - val_loss: 163.8400\n",
      "Epoch 88/100\n",
      " - 0s - loss: 42.1811 - val_loss: 173.3670\n",
      "Epoch 89/100\n",
      " - 0s - loss: 41.1831 - val_loss: 169.8605\n",
      "Epoch 90/100\n",
      " - 0s - loss: 40.3497 - val_loss: 177.8435\n",
      "Epoch 91/100\n",
      " - 0s - loss: 40.0850 - val_loss: 162.0555\n",
      "Epoch 92/100\n",
      " - 0s - loss: 39.3770 - val_loss: 182.4246\n",
      "Epoch 93/100\n",
      " - 0s - loss: 38.8648 - val_loss: 170.5589\n",
      "Epoch 94/100\n",
      " - 0s - loss: 38.2082 - val_loss: 179.9427\n",
      "Epoch 95/100\n",
      " - 0s - loss: 38.1153 - val_loss: 179.5282\n",
      "Epoch 96/100\n",
      " - 0s - loss: 37.3644 - val_loss: 168.1426\n",
      "Epoch 97/100\n",
      " - 0s - loss: 38.2756 - val_loss: 185.1135\n",
      "Epoch 98/100\n",
      " - 0s - loss: 36.3854 - val_loss: 171.5657\n",
      "Epoch 99/100\n",
      " - 0s - loss: 36.2229 - val_loss: 168.6761\n",
      "Epoch 100/100\n",
      " - 0s - loss: 36.1004 - val_loss: 173.0878\n"
     ]
    },
    {
     "data": {
      "text/plain": [
       "<keras.callbacks.History at 0x7f1b86545e90>"
      ]
     },
     "execution_count": 16,
     "metadata": {},
     "output_type": "execute_result"
    }
   ],
   "source": [
    "# fit the model\n",
    "model.fit(predictors_norm, target, validation_split=0.3, epochs=100, verbose=2)"
   ]
  },
  {
   "cell_type": "markdown",
   "metadata": {
    "button": false,
    "deletable": true,
    "new_sheet": false,
    "run_control": {
     "read_only": false
    },
    "tags": []
   },
   "source": [
    "<strong>You can refer to this [link](https://keras.io/models/sequential/?utm_medium=Exinfluencer&utm_source=Exinfluencer&utm_content=000026UJ&utm_term=10006555&utm_id=NA-SkillsNetwork-Channel-SkillsNetworkCoursesIBMDeveloperSkillsNetworkDL0101ENSkillsNetwork20718188-2022-01-01) to learn about other functions that you can use for prediction or evaluation.</strong>\n"
   ]
  },
  {
   "cell_type": "markdown",
   "metadata": {
    "button": false,
    "deletable": true,
    "new_sheet": false,
    "run_control": {
     "read_only": false
    }
   },
   "source": [
    "Feel free to vary the following and note what impact each change has on the model's performance:\n",
    "\n",
    "1.  Increase or decreate number of neurons in hidden layers\n",
    "2.  Add more hidden layers\n",
    "3.  Increase number of epochs\n"
   ]
  },
  {
   "cell_type": "markdown",
   "metadata": {
    "button": false,
    "deletable": true,
    "new_sheet": false,
    "run_control": {
     "read_only": false
    }
   },
   "source": [
    "### Thank you for completing this lab!\n",
    "\n",
    "This notebook was created by [Alex Aklson](https://www.linkedin.com/in/aklson/?utm_medium=Exinfluencer&utm_source=Exinfluencer&utm_content=000026UJ&utm_term=10006555&utm_id=NA-SkillsNetwork-Channel-SkillsNetworkCoursesIBMDeveloperSkillsNetworkDL0101ENSkillsNetwork20718188-2022-01-01). I hope you found this lab interesting and educational. Feel free to contact me if you have any questions!\n"
   ]
  },
  {
   "cell_type": "markdown",
   "metadata": {},
   "source": [
    "## Change Log\n",
    "\n",
    "| Date (YYYY-MM-DD) | Version | Changed By | Change Description                                          |\n",
    "| ----------------- | ------- | ---------- | ----------------------------------------------------------- |\n",
    "| 2020-09-21        | 2.0     | Srishti    | Migrated Lab to Markdown and added to course repo in GitLab |\n",
    "\n",
    "<hr>\n",
    "\n",
    "## <h3 align=\"center\"> © IBM Corporation 2020. All rights reserved. <h3/>\n"
   ]
  },
  {
   "cell_type": "markdown",
   "metadata": {
    "button": false,
    "deletable": true,
    "new_sheet": false,
    "run_control": {
     "read_only": false
    }
   },
   "source": [
    "This notebook is part of a course on **Coursera** called *Introduction to Deep Learning & Neural Networks with Keras*. If you accessed this notebook outside the course, you can take this course online by clicking [here](https://cocl.us/DL0101EN_Coursera_Week3\\_LAB1).\n"
   ]
  },
  {
   "cell_type": "markdown",
   "metadata": {
    "button": false,
    "deletable": true,
    "new_sheet": false,
    "run_control": {
     "read_only": false
    }
   },
   "source": [
    "<hr>\n",
    "\n",
    "Copyright © 2019 [IBM Developer Skills Network](https://cognitiveclass.ai/?utm_medium=dswb&utm_source=bducopyrightlink&utm_content=000026UJ&utm_term=10006555&utm_id=NA-SkillsNetwork-Channel-SkillsNetworkCoursesIBMDeveloperSkillsNetworkDL0101ENSkillsNetwork20718188-2022-01-01&utm_campaign=bdu). This notebook and its source code are released under the terms of the [MIT License](https://bigdatauniversity.com/mit-license/?utm_medium=Exinfluencer&utm_source=Exinfluencer&utm_content=000026UJ&utm_term=10006555&utm_id=NA-SkillsNetwork-Channel-SkillsNetworkCoursesIBMDeveloperSkillsNetworkDL0101ENSkillsNetwork20718188-2022-01-01).\n"
   ]
  }
 ],
 "metadata": {
  "kernelspec": {
   "display_name": "Python",
   "language": "python",
   "name": "conda-env-python-py"
  },
  "language_info": {
   "codemirror_mode": {
    "name": "ipython",
    "version": 3
   },
   "file_extension": ".py",
   "mimetype": "text/x-python",
   "name": "python",
   "nbconvert_exporter": "python",
   "pygments_lexer": "ipython3",
   "version": "3.7.12"
  }
 },
 "nbformat": 4,
 "nbformat_minor": 4
}
